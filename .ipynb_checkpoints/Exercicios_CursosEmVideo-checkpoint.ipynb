{
 "cells": [
  {
   "cell_type": "code",
   "execution_count": 3,
   "id": "065c60be",
   "metadata": {},
   "outputs": [
    {
     "name": "stdout",
     "output_type": "stream",
     "text": [
      "Olá, mundo! CURSO DE PYTHON GUSTAVO GUANABARA\n"
     ]
    }
   ],
   "source": [
    "print(\"Olá, mundo! CURSO DE PYTHON GUSTAVO GUANABARA\")"
   ]
  },
  {
   "cell_type": "code",
   "execution_count": 4,
   "id": "49495889",
   "metadata": {},
   "outputs": [
    {
     "name": "stdout",
     "output_type": "stream",
     "text": [
      "Digite o seu nome: Wémenson\n",
      "É um prazer te conhecer, Guanabara!\n"
     ]
    }
   ],
   "source": [
    "#Exercício 02 - Respodendo ao usuário\n",
    "\n",
    "nome = input(\"Digite o seu nome: \")\n",
    "print(\"É um prazer te conhecer, Guanabara!\")\n"
   ]
  },
  {
   "cell_type": "code",
   "execution_count": 12,
   "id": "5a37e160",
   "metadata": {},
   "outputs": [
    {
     "name": "stdout",
     "output_type": "stream",
     "text": [
      "Digite um valor: 5\n",
      "Digite outro valor: 9\n",
      "A soma entre 5 e 9 é igual a 14\n"
     ]
    }
   ],
   "source": [
    "#Exercicio 03 - Somando dois números\n",
    "\n",
    "n1 = int(input('Digite um valor: '))\n",
    "n2 = int(input('Digite outro valor: '))\n",
    "s = n1+n2\n",
    "print(f'A soma entre {n1} e {n2} é igual a {s}')"
   ]
  },
  {
   "cell_type": "code",
   "execution_count": 24,
   "id": "a1deca1f",
   "metadata": {},
   "outputs": [
    {
     "name": "stdout",
     "output_type": "stream",
     "text": [
      "Digite algo: a\n",
      "o tipo primitivo desse valor é, <class 'str'>\n",
      "Só tem espaços?  False\n",
      "É um número?  False\n",
      "É alfabético?  True\n",
      "É alfanumérico True\n",
      "Está em maiúsculas False\n",
      "Está em minúscalas True\n",
      "Está capitalizado False\n"
     ]
    }
   ],
   "source": [
    "#Exercício 04 - Dissecando uma varável\n",
    "\n",
    "a = input(\"Digite algo: \")\n",
    "print(f'o tipo primitivo desse valor é, {type(a)}')\n",
    "print('Só tem espaços? ', a.isspace())\n",
    "print('É um número? ', a.isnumeric())\n",
    "print('É alfabético? ', a.isalpha())\n",
    "print('É alfanumérico', a.isalnum())\n",
    "print('Está em maiúsculas', a.isupper())\n",
    "print('Está em minúscalas', a.islower() )\n",
    "print('Está capitalizado', a.istitle())\n"
   ]
  },
  {
   "cell_type": "code",
   "execution_count": 26,
   "id": "f6c02748",
   "metadata": {},
   "outputs": [
    {
     "name": "stdout",
     "output_type": "stream",
     "text": [
      "Digite um valor: 2\n",
      "Analisando o valor 2, seu antecessor é 1 e o sucessor é 3\n"
     ]
    }
   ],
   "source": [
    "#Exercício 05 - Antecessor e sucessor\n",
    "\n",
    "nvalor = int(input('Digite um valor: '))\n",
    "print(f'Analisando o valor {nvalor}, seu antecessor é {nvalor-1} e o sucessor é {nvalor+1}')\n",
    "\n"
   ]
  },
  {
   "cell_type": "code",
   "execution_count": null,
   "id": "548d5c3e",
   "metadata": {},
   "outputs": [],
   "source": [
    "#Exercício 06 - Dobro, triplo, raiz quadrada"
   ]
  },
  {
   "cell_type": "code",
   "execution_count": null,
   "id": "7f2d437e",
   "metadata": {},
   "outputs": [],
   "source": []
  },
  {
   "cell_type": "code",
   "execution_count": null,
   "id": "c8ca49a5",
   "metadata": {},
   "outputs": [],
   "source": []
  },
  {
   "cell_type": "code",
   "execution_count": null,
   "id": "dace77be",
   "metadata": {},
   "outputs": [],
   "source": []
  }
 ],
 "metadata": {
  "kernelspec": {
   "display_name": "Python 3 (ipykernel)",
   "language": "python",
   "name": "python3"
  },
  "language_info": {
   "codemirror_mode": {
    "name": "ipython",
    "version": 3
   },
   "file_extension": ".py",
   "mimetype": "text/x-python",
   "name": "python",
   "nbconvert_exporter": "python",
   "pygments_lexer": "ipython3",
   "version": "3.9.7"
  }
 },
 "nbformat": 4,
 "nbformat_minor": 5
}
