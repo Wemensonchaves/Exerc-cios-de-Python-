{
 "cells": [
  {
   "cell_type": "code",
   "execution_count": 3,
   "id": "e134c251",
   "metadata": {},
   "outputs": [
    {
     "name": "stdout",
     "output_type": "stream",
     "text": [
      "Olá, mundo! CURSO DE PYTHON GUSTAVO GUANABARA\n"
     ]
    }
   ],
   "source": [
    "print(\"Olá, mundo! CURSO DE PYTHON GUSTAVO GUANABARA\")"
   ]
  },
  {
   "cell_type": "code",
   "execution_count": 4,
   "id": "f2f550d0",
   "metadata": {},
   "outputs": [
    {
     "name": "stdout",
     "output_type": "stream",
     "text": [
      "Digite o seu nome: Wémenson\n",
      "É um prazer te conhecer, Guanabara!\n"
     ]
    }
   ],
   "source": [
    "#Exercício 02 - Respodendo ao usuário\n",
    "\n",
    "nome = input(\"Digite o seu nome: \")\n",
    "print(\"É um prazer te conhecer, Guanabara!\")\n"
   ]
  },
  {
   "cell_type": "code",
   "execution_count": 12,
   "id": "3ea4ac3b",
   "metadata": {},
   "outputs": [
    {
     "name": "stdout",
     "output_type": "stream",
     "text": [
      "Digite um valor: 5\n",
      "Digite outro valor: 9\n",
      "A soma entre 5 e 9 é igual a 14\n"
     ]
    }
   ],
   "source": [
    "#Exercicio 03 - Somando dois números\n",
    "\n",
    "n1 = int(input('Digite um valor: '))\n",
    "n2 = int(input('Digite outro valor: '))\n",
    "s = n1+n2\n",
    "print(f'A soma entre {n1} e {n2} é igual a {s}')"
   ]
  },
  {
   "cell_type": "code",
   "execution_count": 1,
   "id": "7feed409",
   "metadata": {},
   "outputs": [
    {
     "name": "stdout",
     "output_type": "stream",
     "text": [
      "Digite algo: Wémenson\n",
      "o tipo primitivo desse valor é, <class 'str'>\n",
      "Só tem espaços?  False\n",
      "É um número?  False\n",
      "É alfabético?  True\n",
      "É alfanumérico True\n",
      "Está em maiúsculas False\n",
      "Está em minúscalas False\n",
      "Está capitalizado True\n"
     ]
    }
   ],
   "source": [
    "#Exercício 04 - Dissecando uma varável\n",
    "\n",
    "a = input(\"Digite algo: \")\n",
    "print(f'o tipo primitivo desse valor é, {type(a)}')\n",
    "print('Só tem espaços? ', a.isspace())\n",
    "print('É um número? ', a.isnumeric())\n",
    "print('É alfabético? ', a.isalpha())\n",
    "print('É alfanumérico', a.isalnum())\n",
    "print('Está em maiúsculas', a.isupper())\n",
    "print('Está em minúscalas', a.islower() )\n",
    "print('Está capitalizado', a.istitle())\n"
   ]
  },
  {
   "cell_type": "code",
   "execution_count": 26,
   "id": "00d4bb26",
   "metadata": {},
   "outputs": [
    {
     "name": "stdout",
     "output_type": "stream",
     "text": [
      "Digite um valor: 2\n",
      "Analisando o valor 2, seu antecessor é 1 e o sucessor é 3\n"
     ]
    }
   ],
   "source": [
    "#Exercício 05 - Antecessor e sucessor\n",
    "\n",
    "nvalor = int(input('Digite um valor: '))\n",
    "print(f'Analisando o valor {nvalor}, seu antecessor é {nvalor-1} e o sucessor é {nvalor+1}')\n",
    "\n"
   ]
  },
  {
   "cell_type": "code",
   "execution_count": 29,
   "id": "a35083d4",
   "metadata": {},
   "outputs": [
    {
     "name": "stdout",
     "output_type": "stream",
     "text": [
      "Digite um valor: 25\n",
      "O dobro de 25 vale 50.\n",
      "O triplo de 25 vale 75\n",
      "A raiz quadrada de 25 é 25\n"
     ]
    }
   ],
   "source": [
    "#Exercício 06 - Dobro, triplo, raiz quadrada\n",
    "n = int(input('Digite um valor: '))\n",
    "print(f'O dobro de {n} vale {n*2}.')\n",
    "print(f'O triplo de {n} vale {n*3}')\n",
    "print(f'A raiz quadrada de {n} é {n}')\n",
    "\n"
   ]
  },
  {
   "cell_type": "code",
   "execution_count": 3,
   "id": "69819532",
   "metadata": {},
   "outputs": [
    {
     "name": "stdout",
     "output_type": "stream",
     "text": [
      "Primeira nota do aluno:5.5\n",
      "Segunda nota do aluno:2\n",
      "A média entre 5.5 e 2 é igual a 3.75\n"
     ]
    }
   ],
   "source": [
    "#Exercício Python #007 - Média Aritmética\n",
    "nota1 = float(input(\"Primeira nota do aluno:\"))\n",
    "nota2 = int(input(\"Segunda nota do aluno:\"))\n",
    "print(f\"A média entre {nota1} e {nota2} é igual a {(nota1+nota2)/2}\")\n",
    "\n"
   ]
  },
  {
   "cell_type": "code",
   "execution_count": 8,
   "id": "9686daa2",
   "metadata": {},
   "outputs": [
    {
     "name": "stdout",
     "output_type": "stream",
     "text": [
      "Uma distância em metro: 3\n",
      "A medida de 3.0 m corresponde a\n",
      "0.003km\n",
      "0.03hm\n",
      "0.3dm\n",
      "30.0dm\n",
      "300.0cm\n",
      "3000.0mm\n"
     ]
    }
   ],
   "source": [
    "#Exercício Python #008 - Conversor de Medidas\n",
    "dist = float(input(\"Uma distância em metro: \"))\n",
    "print(f\"A medida de {dist:.1f} m corresponde a\")\n",
    "print(f\"{dist/1000}km\")\n",
    "print(f\"{dist/100}hm\")\n",
    "print(f\"{dist/10}dm\")\n",
    "print(f\"{dist*10}dm\")\n",
    "print(f\"{dist*100}cm\")\n",
    "print(f\"{dist*1000}mm\")\n"
   ]
  },
  {
   "cell_type": "code",
   "execution_count": 15,
   "id": "e478cf19",
   "metadata": {},
   "outputs": [
    {
     "name": "stdout",
     "output_type": "stream",
     "text": [
      "Difite um número para ver sua tabuada: 4\n",
      "------------\n",
      "4 x 0 = 0\n",
      "4 x 1 = 4\n",
      "4 x 2 = 8\n",
      "4 x 3 = 12\n",
      "4 x 4 = 16\n",
      "4 x 5 = 20\n",
      "4 x 6 = 24\n",
      "4 x 7 = 28\n",
      "4 x 8 = 32\n",
      "4 x 9 = 36\n",
      "------------\n"
     ]
    }
   ],
   "source": [
    "#Exercício Python #009 - Tabuada\n",
    "tabuada = int(input(\"Digite um número para ver sua tabuada: \"))\n",
    "\"\"\"c= 1\n",
    "if tabuada >c:\n",
    "    print(f\"{tabuada}*{c}={tabuada*c}\")\n",
    "    c= + 1\n",
    "\"\"\"\n",
    "print(\"-\"*12)\n",
    "print(f\"{tabuada} x {0} = {tabuada*0}\")\n",
    "print(f\"{tabuada} x {1} = {tabuada*1}\")\n",
    "print(f\"{tabuada} x {2} = {tabuada*2}\")\n",
    "print(f\"{tabuada} x {3} = {tabuada*3}\")\n",
    "print(f\"{tabuada} x {4} = {tabuada*4}\")\n",
    "print(f\"{tabuada} x {5} = {tabuada*5}\")\n",
    "print(f\"{tabuada} x {6} = {tabuada*6}\")\n",
    "print(f\"{tabuada} x {7} = {tabuada*7}\")\n",
    "print(f\"{tabuada} x {8} = {tabuada*8}\")\n",
    "print(f\"{tabuada} x {9} = {tabuada*9}\")\n",
    "print(\"-\"*12)\n"
   ]
  },
  {
   "cell_type": "code",
   "execution_count": 3,
   "id": "782aff24",
   "metadata": {},
   "outputs": [
    {
     "name": "stdout",
     "output_type": "stream",
     "text": [
      "Quanto dinheiro você tem na carteira? R$100\n",
      "Com R$100.0 você pode comprar US$19.38\n"
     ]
    }
   ],
   "source": [
    "#Exercício Python #010 - Conversor de Moedas\n",
    "money = float(input(\"Quanto dinheiro você tem na carteira? R$\"))\n",
    "print(f\"Com R${money} você pode comprar US${money/5.16:.2f}\")\n"
   ]
  },
  {
   "cell_type": "code",
   "execution_count": 6,
   "id": "8887d1bd",
   "metadata": {},
   "outputs": [
    {
     "name": "stdout",
     "output_type": "stream",
     "text": [
      "Largura da parede: 3\n",
      "Altura da parede: 2\n",
      "Sua parede tem a dimensão de 3.00x2.00 m e sua área é de 6.00 m^2.\n",
      "Para pintar essa parede, você precisara de de 3.0\n"
     ]
    }
   ],
   "source": [
    "#Exercício Python #011 - Pintando Parede\n",
    "lar = float(input(\"Largura da parede: \"))\n",
    "alt = float(input(\"Altura da parede: \"))\n",
    "area = lar*alt\n",
    "print(f\"Sua parede tem a dimensão de {lar:.2f}x{alt:.2f} m e sua área é de {area:.2f} m^2.\")\n",
    "print(f\"Para pintar essa parede, você precisara de de {area/2}\")\n"
   ]
  },
  {
   "cell_type": "code",
   "execution_count": 2,
   "id": "6c00a0e9",
   "metadata": {},
   "outputs": [
    {
     "name": "stdout",
     "output_type": "stream",
     "text": [
      "Qual é o preço do produto? R$100\n",
      "O produto que custava R$ 100.0, na promoção com desconto de 5% vai custar 95.0\n"
     ]
    }
   ],
   "source": [
    "#Exercício Python #012 - Calculando Descontos\n",
    "preço = float(input(\"Qual é o preço do produto? R$\"))\n",
    "novo  = preço - (preço*5 / 100)\n",
    "print(f\"O produto que custava R$ {preço}, na promoção com desconto de 5% vai custar {novo}\")\n"
   ]
  },
  {
   "cell_type": "code",
   "execution_count": 21,
   "id": "2dbd7e0a",
   "metadata": {},
   "outputs": [
    {
     "name": "stdout",
     "output_type": "stream",
     "text": [
      "Qual é o seu salário do funcionário? R$1708\n",
      "Um funcionário que ganhava R$1708.00, com 15% de aumento, passa a receber R$1964.20.\n"
     ]
    }
   ],
   "source": [
    "#Exercício Python #013 - Reajuste Salarial\n",
    "salario = float(input(\"Qual é o seu salário do funcionário? R$\"))\n",
    "novo = salario + (salario*15/100)\n",
    "print(f\"Um funcionário que ganhava R${salario:.2f}, com 15% de aumento, passa a receber R${novo:.2f}.\")\n",
    "\n"
   ]
  },
  {
   "cell_type": "code",
   "execution_count": 4,
   "id": "e3444b3b",
   "metadata": {},
   "outputs": [
    {
     "name": "stdout",
     "output_type": "stream",
     "text": [
      "Informe a temperatura em °C: 31.5\n",
      "A temperatura de 31.5°C corresponde a 88.7F!\n"
     ]
    }
   ],
   "source": [
    "#Exercício Python #014 - Conversor de Temperaturas\n",
    "temp = float(input(\"Informe a temperatura em °C: \"))\n",
    "convert = (temp*9/5)+32\n",
    "print(f\"A temperatura de {temp}°C corresponde a {convert}F!\")\n",
    "\n"
   ]
  },
  {
   "cell_type": "code",
   "execution_count": 10,
   "id": "1bd7cb9d",
   "metadata": {},
   "outputs": [
    {
     "name": "stdout",
     "output_type": "stream",
     "text": [
      "Quantos dias alugados? 5\n",
      "Quantos km rodados? 46\n",
      "O total a pagar é de R$306.90\n"
     ]
    }
   ],
   "source": [
    "#Exercício Python #015 - Aluguel de Carros\n",
    "dias = int(input(\"Quantos dias alugados? \"))\n",
    "km = float(input(\"Quantos km rodados? \"))\n",
    "pago = (dias*60)+(km*0.15)\n",
    "print(f\"O total a pagar é de R${pago:.2f}\")\n"
   ]
  },
  {
   "cell_type": "code",
   "execution_count": 21,
   "id": "44db362c",
   "metadata": {},
   "outputs": [
    {
     "name": "stdout",
     "output_type": "stream",
     "text": [
      "Digite um valor: 25.75\n",
      "O valor digitado foi 25.75 e sua porção inteira é 25\n"
     ]
    }
   ],
   "source": [
    "'''#Exercício Python #016 - Quebrando um número\n",
    "import math #Importando a biblioteca matemática \n",
    "inter = float(input(\"Digite um valor:\"))\n",
    "print(f\"O valor digitado foi {inter} e sua porção inteira é {math.trunc(inter)}\")\n",
    "print('O valor digitado foi {} e sua porção inteira é {}'.format(inter, math.trunc(inter)))\n",
    "\n",
    "#Outra maneira \n",
    "\n",
    "from math import trunc #Importanod só a função\n",
    "inter = float(input(\"Digite um valor: \"))\n",
    "print(f\"O valor digitado foi {inter} e sua porção inteira é {math.trunc(inter)}\")'''\n",
    "\n",
    "num = float(input('Digite um valor: '))\n",
    "print(f'O valor digitado foi {num} e sua porção inteira é {int(num)}') #Sem utilizar função"
   ]
  },
  {
   "cell_type": "code",
   "execution_count": 7,
   "id": "2831f877",
   "metadata": {},
   "outputs": [
    {
     "name": "stdout",
     "output_type": "stream",
     "text": [
      "Comprimento do cateto oposto: 2\n",
      "Comprimento do cateto adjacente: 2.5\n",
      "A hipotenusa vai medir 3.20\n",
      "Comprimento do cateto oposto: 2\n",
      "Comprimento do cateto adjacente: 2.5\n",
      "A hipotenusa vai medir 3.20\n"
     ]
    }
   ],
   "source": [
    "#Exercício Python #017 - Catetos e Hipotenusa\n",
    "co = float(input('Comprimento do cateto oposto: '))\n",
    "ca = float(input('Comprimento do cateto adjacente: '))\n",
    "hi = (co**2 + ca**2)**(1/2)\n",
    "print(f'A hipotenusa vai medir {hi:.2f}')\n",
    "\n",
    "#Com importação\n",
    "#import math\n",
    "from math import hypot\n",
    "co = float(input('Comprimento do cateto oposto: '))\n",
    "ca = float(input('Comprimento do cateto adjacente: '))\n",
    "hi = math.hypot(co, ca)\n",
    "print(f'A hipotenusa vai medir {hi:.2f}')"
   ]
  },
  {
   "cell_type": "code",
   "execution_count": 12,
   "id": "b5bf5265",
   "metadata": {},
   "outputs": [
    {
     "name": "stdout",
     "output_type": "stream",
     "text": [
      "Digite o ângulo que vc deseja: 30\n",
      "O ângulo de 30.0 tem SENO de 0.50\n",
      "O ângulo de 30.0 tem COSSENO de 0.87\n",
      "O ângulo de 30.0 tem TANGENTE DE 0.58\n"
     ]
    }
   ],
   "source": [
    "#Exercício Python #018 - Seno, Cosseno e Tangente\n",
    "from math import radians, sin, cos, tan\n",
    "ângulo = float(input('Digite o ângulo que vc deseja: '))\n",
    "seno = math.sin(math.radians(ângulo))\n",
    "print(f\"O ângulo de {ângulo} tem SENO de {seno:.2f}\")\n",
    "cosseno = math.cos(math.radians(ângulo))\n",
    "print(f\"O ângulo de {ângulo} tem COSSENO de {cosseno:.2f}\")\n",
    "tangente = math.tan(math.radians(ângulo))\n",
    "print(f\"O ângulo de {ângulo} tem TANGENTE DE {tangente:.2f}\")"
   ]
  },
  {
   "cell_type": "code",
   "execution_count": 2,
   "id": "62687a5a",
   "metadata": {},
   "outputs": [
    {
     "name": "stdout",
     "output_type": "stream",
     "text": [
      "Primeiro aluno: Joana\n",
      "Segundo aluno: Kaio\n",
      "Terceiro aluno: Alan\n",
      "Quarto aluno: Saulo\n",
      "O aluno escolhido foi Saulo\n"
     ]
    }
   ],
   "source": [
    "#Exercício Python #019 - Sorteando um item na lista\n",
    "\"\"\"import random #importanto biblioteca de sorteio\n",
    "n1 = str(input('Primeiro aluno: '))\n",
    "n2 = str(input('Segundo aluno: '))\n",
    "n3 = str(input('Terceiro aluno: '))\n",
    "n4 = str(input('Quarto aluno: '))\n",
    "\n",
    "lista = [n1,n2,n3,n4]\n",
    "escolhido = random.choice(lista)\n",
    "print(f'O aluno escolhido foi {escolhido}')\"\"\"\n",
    "\n",
    "from random import choice #importando somente a função choice\n",
    "import random #importanto biblioteca de sorteio\n",
    "n1 = str(input('Primeiro aluno: '))\n",
    "n2 = str(input('Segundo aluno: '))\n",
    "n3 = str(input('Terceiro aluno: '))\n",
    "n4 = str(input('Quarto aluno: '))\n",
    "\n",
    "lista = [n1,n2,n3,n4]\n",
    "escolhido = choice(lista)\n",
    "print(f'O aluno escolhido foi {escolhido}')\n"
   ]
  },
  {
   "cell_type": "code",
   "execution_count": 6,
   "id": "39942e7a",
   "metadata": {},
   "outputs": [
    {
     "name": "stdout",
     "output_type": "stream",
     "text": [
      "Primeiro aluno: Augusto\n",
      "Segundo aluno: Luís\n",
      "Terceiro aluno: Saulo\n",
      "Quarto aluno: Romulo\n",
      "['Augusto', 'Luís', 'Saulo', 'Romulo']\n",
      "A ordem de apresentação será \n",
      "['Luís', 'Romulo', 'Saulo', 'Augusto']\n"
     ]
    }
   ],
   "source": [
    "#Exercício Python #020 - Sorteando uma ordem na lista\n",
    "from random import shuffle\n",
    "n1 = str(input('Primeiro aluno: '))\n",
    "n2 = str(input('Segundo aluno: '))\n",
    "n3 = str(input('Terceiro aluno: '))\n",
    "n4 = str(input('Quarto aluno: '))\n",
    "lista = [n1,n2,n3,n4]\n",
    "print(lista)\n",
    "shuffle(lista)\n",
    "print('A ordem de apresentação será ')\n",
    "print(lista)"
   ]
  },
  {
   "cell_type": "code",
   "execution_count": 7,
   "id": "3eb7e67d",
   "metadata": {},
   "outputs": [
    {
     "ename": "ModuleNotFoundError",
     "evalue": "No module named 'pygame'",
     "output_type": "error",
     "traceback": [
      "\u001b[1;31m---------------------------------------------------------------------------\u001b[0m",
      "\u001b[1;31mModuleNotFoundError\u001b[0m                       Traceback (most recent call last)",
      "\u001b[1;32m~\\AppData\\Local\\Temp/ipykernel_20592/3280906115.py\u001b[0m in \u001b[0;36m<module>\u001b[1;34m\u001b[0m\n\u001b[0;32m      1\u001b[0m \u001b[1;31m#Exercício Python #021 - Tocando um MP3\u001b[0m\u001b[1;33m\u001b[0m\u001b[1;33m\u001b[0m\u001b[0m\n\u001b[1;32m----> 2\u001b[1;33m \u001b[1;32mimport\u001b[0m \u001b[0mpygame\u001b[0m\u001b[1;33m\u001b[0m\u001b[1;33m\u001b[0m\u001b[0m\n\u001b[0m\u001b[0;32m      3\u001b[0m \u001b[0mpygame\u001b[0m\u001b[1;33m.\u001b[0m\u001b[0minit\u001b[0m\u001b[1;33m(\u001b[0m\u001b[1;33m)\u001b[0m\u001b[1;33m\u001b[0m\u001b[1;33m\u001b[0m\u001b[0m\n\u001b[0;32m      4\u001b[0m \u001b[0mpygame\u001b[0m\u001b[1;33m.\u001b[0m\u001b[0mmixer\u001b[0m\u001b[1;33m.\u001b[0m\u001b[0mmusic\u001b[0m\u001b[1;33m.\u001b[0m\u001b[0mload\u001b[0m\u001b[1;33m(\u001b[0m\u001b[1;34m'ex021.mp3'\u001b[0m\u001b[1;33m)\u001b[0m\u001b[1;33m\u001b[0m\u001b[1;33m\u001b[0m\u001b[0m\n\u001b[0;32m      5\u001b[0m \u001b[0mpygame\u001b[0m\u001b[1;33m.\u001b[0m\u001b[0mmixer\u001b[0m\u001b[1;33m.\u001b[0m\u001b[0mmusic\u001b[0m\u001b[1;33m.\u001b[0m\u001b[0mplay\u001b[0m\u001b[1;33m(\u001b[0m\u001b[1;33m)\u001b[0m\u001b[1;33m\u001b[0m\u001b[1;33m\u001b[0m\u001b[0m\n",
      "\u001b[1;31mModuleNotFoundError\u001b[0m: No module named 'pygame'"
     ]
    }
   ],
   "source": [
    "#Exercício Python #021 - Tocando um MP3\n",
    "import pygame\n",
    "pygame.init()\n",
    "pygame.mixer.music.load('ex021.mp3')\n",
    "pygame.mixer.music.play()\n",
    "pygame.event.wait()\n"
   ]
  },
  {
   "cell_type": "code",
   "execution_count": 61,
   "id": "9d876e6b",
   "metadata": {},
   "outputs": [
    {
     "name": "stdout",
     "output_type": "stream",
     "text": [
      "Curso em Vídeo Python\n",
      "s\n",
      "Curso em Víd\n",
      "urso em Vídeo \n",
      "us mVdo\n",
      "Croe íe yhn\n",
      "3\n",
      "3\n",
      "21\n",
      "21\n",
      "Curso em Vídeo Android\n",
      "-1\n",
      "9\n",
      "e\n",
      "Curso em vídeo python\n"
     ]
    }
   ],
   "source": [
    "#Curso de Python #09 - Manipulando Texto\n",
    "frase =  'Curso em Vídeo Python'\n",
    "print(frase)\n",
    "print(frase[3])\n",
    "print(frase[:12])\n",
    "print(frase[1:15])\n",
    "print(frase[1:15:2])\n",
    "print(frase[::2])\n",
    "print(frase.count('o')) #Contar quantas vezes o \"o\" minúsculo na frase\n",
    "print(frase.upper().count('O')) #Jogo a frase para maiúsculo e conto quantas vezes aparece o \"O\" maísculo\n",
    "print(len(frase)) #conta a quantidade de caracteres\n",
    "print(len(frase.strip())) #Strip remove os caracteres\n",
    "print(frase.replace('Python','Android')) #substitui uma palavra pela outra\n",
    "print(frase.find('vídeo')) #posição da palavra\n",
    "print(frase.lower().find('vídeo')) #Primeira letra minuscula e depois encontrar a posição da palavra\n",
    "dividido = (frase.split())\n",
    "print(dividido[2][3])\n",
    "print(frase.capitalize()) #Primeira letra maiúscula\n"
   ]
  },
  {
   "cell_type": "code",
   "execution_count": 39,
   "id": "37c267f9",
   "metadata": {},
   "outputs": [
    {
     "name": "stdout",
     "output_type": "stream",
     "text": [
      "Digite o seu nome completo: José Wémenson Rabelo Chaves\n",
      "Analisando o seu nome...\n",
      "Seu nome em MAIÚSCULA é: JOSÉ WÉMENSON RABELO CHAVES \n",
      "Seu nome em minúscula é: josé wémenson rabelo chaves\n",
      "Seu nome tem ao todo 24 letras\n",
      "Seu primeiro nome é 4 e ele tem 4 letras\n"
     ]
    }
   ],
   "source": [
    "#Exercício Python #022 - Analisador de Textos\n",
    "nome = str(input(\"Digite o seu nome completo: \")).strip() #remover o espaço antes e depois\n",
    "espacos = (nome.count(' '))\n",
    "separar = nome.split\n",
    "print(\"Analisando o seu nome...\")\n",
    "print(f'Seu nome em MAIÚSCULA é: {nome.upper()} ')\n",
    "print(f'Seu nome em minúscula é: {nome.lower()}')\n",
    "print(f'Seu nome tem ao todo {(len(nome) - espacos)} letras')\n",
    "primeiro = nome.find(' ')\n",
    "print(f'Seu primeiro nome é {primeiro} e ele tem {primeiro} letras')\n"
   ]
  },
  {
   "cell_type": "code",
   "execution_count": 4,
   "id": "d792d1b6",
   "metadata": {},
   "outputs": [
    {
     "name": "stdout",
     "output_type": "stream",
     "text": [
      "Informe um número: 1258\n",
      "Analisando o 1258...\n",
      "Unidade: 8\n",
      "Dezena: 5\n",
      "Centena: 2\n",
      "Milhar: 1\n"
     ]
    }
   ],
   "source": [
    "#Exercício Python #023 - Separando dígitos de um número\n",
    "num = int(input(\"Informe um número: \"))\n",
    "u = num // 1 % 10\n",
    "d = num // 10 % 10\n",
    "c = num // 100 % 10\n",
    "m = num // 1000 % 10\n",
    "print(f\"Analisando o {num}...\")\n",
    "print(f'Unidade: {u}')\n",
    "print(f'Dezena: {d}')\n",
    "print(f'Centena: {c}')\n",
    "print(f'Milhar: {m}')"
   ]
  },
  {
   "cell_type": "code",
   "execution_count": 5,
   "id": "417cd201",
   "metadata": {},
   "outputs": [
    {
     "name": "stdout",
     "output_type": "stream",
     "text": [
      "Em que cidade você nasceu? Morada Nova\n",
      "False\n"
     ]
    }
   ],
   "source": [
    "#Exercício Python #024 - Verificando as primeiras letras de um texto\n",
    "cid = str(input(\"Em que cidade você nasceu? \")).strip()\n",
    "print(cid[:5].upper() == \"SANTO\")\n"
   ]
  },
  {
   "cell_type": "code",
   "execution_count": 6,
   "id": "c9f87ee1",
   "metadata": {},
   "outputs": [
    {
     "name": "stdout",
     "output_type": "stream",
     "text": [
      "Qual o seu nome completo: José Wémenson Rabelo Chaves\n",
      "Seu nome tem Silva? False\n"
     ]
    }
   ],
   "source": [
    "#Exercício Python #025 - Procurando uma string dentro de outra\n",
    "nome = str(input('Qual o seu nome completo: ')).strip().upper()\n",
    "silva = nome.split()\n",
    "print(\"Seu nome tem Silva?\", \"SILVA\" in silva)\n",
    "\n"
   ]
  },
  {
   "cell_type": "code",
   "execution_count": 5,
   "id": "b019d32a",
   "metadata": {},
   "outputs": [
    {
     "name": "stdout",
     "output_type": "stream",
     "text": [
      "Insira sua frase:José Wémenson Rabelo Chaves\n",
      "A letra \"a\" aparece 2 vezes\n",
      "A letra \"a\" aparece a primeira vez na posição 16\n",
      "A ultima letra \"a\" aparece na 24\n"
     ]
    }
   ],
   "source": [
    "#Exercício Python #026 - Primeira e última ocorrência de uma string\n",
    "\"\"\"frase = str(input('Digite uma frase: ')).strip().upper()\n",
    "# Quantas vezes aparece o caractere 'A'\n",
    "p1 = frase.count('A')\n",
    "print('A letra \"A\" aparece {} vezes na frase!'.format(p1))\n",
    "# Primeria ocorrencia da string 'A'\n",
    "p2 = frase.find('A')\n",
    "print('A letra \"A\" aparece pela primeira vez na posição {}!'.format(p2))\n",
    "# Ultima ocorrencia da string 'A'\n",
    "p3 = frase.rfind('A')\n",
    "print('A letra \"A\" aparece pela ultima vez na posição {}!'.format(p3))\"\"\"\n",
    "\n",
    "frase = str(input('Insira sua frase:')).strip().lower()\n",
    "print(f'A letra \"a\" aparece {frase.count(\"a\")} vezes')\n",
    "print(f'A letra \"a\" aparece a primeira vez na posição {frase.find(\"a\") + 1}')\n",
    "print(f'A ultima letra \"a\" aparece na {frase.rfind(\"a\") + 1}')"
   ]
  },
  {
   "cell_type": "code",
   "execution_count": 7,
   "id": "72ba5e09",
   "metadata": {},
   "outputs": [
    {
     "name": "stdout",
     "output_type": "stream",
     "text": [
      "Digite seu nome completo: Jose Wémeson rabelo\n",
      "Muito prazer em te conhecer\n",
      "Seu primeiro nome é Jose\n",
      "Seu último nome é rabelo\n"
     ]
    }
   ],
   "source": [
    "#Exercício Python #027 - Primeiro e último nome de uma pessoa\n",
    "n = str(input('Digite seu nome completo: ')).strip()\n",
    "nome = n.split()\n",
    "print(\"Muito prazer em te conhecer\")\n",
    "print(\"Seu primeiro nome é {}\".format(nome[0]))\n",
    "print(\"Seu último nome é {}\".format(nome[len(nome)-1]))"
   ]
  },
  {
   "cell_type": "code",
   "execution_count": 5,
   "id": "08539f9a",
   "metadata": {},
   "outputs": [
    {
     "name": "stdout",
     "output_type": "stream",
     "text": [
      "Digite a primeira nota: 8\n",
      "Digite a segunda nota: 2\n",
      "A sua média foi 5.0\n",
      "ESTUDE MAIS\n"
     ]
    }
   ],
   "source": [
    "#Curso Python #10 - Condições (Parte 1)\n",
    "#Condições simples e compostas / simplificadas \n",
    "\"\"\"tempo = int(input(\"Quantos anos tem seu carro? \"))\n",
    "if tempo <= 3:\n",
    "    print(\"Carro novo\")\n",
    "else:\n",
    "    print(\"carro velho\")\n",
    "print(\"--FIM--\")\"\"\"\n",
    "\n",
    "\"\"\"nome = str(input('Qual é seu nome? '))\n",
    "if nome == 'Gustavo':\n",
    "    print('Que nome lindo vc tem!')\n",
    "else:\n",
    "    print('Seu nome é tão normal')\n",
    "print(f'Bom dia,{nome}')\"\"\"\n",
    "\n",
    "n1 = float(input('Digite a primeira nota: '))\n",
    "n2 = float(input('Digite a segunda nota: '))\n",
    "n = (n1+n2)/2\n",
    "print(f'A sua média foi {n:.1f}')\n",
    "\"\"\"if n >= 6.0:\n",
    "    print('Sua média foi boa. Parabéns!')\n",
    "else:\n",
    "    print('Sua média foi ruim. ESTUDE MAIS')\"\"\"\n",
    "print('PARABÉNS' if n>= 6 else 'ESTUDE MAIS')"
   ]
  },
  {
   "cell_type": "code",
   "execution_count": 8,
   "id": "2e3395d5",
   "metadata": {},
   "outputs": [
    {
     "name": "stdout",
     "output_type": "stream",
     "text": [
      "-=--=-=--=-=--=-=--=-=--=-=--=-=--=-=--=-=--=-=--=-=--=-=--=-=--=-=--=-=--=-=--=-=--=-=--=-=--=-=--=\n",
      "Vou pensar em um número entre 0 e 5. Tente adivinhar...\n",
      "-=--=-=--=-=--=-=--=-=--=-=--=-=--=-=--=-=--=-=--=-=--=-=--=-=--=-=--=-=--=-=--=-=--=-=--=-=--=-=--=\n"
     ]
    },
    {
     "ename": "NameError",
     "evalue": "name 'random' is not defined",
     "output_type": "error",
     "traceback": [
      "\u001b[1;31m---------------------------------------------------------------------------\u001b[0m",
      "\u001b[1;31mNameError\u001b[0m                                 Traceback (most recent call last)",
      "\u001b[1;32m~\\AppData\\Local\\Temp/ipykernel_18920/2573367269.py\u001b[0m in \u001b[0;36m<module>\u001b[1;34m\u001b[0m\n\u001b[0;32m      4\u001b[0m \u001b[0mprint\u001b[0m\u001b[1;33m(\u001b[0m\u001b[1;34m'Vou pensar em um número entre 0 e 5. Tente adivinhar...'\u001b[0m\u001b[1;33m)\u001b[0m\u001b[1;33m\u001b[0m\u001b[1;33m\u001b[0m\u001b[0m\n\u001b[0;32m      5\u001b[0m \u001b[0mprint\u001b[0m\u001b[1;33m(\u001b[0m\u001b[1;34m'-=--='\u001b[0m\u001b[1;33m*\u001b[0m\u001b[1;36m20\u001b[0m\u001b[1;33m)\u001b[0m\u001b[1;33m\u001b[0m\u001b[1;33m\u001b[0m\u001b[0m\n\u001b[1;32m----> 6\u001b[1;33m \u001b[0mx\u001b[0m \u001b[1;33m=\u001b[0m \u001b[0mrandom\u001b[0m\u001b[1;33m.\u001b[0m\u001b[0mrandint\u001b[0m\u001b[1;33m(\u001b[0m\u001b[1;36m0\u001b[0m\u001b[1;33m,\u001b[0m\u001b[1;36m5\u001b[0m\u001b[1;33m)\u001b[0m\u001b[1;33m\u001b[0m\u001b[1;33m\u001b[0m\u001b[0m\n\u001b[0m\u001b[0;32m      7\u001b[0m \u001b[0my\u001b[0m \u001b[1;33m=\u001b[0m \u001b[0mint\u001b[0m\u001b[1;33m(\u001b[0m\u001b[0minput\u001b[0m\u001b[1;33m(\u001b[0m\u001b[1;34m'Em que número eu pensei? '\u001b[0m\u001b[1;33m)\u001b[0m\u001b[1;33m)\u001b[0m\u001b[1;33m\u001b[0m\u001b[1;33m\u001b[0m\u001b[0m\n\u001b[0;32m      8\u001b[0m \u001b[0mprint\u001b[0m\u001b[1;33m(\u001b[0m\u001b[1;34m'PROCESSANDO.....'\u001b[0m\u001b[1;33m)\u001b[0m\u001b[1;33m\u001b[0m\u001b[1;33m\u001b[0m\u001b[0m\n",
      "\u001b[1;31mNameError\u001b[0m: name 'random' is not defined"
     ]
    }
   ],
   "source": [
    "#Exercício Python #028 - Jogo da Adivinhação v.1.0\n",
    "from random import randint\n",
    "print('-=--='*20)\n",
    "print('Vou pensar em um número entre 0 e 5. Tente adivinhar...')\n",
    "print('-=--='*20)\n",
    "x = random.randint(0,5)\n",
    "y = int(input('Em que número eu pensei? '))\n",
    "print('PROCESSANDO.....')\n",
    "if y != x:\n",
    "    print(f'GANHEI! Eu pensei no número {x} e não no {y}')\n",
    "else:\n",
    "    print(f'PARABÉNS! Eu pensei no número {x} e você também pensou no número {y}')\n",
    "\n",
    "#Outra forma de ser feito\n",
    "import random\n",
    "nums = [0,1,2,3,4,5]\n",
    "np = random.choice(nums) #pegar dentro de uma lista\n",
    "print('Vou pensar em um número de 0 a 5... Tente adivinhar qual é o número! ')\n",
    "\n",
    "adivinhe = int(input('Qual é o número? '))\n",
    "if adivinhe == (np):\n",
    "    print('Você ganhou!')\n",
    "else:\n",
    "    print('O computador venceu')"
   ]
  },
  {
   "cell_type": "code",
   "execution_count": 35,
   "id": "7235c935",
   "metadata": {},
   "outputs": [
    {
     "name": "stdout",
     "output_type": "stream",
     "text": [
      "Qual a velocidade atual do carro? 125\n",
      "MULTADO! você excedeu o limite permitido que é de 80 km/h \n",
      "Você deve pagar uma multa de R$ 125.00\n",
      "Tenha um boa noite! Dirija com segurança!\n"
     ]
    }
   ],
   "source": [
    "#Exercício Python #029 - Radar eletrônico\n",
    "import time\n",
    "horaAtual = time.strftime('%H:%M', time.localtime()) #Hora local\n",
    "vel = float(input(\"Qual a velocidade atual do carro? \"))\n",
    "if vel >= 80: \n",
    "    print('MULTADO! você excedeu o limite permitido que é de 80 km/h ')\n",
    "    multa = (vel-80)*7\n",
    "    print(f\"Você deve pagar uma multa de R$ {vel:.2f}\")\n",
    "if horaAtual >= '05:00' and horaAtual <='12:00': \n",
    "    print(\"Tenha um bom dia! Dirija com segurança!\")\n",
    "elif horaAtual >'12:00' and horaAtual <='17:59':\n",
    "    print(\"Tenha um boa tarde! Dirija com segurança!\")\n",
    "else:\n",
    "    print(\"Tenha um boa noite! Dirija com segurança!\")"
   ]
  },
  {
   "cell_type": "code",
   "execution_count": 37,
   "id": "169dbb31",
   "metadata": {},
   "outputs": [
    {
     "name": "stdout",
     "output_type": "stream",
     "text": [
      "Me diga um número qualquer: 1\n",
      "O número 1 é ÍMPAR\n"
     ]
    }
   ],
   "source": [
    "#Exercício Python #030 - Par ou Ímpar?\n",
    "num = int(input(f'Me diga um número qualquer: '))\n",
    "\n",
    "if (num%2) == 0:\n",
    "    print(f'O número {num} é PAR')\n",
    "else:\n",
    "    print(f'O número {num} é ÍMPAR')"
   ]
  },
  {
   "cell_type": "code",
   "execution_count": 18,
   "id": "aab55c1d",
   "metadata": {},
   "outputs": [
    {
     "name": "stdout",
     "output_type": "stream",
     "text": [
      "Qual é a distânia da sua viagem? 210\n",
      "Você está prestes a começar uma viagem de 210.00 km\n",
      "E o preço da sua passagem será de R$ 94.50\n"
     ]
    }
   ],
   "source": [
    "#Exercício Python #031 - Custo da Viagem\n",
    "\"\"\"dist = float(input(\"Qual é a distânia da sua viagem? \"))\n",
    "print(f'Você está prestes a começar uma viagem de {dist} km.')\n",
    "if dist <= 200:\n",
    "    print(f'E o preço da sua passagem será de R$ {dist*0.50:.2f}')\n",
    "else:\n",
    "    print(f'E o preço da sua passagem será de R$ {dist*0.45:.2f}')\"\"\"\n",
    "\n",
    "\"\"\"dist = float(input(\"Qual é a distânia da sua viagem? \"))\n",
    "print(f'Você está prestes a começar uma viagem de {dist} km.')\n",
    "if dist <= 200:\n",
    "    preço = dist*0.50\n",
    "else:\n",
    "    preço = dist*0.45\n",
    "print(f'E o preço da sua passagem será de R$ {preço:.2f}')\"\"\"\n",
    "\n",
    "dist1 = float(input(\"Qual é a distânia da sua viagem? \"))\n",
    "print(f'Você está prestes a começar uma viagem de {dist1:.2f} km')\n",
    "preço1 = dist1 * 0.50 if dist1 <= 200 else dist1 * 0.45 \n",
    "print(f'E o preço da sua passagem será de R$ {preço1:.2f}')"
   ]
  },
  {
   "cell_type": "code",
   "execution_count": 39,
   "id": "86c87163",
   "metadata": {},
   "outputs": [
    {
     "name": "stdout",
     "output_type": "stream",
     "text": [
      "Que ano quer analisar? Coloque 0 para analisar o ano atual: 400\n",
      "O ano de 400 é um ano bissexto\n"
     ]
    }
   ],
   "source": [
    "#Exercício Python #032 - Ano Bissexto\n",
    "from datetime import date\n",
    "ano = int(input('Que ano quer analisar? Coloque 0 para analisar o ano atual: '))\n",
    "ano_atual = date.today().year\n",
    "if ano == 0:\n",
    "    if ano_atual % 4 == 0 and ano_atual % 100 != 0 or ano_atual % 400 == 0:\n",
    "        print(f\"O ano de {ano_atual} é um ano bissexto\")\n",
    "    else:\n",
    "        print(f\"O ano de {ano_atual} não é bissexto\")\n",
    "else:\n",
    "    if ano % 4 == 0 and ano % 100 != 0 or ano % 400 == 0:\n",
    "        print(f\"O ano de {ano} é um ano bissexto\")\n",
    "    else:\n",
    "        print(f\"O ano de {ano} não é bissexto\")\n",
    " "
   ]
  },
  {
   "cell_type": "code",
   "execution_count": 9,
   "id": "89694ded",
   "metadata": {},
   "outputs": [
    {
     "name": "stdout",
     "output_type": "stream",
     "text": [
      "Primeiro valor: 2\n",
      "Segundo valor: 12\n",
      "Terceiro valor: 5\n",
      "O menor valor digitado foi 2\n",
      "O maior valor digitado foi 12\n",
      "[2, 5, 12]\n",
      "O maior número é 12 e o menor é 2\n",
      "O menor valor digitado foi 2\n",
      "O maior valor digitado foi 12\n"
     ]
    }
   ],
   "source": [
    "#Exercício Python #033 - Maior e menor valores\n",
    "#Primeira forma de resolver\n",
    "a = int(input('Primeiro valor: '))\n",
    "b = int(input('Segundo valor: '))\n",
    "c = int(input('Terceiro valor: '))\n",
    "menor = a\n",
    "#Verificando quem é menor\n",
    "if b < a and B < c:\n",
    "    menor = b\n",
    "if c < a and c < b:\n",
    "    menor = c\n",
    "#Verificando quem é o maior\n",
    "maior = a\n",
    "if b > a and b > c:\n",
    "    maior = b\n",
    "if c > a and c > b:\n",
    "    maior = c\n",
    "print(f'O menor valor digitado foi {menor}')\n",
    "print(f'O maior valor digitado foi {maior}')\n",
    "\n",
    "#Segunda forma de resolver\n",
    "i = [a, b ,c]\n",
    "i.sort()  #Colocar na ordem descrescente (menor para o maior)\n",
    "print(i)\n",
    "print(f'O maior número é {i[2]} e o menor é {i[0]}')\n",
    "\n",
    "#Terceira forma de resolver\n",
    "maximo = max(a, b, c)\n",
    "minimo = min(a, b, c)\n",
    "print(f'O menor valor digitado foi {minimo}')\n",
    "print(f'O maior valor digitado foi {maximo}')"
   ]
  },
  {
   "cell_type": "code",
   "execution_count": 14,
   "id": "8fc58824",
   "metadata": {},
   "outputs": [
    {
     "name": "stdout",
     "output_type": "stream",
     "text": [
      "Qual é o salário do funcionário? R$:1350\n",
      "Quem ganhava R$1350.00 passa a ganhar R$1485.00 agora\n"
     ]
    }
   ],
   "source": [
    "#Exercício Python #034 - Aumentos múltiplos\n",
    "salario = float(input('Qual é o salário do funcionário? R$:'))\n",
    "if salario <= 1320:\n",
    "    salario1 = salario*1.15\n",
    "else:\n",
    "    salario1 = salario*1.10\n",
    "print(f\"Quem ganhava R${salario:.2f} passa a ganhar R${salario1:.2f} agora\")"
   ]
  },
  {
   "cell_type": "code",
   "execution_count": null,
   "id": "56ea9d25",
   "metadata": {},
   "outputs": [],
   "source": [
    "#Exercício Python #035 - Analisando Triângulo v1.0\n",
    "print('-=-'*15)\n",
    "print('Analisador de Triângulos')\n",
    "print('-=-'*15)\n",
    "\n",
    "s1 = float(input(f'Digite o primeiro seguimento: '))\n",
    "s2 = float(input(f'Digite o segundo seguimento: '))\n",
    "s3 = float(input(f'Digite o terceiro seguimento: '))\n",
    "\n",
    "if (s1+s2) > s3 and (s1+s3) > s2 and (s2+s3) > s1:\n",
    "    print('Podem formar um triângulo.')\n",
    "else:\n",
    "    print('Não podem formar um triângulo.')"
   ]
  },
  {
   "cell_type": "code",
   "execution_count": null,
   "id": "bd8cf191",
   "metadata": {},
   "outputs": [],
   "source": [
    "#Curso Python #11 - Cores no Terminal\n",
    "\n"
   ]
  },
  {
   "cell_type": "code",
   "execution_count": 11,
   "id": "50774d2e",
   "metadata": {},
   "outputs": [
    {
     "name": "stdout",
     "output_type": "stream",
     "text": [
      "Qual é seu nome? Wémenson\n",
      "Seu nome é bem normal\n",
      "Tenha um bom dia, Wémenson\n"
     ]
    }
   ],
   "source": [
    "#Curso Python #012 - Condições Aninhadas\n",
    "nome = str(input('Qual é seu nome? '))\n",
    "if nome == 'Gustavo':\n",
    "    print('Que nome bonito')\n",
    "elif nome =='Pedro'or nome == 'Maria' or nome == 'Paulo':\n",
    "    print('Seu nome é bem popular no Brasl!')\n",
    "elif nome in 'Ana Cláudia Jéssica Juliana':\n",
    "    print('Belo nome ')\n",
    "else:\n",
    "    print('Seu nome é bem normal')\n",
    "print(f'Tenha um bom dia, {nome}')"
   ]
  },
  {
   "cell_type": "code",
   "execution_count": 9,
   "id": "0a3ba82e",
   "metadata": {},
   "outputs": [
    {
     "name": "stdout",
     "output_type": "stream",
     "text": [
      "Valor da casa: R$120000\n",
      "Salário do comprador: R$5000\n",
      "Quantos anos de financiamento? 10\n",
      "Para pagar uma casa de R$120000.00 em 10 anos \n",
      "A prestação será de R$1500.0\n",
      "Emprestimo pode ser CONCEDIDO!\n"
     ]
    }
   ],
   "source": [
    "#Exercício Python #036 - Aprovando Empréstimo\n",
    "vc = float(input('Valor da casa: R$'))\n",
    "sc = float(input('Salário do comprador: R$'))\n",
    "af = int(input('Quantos anos de financiamento? '))\n",
    "prestação = vc/(af*12)\n",
    "print(f\"Para pagar uma casa de R${vc:.2f} em {af} anos \")\n",
    "print(f\"A prestação será de R${minimo}\")\n",
    "minimo = sc*0.30\n",
    "if prestação <= minimo:\n",
    "    print(\"Emprestimo pode ser CONCEDIDO!\")\n",
    "else:\n",
    "    print(\"Emprestimo foi NEGADO!\")"
   ]
  },
  {
   "cell_type": "code",
   "execution_count": 9,
   "id": "8c5acd2d",
   "metadata": {},
   "outputs": [
    {
     "name": "stdout",
     "output_type": "stream",
     "text": [
      "Digie um número: 834\n",
      "Escolha uma base para a conversão:\n",
      "[1] converter para BINÁRIO\n",
      "[2] converter para OCTAL\n",
      "[3] converter para HEXADECIMAL\n",
      "Sua opção: 3\n",
      "834 convertendo para OCTAL é igual a 342\n"
     ]
    }
   ],
   "source": [
    "#Exercício Python #037 - Conversor de Bases Numéricas\n",
    "num = int(input(\"Digie um número: \"))\n",
    "print(\"Escolha uma base para a conversão:\\n[1] converter para BINÁRIO\\n[2] converter para OCTAL\\n[3] converter para HEXADECIMAL\")\n",
    "opção = int(input('Sua opção: '))\n",
    "\n",
    "if opção == 1:\n",
    "    print(f'{num} convertendo para BINÁRIO é igual a {bin(num)[2:]}')\n",
    "elif opção == 2:\n",
    "    print(f\"{num} convertendo para OCTAL é igual a {oct(num)[2:]}\")\n",
    "elif opção ==3:\n",
    "    print(f\"{num} convertendo para OCTAL é igual a {hex(num)[2:]}\")\n",
    "else:\n",
    "    print(\"OPÇÃO INVALIDA, TENTE NOVAMENTE\")"
   ]
  },
  {
   "cell_type": "code",
   "execution_count": 14,
   "id": "06f6c0cb",
   "metadata": {},
   "outputs": [
    {
     "name": "stdout",
     "output_type": "stream",
     "text": [
      "Primeiro número: 20\n",
      "Segundo número:5\n",
      "O PRIMEIRO número é maior\n"
     ]
    }
   ],
   "source": [
    "#Exercício Python #038 - Comparando números\n",
    "n1 = int(input(\"Primeiro número: \"))\n",
    "n2 = int(input(\"Segundo número:\" ))\n",
    "\n",
    "if n1 > n2:\n",
    "    print(\"O PRIMEIRO número é maior\")\n",
    "elif n2 > n1:\n",
    "    print(\"O SEGUNDO número é maior\")\n",
    "else:\n",
    "    print(\"Os número são iguais\")"
   ]
  },
  {
   "cell_type": "code",
   "execution_count": 4,
   "id": "28fc3cfd",
   "metadata": {},
   "outputs": [
    {
     "name": "stdout",
     "output_type": "stream",
     "text": [
      "Qual o seu sexo: \n",
      "FEMININO [1]\n",
      "MASCULINO [2] 1\n",
      "No Brasil mulheres não fazem alistamento militar\n",
      "Qual o ano de nascimento? 1996\n",
      "Quem nasceu em 1996 tem 27 em 2023\n",
      "VOCÊ NÃO PRECISA FAZER ALISTAMENTO\n"
     ]
    }
   ],
   "source": [
    "#Exercício Python #039 - Alistamento Militar\n",
    "from datetime import date\n",
    "sexo = int(input(\"Qual o seu sexo: \\nFEMININO [1]\\nMASCULINO [2] \"))\n",
    "\n",
    "if sexo == 1:\n",
    "    print(\"No Brasil mulheres não fazem alistamento militar\")\n",
    "    quit()\n",
    "elif sexo == 2:\n",
    "    print(\"No Brasil você precisa fazer o alistamento miliar\")\n",
    "else:\n",
    "    print(\"OPÇÃO INVALIDA, TENTE NOVAMENTE\")\n",
    "    \n",
    "AN = int(input(\"Qual o ano de nascimento? \"))\n",
    "AT = date.today().year\n",
    "idade = AT-AN\n",
    "\n",
    "print(f\"Quem nasceu em {AN} tem {AT-AN} em {AT}\")\n",
    "if idade == 18 and sexo == 2:\n",
    "    print(\"Deve realizar o seu alistamento IMEDIATAMENTE, procure o orgão de alistamento mais próximo\")\n",
    "elif idade > 18 and sexo == 2:\n",
    "    print(\"Você já deveria ter se alistado há {AT-18}\")\n",
    "    print(\"Seu alistamento foi em {AN+18}\")\n",
    "elif idade < 18 and sexo == 2: #Poderia ser um else\n",
    "    saldo = 18 - idade\n",
    "    print(f'Ainda faltam {saldo} para o alistamento')\n",
    "    print(f'Seu alistamento será em {saldo+AT}')\n",
    "else:\n",
    "    print(\"VOCÊ NÃO PRECISA FAZER ALISTAMENTO, POIS É DO SEXO FEMININO\")"
   ]
  },
  {
   "cell_type": "code",
   "execution_count": 16,
   "id": "69b218eb",
   "metadata": {},
   "outputs": [
    {
     "name": "stdout",
     "output_type": "stream",
     "text": [
      "Primeira nota: 5\n",
      "Segunda nota: 7\n",
      "Tirando 5.00 e 7.00, a média do aluno é 6.0\n",
      "Aluno em RECUPERAÇÃO\n",
      "Terceira nota [AP3]: 8\n",
      "Aluno tirou 8.0 na AP3 e substituiu a nota da AP1, desse modo obteve uma média de 7.5 e foi APROVADO\n"
     ]
    }
   ],
   "source": [
    "#Exercício Python #040 - Aquele clássico da Média\n",
    "\"\"\"n1 = float(input(\"Primeira nota: \"))\n",
    "n2 = float(input(\"Segunda nota: \"))\n",
    "media = (n1+n2)/2\n",
    "print(f\"Tirando {n1:.2f} e {n2:.2f}, a média do aluno é {media}\")\n",
    "if media >= 7:\n",
    "    print(\"Aluno está APROVADO\")\n",
    "elif 7 > media >=5:\n",
    "    print(\"Aluno em RECUPERAÇÃO\")\n",
    "else:\n",
    "    print(\"Aluno REPROVADO\")\"\"\"\n",
    "\n",
    "n1 = float(input('Primeira nota: '))\n",
    "n2 = float(input('Segunda nota: '))\n",
    "media = (n1+n2)/2\n",
    "print(f'Tirando {n1:.2f} e {n2:.2f}, a média do aluno é {media}')\n",
    "if media >= 7:\n",
    "    print(\"Aluno está APROVADO\")\n",
    "elif 7 > media >5:\n",
    "    print('Aluno em RECUPERAÇÃO')\n",
    "    n3 = float(input('Terceira nota [AP3]: '))\n",
    "    #8,00\n",
    "    if n3 >= 5:\n",
    "        if n1> n2:\n",
    "            n2 = n3\n",
    "            nova_media = (n1+n2)/2\n",
    "            print(f'Aluno tirou {n3} na AP3 e substituiu a nota da AP2, desse modo obteve uma média de {nova_media} e foi APROVADO')\n",
    "        else:\n",
    "            n1 = n3\n",
    "            nova_media = (n1+n2)/2\n",
    "            print(f'Aluno tirou {n3} na AP3 e substituiu a nota da AP1, desse modo obteve uma média de {nova_media} e foi APROVADO')\n",
    "    else:\n",
    "        print(f\"Aluno tirou {n3} e não atingiu a nota necessparia para sua aprovação, ou seja, REPROVADO\")\n",
    "else:\n",
    "    print('Aluno REPROVADO')\n",
    "\n"
   ]
  },
  {
   "cell_type": "code",
   "execution_count": 18,
   "id": "ec6b69f6",
   "metadata": {},
   "outputs": [
    {
     "name": "stdout",
     "output_type": "stream",
     "text": [
      "Ano de nascimento: 2000\n",
      "O atleta tem 23 anos.\n",
      "Classificação: SÊNIOR\n"
     ]
    }
   ],
   "source": [
    "#Exercício #041 - Classificando Atletas\n",
    "from datetime import date\n",
    "atual = date.today().year\n",
    "ano = int(input(\"Ano de nascimento: \"))\n",
    "idade = atual - ano\n",
    "print(f\"O atleta tem {idade} anos.\")\n",
    "if idade <= 9:\n",
    "    print(\"Classificação: MIRIM\")\n",
    "elif 9< idade <=14:\n",
    "    print(\"Classificação: INFANTIL\")\n",
    "elif 14< idade <=19:\n",
    "    print(\"Classificação: JUNIOR\")\n",
    "elif 19< idade <=25:\n",
    "    print(\"Classificação: SÊNIOR\")\n",
    "else:\n",
    "    print(\"Classificação: MASTER\")"
   ]
  },
  {
   "cell_type": "code",
   "execution_count": 28,
   "id": "0eb82c63",
   "metadata": {},
   "outputs": [
    {
     "name": "stdout",
     "output_type": "stream",
     "text": [
      "Primeiro segmento: 4\n",
      "Segundo segmento: 2\n",
      "Terceiro segmento: 4\n",
      "Os segmentos acima PODEM FORMAR UM TRIÂNGULO\n",
      "ISÓSCELES!\n"
     ]
    }
   ],
   "source": [
    "#Exercício Python #042 - Analisando Triângulos v2.0\n",
    "r1 = float(input(\"Primeiro segmento: \"))\n",
    "r2 = float(input(\"Segundo segmento: \"))\n",
    "r3 = float(input(\"Terceiro segmento: \"))\n",
    "\n",
    "if r1 < r2+r3 and r2<r1+r3 and r3<r1+r2:\n",
    "    print('Os segmentos acima PODEM FORMAR UM TRIÂNGULO')\n",
    "    if r1==r2 and r2 == r3: #r1==r2==r3\n",
    "        print(\"EQUILÁTERO!\")\n",
    "    elif r1!= r2 != r3 != r1:\n",
    "        print(\"ESCALENO!\")\n",
    "    else:\n",
    "        print(\"ISÓSCELES!\")\n",
    "else:\n",
    "    print(\"Os segmentos cima NÃO PODEM FORMAR TRIÂNGULO\", end='')"
   ]
  },
  {
   "cell_type": "code",
   "execution_count": 36,
   "id": "c18add77",
   "metadata": {},
   "outputs": [
    {
     "name": "stdout",
     "output_type": "stream",
     "text": [
      "Qual o seu peso? (kg) 79\n",
      "Qual é a sua altura? (m) 1.7\n",
      "O IMC dessa pessoa é 27.34\n",
      "EXCESSO DE PESO\n"
     ]
    }
   ],
   "source": [
    "#Exercício Python #043 - Índice de Massa Corporal\n",
    "peso = float(input(\"Qual o seu peso? (kg) \"))\n",
    "altura = float(input(\"Qual é a sua altura? (m) \"))\n",
    "if altura.is_integer():\n",
    "    altura = altura/100\n",
    "print(f\"O IMC dessa pessoa é {peso/(altura*altura):.2f}\")\n",
    "imc = peso/(altura**2)\n",
    "if imc < 18.5:\n",
    "    print(\"ABAIXO DO PESO NORMAL\")\n",
    "elif 18.5 <= imc <24.9:\n",
    "    print(\"PESO NORMAL\")\n",
    "elif 25 <= imc <29.9:\n",
    "    print(\"EXCESSO DE PESO\")\n",
    "elif 30 <= imc <34.9:\n",
    "    print(\"OBESIDADE CLASSE I\")\n",
    "elif 35 <= imc <39.9:\n",
    "    print(\"OBESIDADE CLASSE II\")\n",
    "else:\n",
    "    print(\"OBESIDADE CLASSE III\")"
   ]
  },
  {
   "cell_type": "code",
   "execution_count": 58,
   "id": "aed7b318",
   "metadata": {},
   "outputs": [
    {
     "name": "stdout",
     "output_type": "stream",
     "text": [
      "=============Lojas Gunabara=============\n",
      "Preço das compras: R$ 5000\n",
      "FORMA DE PAGAMENTO\n",
      "[1] à vista dinheir/cheque\n",
      "[2] à vista cartão\n",
      "[3] 2x no cartão\n",
      "[4] 3x ou mais no cartão\n",
      "Qual é a opção?4\n",
      "Quantas parcelas? 7\n",
      "Sua compra será parcelada em 7x de 857.14 COM JUROS\n",
      "Sua compra de 5000.0 vai custar R$6000.00 no final.\n"
     ]
    }
   ],
   "source": [
    "#Exercício Python #044 - Gerenciador de Pagamentos\n",
    "print(f'{\"Lojas Gunabara\":=^40}')\n",
    "preço = float(input(\"Preço das compras: R$ \"))\n",
    "opção = int(input(\"FORMA DE PAGAMENTO\\n[1] à vista dinheir/cheque\\n[2] à vista cartão\\n[3] 2x no cartão\\n[4] 3x ou mais no cartão\\nQual é a opção?\"))\n",
    "if opção == 1:\n",
    "    print(f\"Sua compra de R${preço} vai custar {preço*0.90:.2f} no final.\")\n",
    "elif opção == 2:\n",
    "    print(f\"Sua compra de R${preço} vai custar {preço*0.95:.2f} no final.\")\n",
    "elif opção == 3:\n",
    "    print(f\"Sua compra será parcelada em 2x de {preço/2:.2f} SEM JUROS\")\n",
    "    print(f\"Sua compra de {preço} vai custar R${preço} no final.\")\n",
    "elif opção == 4:\n",
    "    parçelas = int(input(\"Quantas parcelas? \"))\n",
    "    if parçelas ==3:\n",
    "        juros = preço*1.10\n",
    "    elif 4 <= parçelas <6:\n",
    "        juros = preço*1.15\n",
    "    elif 7 <= parçelas <10:\n",
    "        juros = preço*1.20\n",
    "    elif parçelas >= 10:\n",
    "        print(\"Quantidade de parçelas excerde o limite permitido\")\n",
    "    else:\n",
    "        print(\"OPÇÃO INVALIDA\")\n",
    "    print(f\"Sua compra será parcelada em {parçelas}x de {((juros)/parçelas):.2f} COM JUROS\")\n",
    "    print(f\"Sua compra de {preço} vai custar R${juros:.2f} no final.\")"
   ]
  },
  {
   "cell_type": "code",
   "execution_count": 17,
   "id": "7d9583c1",
   "metadata": {},
   "outputs": [
    {
     "name": "stdout",
     "output_type": "stream",
     "text": [
      "Suas opções: \n",
      "[1] PEDRA\n",
      "[2] PAPEL\n",
      "[3] TESOURA\n",
      "Qual é a sua? 1\n",
      "-=--=--=--=--=--=--=--=--=--=--=--=--=--=--=--=--=--=--=--=-\n",
      "Computador jogou TESOURA\n",
      "-=--=--=--=--=--=--=--=--=--=--=--=--=--=--=--=--=--=--=--=-\n",
      "Você GANHOU\n"
     ]
    }
   ],
   "source": [
    "#Exercício Python #045 - GAME: Pedra Papel e Tesoura\n",
    "import random\n",
    "from time import sleep\n",
    "a = int(input(\"Suas opções: \\n[1] PEDRA\\n[2] PAPEL\\n[3] TESOURA\\nQual é a sua? \"))\n",
    "b = random.randint(1,3)\n",
    "if b == 1:\n",
    "    print(\"-=-\"*20)\n",
    "    print(f\"Computador jogou PEDRA\")\n",
    "    print(\"-=-\"*20)\n",
    "    if a == 1:\n",
    "        print(\"EMPATE\")\n",
    "    elif a == 2:\n",
    "        print(\"Você GANHOU\")\n",
    "    else:\n",
    "        print('Você PERDEU')\n",
    "elif b == 2:\n",
    "    print(\"-=-\"*20)\n",
    "    print(f\"Computador jogou PAPEL\")\n",
    "    print(\"-=-\"*20)\n",
    "    if a == 2:\n",
    "        print(\"EMPATE\")\n",
    "    elif a == 3:\n",
    "        print(\"Você GANHOU\")\n",
    "    else:\n",
    "        print('Você PERDEU')\n",
    "elif b == 3:\n",
    "    print(\"-=-\"*20)\n",
    "    print(f\"Computador jogou TESOURA\")\n",
    "    print(\"-=-\"*20)\n",
    "    if a == 3:\n",
    "        print(\"EMPATE\")\n",
    "    elif a == 1:\n",
    "        print(\"Você GANHOU\")\n",
    "    else:\n",
    "        print('Você PERDEU')"
   ]
  },
  {
   "cell_type": "code",
   "execution_count": 18,
   "id": "f7312683",
   "metadata": {},
   "outputs": [
    {
     "name": "stdout",
     "output_type": "stream",
     "text": [
      "********************\n",
      "[1] Pedra\n",
      "[2] Papel\n",
      "[3] Tesoura\n",
      "********************\n",
      "Digite qual opção deseja: 1\n",
      "-=-=-=-=-=-=-=-=-=-=-=-=\n",
      "Computador escolheu Pedra\n",
      "Você escolheu Pedra\n",
      "-=-=-=-=-=-=-=-=-=-=-=-=\n",
      "EMPATAMOS\n"
     ]
    }
   ],
   "source": [
    "#Exercício Python #045 - GAME: Pedra Papel e Tesoura\n",
    "from random import randint\n",
    "from termcolor import colored\n",
    "computador = randint(1,3)\n",
    "itens = ('Pedra','Papel','Tesoura')\n",
    "print('*'*20)\n",
    "print('''[1] Pedra\n",
    "[2] Papel\n",
    "[3] Tesoura''')\n",
    "print('*'*20)\n",
    "while True:\n",
    "    escolha = int(input('Digite qual opção deseja: '))\n",
    "    if escolha<=0 or escolha>3:\n",
    "        print(colored('Opção inválida, tente novamente','red'))\n",
    "    else:\n",
    "        break\n",
    "print('-='*12)\n",
    "print(f'Computador escolheu {itens[computador-1]}')\n",
    "print(f'Você escolheu {itens[escolha-1]}')\n",
    "print('-='*12)\n",
    "if computador == escolha:\n",
    "    print(colored('EMPATAMOS','green'))\n",
    "elif (computador == 1 and escolha==3) or (computador==2 and escolha==1) or (computador==3 and escolha ==2):\n",
    "    print(colored('Ganhei de você! Hehe','blue'))\n",
    "else:\n",
    "    print(colored('Droga, perdi. Você é muito bom!','yellow'))\n"
   ]
  },
  {
   "cell_type": "code",
   "execution_count": 19,
   "id": "41b61529",
   "metadata": {},
   "outputs": [
    {
     "name": "stdout",
     "output_type": "stream",
     "text": [
      "Digite um número: 1\n",
      "0\n",
      "1\n",
      "FIM\n",
      "Início: 1\n",
      "Fim 5\n",
      "Passo: 1\n",
      "1\n",
      "2\n",
      "3\n",
      "4\n",
      "FIM\n",
      "Digite um valor: 5\n",
      "Digite um valor: 9\n",
      "Digite um valor: 8\n",
      "O somatório de todos os números foram: 10\n",
      "P\n",
      "y\n",
      "t\n",
      "h\n",
      "o\n",
      "n\n",
      "frutas:Laranja\n",
      "frutas:morango\n",
      "frutas:guaraná\n",
      "frutas:manga\n"
     ]
    }
   ],
   "source": [
    "#Curso Python #013 - Estrutura de repetição for\n",
    "n = int(input(\"Digite um número: \"))\n",
    "for c in range(0,n+1):\n",
    "    print(c)\n",
    "print(\"FIM\")\n",
    "\n",
    "i = int(input(\"Início: \"))\n",
    "f = int(input(\"Fim \"))\n",
    "p = int(input(\"Passo: \"))\n",
    "for b in range(i,f,p):\n",
    "    print(b)\n",
    "print(\"FIM\")\n",
    "\n",
    "s = 0\n",
    "for s in range(0,3):\n",
    "    n = int(input(\"Digite um valor: \"))\n",
    "    s+= n\n",
    "print(f\"O somatório de todos os números foram: {s}\")\n",
    "\n",
    "var = 'Python'\n",
    "for x in var:\n",
    "    print(x)\n",
    "\n",
    "frutas = ['Laranja','morango','guaraná', 'manga']\n",
    "for y in frutas:\n",
    "    print('frutas:%s'%y)"
   ]
  },
  {
   "cell_type": "code",
   "execution_count": 46,
   "id": "e03c222f",
   "metadata": {},
   "outputs": [
    {
     "name": "stdout",
     "output_type": "stream",
     "text": [
      "Fogos de artifícil\n",
      "10\n",
      "9\n",
      "8\n",
      "7\n",
      "6\n",
      "5\n",
      "4\n",
      "3\n",
      "2\n",
      "1\n",
      "0\n",
      "BUM! BUM! POOOW!\n"
     ]
    }
   ],
   "source": [
    "#Exercício Python #046 - Contagem regressiva\n",
    "from time import sleep\n",
    "print(\"Fogos de artifícil\")\n",
    "for x in range(10,-1,-1):\n",
    "    time.sleep(0.5)\n",
    "    print(x)\n",
    "print('BUM! BUM! POOOW!')\n",
    "#list(range(10,0,-1))\n"
   ]
  },
  {
   "cell_type": "code",
   "execution_count": 20,
   "id": "f00a7a6d",
   "metadata": {},
   "outputs": [
    {
     "name": "stdout",
     "output_type": "stream",
     "text": [
      "0 2 4 6 8 10 12 14 16 18 20 22 24 26 28 30 32 34 36 38 40 42 44 46 48 \n",
      "\n",
      ".2 .4 .6 .8 .10 .12 .14 .16 .18 .20 .22 .24 .26 .28 .30 .32 .34 .36 .38 .40 .42 .44 .46 .48 .50 acabou\n"
     ]
    }
   ],
   "source": [
    "#Exercício Python #047 - Contagem de pares\n",
    "for pares in range(0,50,2):\n",
    "    print(pares,end = ' ')\n",
    "\n",
    "print(\"\\n\")\n",
    "for n in range(2,51,2):\n",
    "    print('.',end='')\n",
    "    if n % 2 == 0:\n",
    "        print(n,end=' ')\n",
    "print(\"acabou\")\n"
   ]
  },
  {
   "cell_type": "code",
   "execution_count": 33,
   "id": "c8d7da08",
   "metadata": {},
   "outputs": [
    {
     "name": "stdout",
     "output_type": "stream",
     "text": [
      "1 5 7 11 13 17 19 23 25 29 31 35 37 41 43 47 49 53 55 59 61 65 67 71 73 77 79 83 85 89 91 95 97 101 103 107 109 113 115 119 121 125 127 131 133 137 139 143 145 149 151 155 157 161 163 167 169 173 175 179 181 185 187 191 193 197 199 203 205 209 211 215 217 221 223 227 229 233 235 239 241 245 247 251 253 257 259 263 265 269 271 275 277 281 283 287 289 293 295 299 301 305 307 311 313 317 319 323 325 329 331 335 337 341 343 347 349 353 355 359 361 365 367 371 373 377 379 383 385 389 391 395 397 401 403 407 409 413 415 419 421 425 427 431 433 437 439 443 445 449 451 455 457 461 463 467 469 473 475 479 481 485 487 491 493 497 499 \n",
      "A soma de todos os valores solicitados é 229832\n",
      "3 9 15 21 27 33 39 45 51 57 63 69 75 81 87 93 99 105 111 117 123 129 135 141 147 153 159 165 171 177 183 189 195 201 207 213 219 225 231 237 243 249 255 261 267 273 279 285 291 297 303 309 315 321 327 333 339 345 351 357 363 369 375 381 387 393 399 405 411 417 423 429 435 441 447 453 459 465 471 477 483 489 495 \n",
      "A soma de todos os valores 83 solicitados é 20667\n"
     ]
    }
   ],
   "source": [
    "#Exercício Python #048 - Soma ímpares múltiplos de três\n",
    "soma = 0\n",
    "cont = 0\n",
    "for z in range(0,500):\n",
    "    if not (z%3 == 0) and (z%2 == 1):\n",
    "        print(z,end=' ')\n",
    "        n = n+z\n",
    "print(f'\\nA soma de todos os valores solicitados é {n}')\n",
    "\n",
    "for z in range(1,501,2):\n",
    "    if z % 3 == 0:\n",
    "        soma = soma + z\n",
    "        cont = cont + 1\n",
    "        print(z,end=' ')\n",
    "print(f'\\nA soma de todos os valores {cont} solicitados é {soma}')\n"
   ]
  },
  {
   "cell_type": "code",
   "execution_count": 2,
   "id": "6a3087cb",
   "metadata": {},
   "outputs": [
    {
     "name": "stdout",
     "output_type": "stream",
     "text": [
      "Digite um número para ver sua tabuada: 7\n",
      "7 x 1 = 7\n",
      "7 x 2 = 14\n",
      "7 x 3 = 21\n",
      "7 x 4 = 28\n",
      "7 x 5 = 35\n",
      "7 x 6 = 42\n",
      "7 x 7 = 49\n",
      "7 x 8 = 56\n",
      "7 x 9 = 63\n",
      "7 x 10 = 70\n"
     ]
    }
   ],
   "source": [
    "#Exercício Python #049 - Tabuada v.2.0\n",
    "num = int(input(\"Digite um número para ver sua tabuada: \"))\n",
    "for t in range(1,11):\n",
    "    print(f\"{num} x {t} = {num*t}\")"
   ]
  },
  {
   "cell_type": "code",
   "execution_count": 25,
   "id": "6b47e52c",
   "metadata": {},
   "outputs": [
    {
     "name": "stdout",
     "output_type": "stream",
     "text": [
      "Digite um valor: 5\n",
      "Digite um valor: 6\n",
      "Digite um valor: 8\n",
      "Digite um valor: 9\n",
      "Digite um valor: 10\n",
      "Digite um valor: 22\n",
      "Você informou 4 números PARES e a soma dos números foi 46\n"
     ]
    }
   ],
   "source": [
    "#Exercício Python #050 - Soma dos pares\n",
    "soma = 0\n",
    "cont = 0\n",
    "for n in range(1,7):\n",
    "    num = int(input(\"Digite um valor: \"))\n",
    "    if num % 2 == 0:\n",
    "        soma += num\n",
    "        cont += 1\n",
    "print(f\"Você informou {cont} números PARES e a soma dos números foi {soma}\")\n",
    "\n",
    "#Quantos números o usuá"
   ]
  },
  {
   "cell_type": "code",
   "execution_count": 31,
   "id": "7fa113dc",
   "metadata": {
    "scrolled": true
   },
   "outputs": [
    {
     "name": "stdout",
     "output_type": "stream",
     "text": [
      "=========================\n",
      "10 TEMOS DE UMA PA\n",
      "=========================\n",
      "Primeiro termo: 10\n",
      "Razão: 4\n",
      "Você quer mostrar quantas progressoões: 21\n",
      "10 14 18 22 26 30 34 38 42 46 50 54 58 62 66 70 74 78 82 86 A soma das PA é 90\n"
     ]
    }
   ],
   "source": [
    "#Exercício Python #051 - Progressão Aritmética\n",
    "print(\"=\"*25)\n",
    "print(\"10 TEMOS DE UMA PA\")\n",
    "print(\"=\"*25)\n",
    "p1 = int(input(\"Primeiro termo: \"))\n",
    "r = int(input(\"Razão: \"))\n",
    "progressao = int(input(\"Você quer mostrar quantas progressoões: \"))\n",
    "pa = p1+((progressao-1)*r)\n",
    "an = 0\n",
    "for p in range(p1,pa,r):\n",
    "    print(p,end = ' ')\n",
    "    an = p+r\n",
    "print(f\"A soma das PA é {an}\")"
   ]
  },
  {
   "cell_type": "code",
   "execution_count": 13,
   "id": "442f409f",
   "metadata": {},
   "outputs": [
    {
     "name": "stdout",
     "output_type": "stream",
     "text": [
      "Digite um número: 50\n",
      "1 2 5 10 \n",
      "O número 50 foi divisível 4 vezes\n",
      "E por isso ele NÃO É PRIMO\n",
      "Digite um número: 50\n",
      "\u001b[33m 1 \u001b[33m 2 \u001b[31m 3 \u001b[31m 4 \u001b[33m 5 \u001b[31m 6 \u001b[31m 7 \u001b[31m 8 \u001b[31m 9 \u001b[33m 10 \u001b[31m 11 \u001b[31m 12 \u001b[31m 13 \u001b[31m 14 \u001b[31m 15 \u001b[31m 16 \u001b[31m 17 \u001b[31m 18 \u001b[31m 19 \u001b[31m 20 \u001b[31m 21 \u001b[31m 22 \u001b[31m 23 \u001b[31m 24 \u001b[33m 25 \u001b[31m 26 \u001b[31m 27 \u001b[31m 28 \u001b[31m 29 \u001b[31m 30 \u001b[31m 31 \u001b[31m 32 \u001b[31m 33 \u001b[31m 34 \u001b[31m 35 \u001b[31m 36 \u001b[31m 37 \u001b[31m 38 \u001b[31m 39 \u001b[31m 40 \u001b[31m 41 \u001b[31m 42 \u001b[31m 43 \u001b[31m 44 \u001b[31m 45 \u001b[31m 46 \u001b[31m 47 \u001b[31m 48 \u001b[31m 49 \u001b[33m 50 \n",
      "\u001b[mO número 50 foi divisível 6 vezes\n",
      "E por isso ele NÃO É PRIMO!\n"
     ]
    }
   ],
   "source": [
    "#Exercício Python #052 - Números primos\n",
    "num = int(input(\"Digite um número: \"))\n",
    "cont = 0\n",
    "for p in range(1,11):\n",
    "    if num % p == 0:\n",
    "        cont += 1\n",
    "        print(p,end = ' ')\n",
    "print(f'\\nO número {num} foi divisível {cont} vezes')\n",
    "if cont >2:\n",
    "     print(\"E por isso ele NÃO É PRIMO\")\n",
    "else:\n",
    "    print(\"E por isso ele É PRIMO\")\n",
    "    \n",
    "#GUANABARA\n",
    "núm = int(input(\"Digite um número: \"))\n",
    "tot = 0 \n",
    "for c in range (1,núm +1):\n",
    "    if núm % c == 0: \n",
    "        print('\\033[33m', end=' ')\n",
    "        tot += 1\n",
    "    else:\n",
    "        print('\\033[31m', end=' ')\n",
    "    print(f\"{c}\", end=' ')\n",
    "print(f'\\n\\033[mO número {núm} foi divisível {tot} vezes')\n",
    "if tot == 2:\n",
    "    print('E por isso ele É PRIMO!')\n",
    "else:\n",
    "    print('E por isso ele NÃO É PRIMO!')"
   ]
  },
  {
   "cell_type": "code",
   "execution_count": 11,
   "id": "595ec0f8",
   "metadata": {},
   "outputs": [
    {
     "name": "stdout",
     "output_type": "stream",
     "text": [
      "Digite uma frase: o lobo ama o bolo\n",
      "Temos um  palídromo!\n"
     ]
    },
    {
     "data": {
      "text/plain": [
       "'for letra in range (len(junto)-1,-1,-1):\\n    inverso += junto[letra]\\nif inverso == junto:\\n    print(\"Temos um  palídromo!\")\\nelse:\\n    print(\"A frase digitada não é um palídromo!\")\\n'"
      ]
     },
     "execution_count": 11,
     "metadata": {},
     "output_type": "execute_result"
    }
   ],
   "source": [
    "#Exercício Python #053 - Detector de Palíndromo\n",
    "frase = str(input('Digite uma frase: ')).upper() #upper coloca tudo em maiusculo\n",
    "palavras = frase.split() #Fragmenta a palavra / gerar uma lista / separou em vetor\n",
    "junto = ''.join(palavras) #remove o espaço em branco entra as palavras / juntou a lista para eliminar os espaços\n",
    "inverso = ''\n",
    "\n",
    "inverso = junto[::-1]\n",
    "if inverso == junto:\n",
    "    print(\"Temos um  palídromo!\")\n",
    "else:\n",
    "    print(\"A frase digitada não é um palídromo!\")\n",
    "\n",
    "'''for letra in range (len(junto)-1,-1,-1):\n",
    "    inverso += junto[letra]\n",
    "if inverso == junto:\n",
    "    print(\"Temos um  palídromo!\")\n",
    "else:\n",
    "    print(\"A frase digitada não é um palídromo!\")\n",
    "'''"
   ]
  },
  {
   "cell_type": "code",
   "execution_count": 17,
   "id": "5c63a41d",
   "metadata": {},
   "outputs": [
    {
     "name": "stdout",
     "output_type": "stream",
     "text": [
      "Em que ano a 1 pessoa nasceu? 2010\n",
      "Em que ano a 2 pessoa nasceu? 2010\n",
      "Em que ano a 3 pessoa nasceu? 2010\n",
      "Em que ano a 4 pessoa nasceu? 2010\n",
      "Em que ano a 5 pessoa nasceu? 1996\n",
      "Em que ano a 6 pessoa nasceu? 1996\n",
      "Em que ano a 7 pessoa nasceu? 1996\n",
      "Ao todo tivemos 3 pessoas maiores de idade\n",
      "E também tivemos 4 pessoas menores de idade\n"
     ]
    }
   ],
   "source": [
    "#Exercício Python #054 - Grupo da Maioridade\n",
    "'''from datetime import date\n",
    "contj = 0\n",
    "conti = 0\n",
    "atual = date.today().year\n",
    "for a in range(1,8):\n",
    "    ano = int(input(f\"Em que ano a {a}° pessoa nasceu? \"))\n",
    "    idade = atual - ano\n",
    "    if idade >= 18:\n",
    "        conti += 1\n",
    "    else:\n",
    "        contj += 1\n",
    "print(f\"Ao todo tivemos {conti} pessoas maiores de idade\\n E também tivemos {contj} pessoas menores de idade\")'''\n",
    "\n",
    "#Guanabara\n",
    "from datetime import date\n",
    "atual = date.today().year\n",
    "totmaior = 0\n",
    "totmenor = 0\n",
    "for pess in range(1,8):\n",
    "    nasc = int(input(f\"Em que ano a {pess} pessoa nasceu? \"))\n",
    "    idade = atual - nasc\n",
    "    if idade >= 21:\n",
    "        totmaior +=1\n",
    "    else:\n",
    "        totmenor += 1\n",
    "print(f\"Ao todo tivemos {totmaior} pessoas maiores de idade\\nE também tivemos {totmenor} pessoas menores de idade\")"
   ]
  },
  {
   "cell_type": "code",
   "execution_count": 25,
   "id": "4b979cda",
   "metadata": {},
   "outputs": [
    {
     "name": "stdout",
     "output_type": "stream",
     "text": [
      "Peso da 1º pessoa: 25\n",
      "Peso da 2º pessoa: 37\n",
      "Peso da 3º pessoa: 40\n",
      "Peso da 4º pessoa: 50\n",
      "Peso da 5º pessoa: 60\n",
      "O maior peso lido foi de 60.0 kg\n",
      "O maior peso lido foi de 25.0 kg\n"
     ]
    }
   ],
   "source": [
    "#Exercício Python #055 - Maior e menor da sequência\n",
    "'''pmenor = 100\n",
    "pmaior = 0\n",
    "for p in range(1,6):\n",
    "    peso = float(input(f'Peso da {p}ª pessoa: '))\n",
    "    if peso >= pmaior:\n",
    "        pmaior = peso\n",
    "    elif peso < pmenor:\n",
    "        pmenor = peso\n",
    "print(f\"O maior peso lido foi de {pmaior}\")\n",
    "print(f\"O menor peso lido foi de {pmenor}\")'''\n",
    "\n",
    "maior = 0\n",
    "menor = 0\n",
    "for p in range(1,6):\n",
    "    peso = float(input(f'Peso da {p}º pessoa: '))\n",
    "    if p == 1:\n",
    "        maior = peso\n",
    "        menor = peso\n",
    "    else:\n",
    "        if peso > maior:\n",
    "            maior = peso\n",
    "        elif peso < menor:\n",
    "            menor = peso\n",
    "print(f'O maior peso lido foi de {maior} kg')\n",
    "print(f'O maior peso lido foi de {menor} kg')\n",
    "\n",
    "'''#Um jeito mais simples que consegui fazer:\n",
    "lst=[]  #lista vazia\n",
    "for c in range(1, 6):\n",
    "    peso=float(input('Peso da {}ª pessoa: '.format(c)))\n",
    "    lst+=[peso]   #adc os valores de peso na lista\n",
    "print('')\n",
    "print('O Maior peso foi:', max(lst))  #maximo valor da lista\n",
    "print('O Menor peso foi:', min(lst))  #minimo valor da lista'''"
   ]
  },
  {
   "cell_type": "code",
   "execution_count": 28,
   "id": "308e22c9",
   "metadata": {},
   "outputs": [
    {
     "name": "stdout",
     "output_type": "stream",
     "text": [
      "---------1ª PESSOA -------------\n",
      "Nome: q\n",
      "Idade: 25\n",
      "Sexo [M/F]: m\n",
      "---------2ª PESSOA -------------\n",
      "Nome: b\n",
      "Idade: 40\n",
      "Sexo [M/F]: m\n",
      "---------3ª PESSOA -------------\n",
      "Nome: c\n",
      "Idade: 55\n",
      "Sexo [M/F]: f\n",
      "---------4ª PESSOA -------------\n",
      "Nome: d\n",
      "Idade: 30\n",
      "Sexo [M/F]: m\n",
      "A média de idade do grupo é de 37.5 anos\n"
     ]
    }
   ],
   "source": [
    "#Exercício Python #056 - Analisador completo\n",
    "somaidade = 0 \n",
    "médiaidade = 0\n",
    "maioridadehomem = 0\n",
    "nomevelho = 0\n",
    "for p in range(1,5):\n",
    "    print(f'---------{p}ª PESSOA -------------')\n",
    "    nome = str(input('Nome: ')).strip()\n",
    "    idade = int(input('Idade: '))\n",
    "    sexo = str(input('Sexo [M/F]: ')).strip()\n",
    "    somaidade += idade\n",
    "médiaidade = somaidade/4\n",
    "print(f'A média de idade do grupo é de {médiaidade} anos')"
   ]
  },
  {
   "cell_type": "code",
   "execution_count": 18,
   "id": "c1d73344",
   "metadata": {},
   "outputs": [
    {
     "name": "stdout",
     "output_type": "stream",
     "text": [
      "Informe o seu sexo: [M/F]o\n",
      "Dados inválidos. Por favor, informe seu sexo: m\n",
      "Sexo M registrado com sucesso\n"
     ]
    }
   ],
   "source": [
    "#Exercício Python #057 - Validação de Dados\n",
    "sexo = str(input(\"Informe o seu sexo: [M/F]\")).strip().upper()[0]\n",
    "#while not sexo == \"M\" and not sexo ==\"F\":\n",
    "while sexo not in 'MnFf':\n",
    "    sexo = str(input(\"Dados inválidos. Por favor, informe seu sexo: \")).strip().upper()[0]\n",
    "print(f'Sexo {sexo} registrado com sucesso')"
   ]
  },
  {
   "cell_type": "code",
   "execution_count": 5,
   "id": "85574f6d",
   "metadata": {},
   "outputs": [
    {
     "name": "stdout",
     "output_type": "stream",
     "text": [
      "-=--=--=--=--=--=--=--=--=--=--=--=--=--=--=--=--=--=--=--=-\n",
      "Sou seu computador...\n",
      "-=--=--=--=--=--=--=--=--=--=--=--=--=--=--=--=--=--=--=--=-\n",
      "Acabei de pensar em um número entre 0 e 10\n",
      "Será que você consegue adivinhar qual foi?\n",
      "Qual o seu palpite? 10\n",
      "Menos... Tente mais uma vez.\n",
      "Qual o seu palpite? 5\n",
      "Mais... Tente mais uma vez.\n",
      "Qual o seu palpite? 8\n",
      "Menos... Tente mais uma vez.\n",
      "Qual o seu palpite? 7\n",
      "Menos... Tente mais uma vez.\n",
      "Qual o seu palpite? 6\n",
      "Acertou com 5 tentantivas. Parabéns!\n"
     ]
    }
   ],
   "source": [
    "#Exercício Python #058 - Jogo da Adivinhação v2.0\n",
    "from random import randint\n",
    "from time import sleep\n",
    "cont = 1\n",
    "print(\"-=-\"*20)\n",
    "print(\"Sou seu computador...\")\n",
    "print('-=-'*20)\n",
    "computador = randint(0,10)\n",
    "sleep(0.5)\n",
    "print(\"Acabei de pensar em um número entre 0 e 10\")\n",
    "usuario = int(input(\"Será que você consegue adivinhar qual foi?\\nQual o seu palpite? \"))\n",
    "while computador != usuario:\n",
    "    if computador > usuario:\n",
    "        cont += 1\n",
    "        sleep(0.5)\n",
    "        print(\"Mais... Tente mais uma vez.\")\n",
    "        usuario = int(input(\"Qual o seu palpite? \"))\n",
    "    else:\n",
    "        cont += 1\n",
    "        sleep(0.5)\n",
    "        print(\"Menos... Tente mais uma vez.\")\n",
    "        usuario = int(input(\"Qual o seu palpite? \"))\n",
    "print(f\"Acertou com {cont} tentantivas. Parabéns!\")"
   ]
  },
  {
   "cell_type": "code",
   "execution_count": 15,
   "id": "1734c959",
   "metadata": {},
   "outputs": [
    {
     "name": "stdout",
     "output_type": "stream",
     "text": [
      "Primeiro valor: 8\n",
      "Segundo valor: 6\n",
      "Opção inválida. Tente Novamente\n",
      "=-=-=-=-=-=-=-=-=-=-=-=-=-=-=-\n",
      "[1] Somar\n",
      "[2] multiplicar\n",
      "[3] maior\n",
      "[4] Novos números\n",
      "[5] Sair do programa\n",
      "Qual é a sua opção 1\n",
      "A soma entre 8 e 6 é 14\n",
      "=-=-=-=-=-=-=-=-=-=-=-=-=-=-=-\n",
      "[1] Somar\n",
      "[2] multiplicar\n",
      "[3] maior\n",
      "[4] Novos números\n",
      "[5] Sair do programa\n",
      "Qual é a sua opção 2\n",
      "A multiplicação entre 8 e 6 é igual a 48\n",
      "=-=-=-=-=-=-=-=-=-=-=-=-=-=-=-\n",
      "[1] Somar\n",
      "[2] multiplicar\n",
      "[3] maior\n",
      "[4] Novos números\n",
      "[5] Sair do programa\n",
      "Qual é a sua opção 3\n",
      "Entre 8 e 6 o maior valor é 8\n",
      "=-=-=-=-=-=-=-=-=-=-=-=-=-=-=-\n",
      "[1] Somar\n",
      "[2] multiplicar\n",
      "[3] maior\n",
      "[4] Novos números\n",
      "[5] Sair do programa\n",
      "Qual é a sua opção 4\n",
      "Informe os números novamente: \n",
      "Primeiro valor: 5\n",
      "Segundo valor: 9\n",
      "=-=-=-=-=-=-=-=-=-=-=-=-=-=-=-\n",
      "[1] Somar\n",
      "[2] multiplicar\n",
      "[3] maior\n",
      "[4] Novos números\n",
      "[5] Sair do programa\n",
      "Qual é a sua opção 4\n",
      "Informe os números novamente: \n",
      "Primeiro valor: 5\n",
      "Segundo valor: 9\n",
      "=-=-=-=-=-=-=-=-=-=-=-=-=-=-=-\n",
      "[1] Somar\n",
      "[2] multiplicar\n",
      "[3] maior\n",
      "[4] Novos números\n",
      "[5] Sair do programa\n",
      "Qual é a sua opção 5\n",
      "Fim do programa! Volte sempre!\n"
     ]
    }
   ],
   "source": [
    "#Exercício Python #059 - Criando um Menu de Opçõe\n",
    "from time import sleep\n",
    "p1 = int(input('Primeiro valor: '))\n",
    "p2 = int(input('Segundo valor: '))\n",
    "#escolha = int(input('[1] Somar\\n[2] multiplicar\\n[3] maior\\n[4] Novos números\\n[5] Sair do programa\\nQual é a sua opção'))\n",
    "escolha = 0\n",
    "while escolha != 5:\n",
    "    if escolha == 1:\n",
    "        print(f'A soma entre {p1} e {p2} é {p1+p2}')\n",
    "        print('=-'*15)\n",
    "        escolha = int(input('[1] Somar\\n[2] multiplicar\\n[3] maior\\n[4] Novos números\\n[5] Sair do programa\\nQual é a sua opção '))\n",
    "    elif escolha == 2:\n",
    "        print(f'A multiplicação entre {p1} e {p2} é igual a {p1*p2}')\n",
    "        print('=-'*15)\n",
    "        escolha = int(input('[1] Somar\\n[2] multiplicar\\n[3] maior\\n[4] Novos números\\n[5] Sair do programa\\nQual é a sua opção '))\n",
    "    elif escolha == 3:\n",
    "        if p1 > p2:\n",
    "            print(f'Entre {p1} e {p2} o maior valor é {p1}')\n",
    "        elif p2>p1:\n",
    "            print(f'Entre {p1} e {p2} o maior valor é {p2}')\n",
    "        else:\n",
    "            print(f'Os números {p1} e {p2} são iguais')\n",
    "        print('=-'*15)\n",
    "        escolha = int(input('[1] Somar\\n[2] multiplicar\\n[3] maior\\n[4] Novos números\\n[5] Sair do programa\\nQual é a sua opção '))\n",
    "    elif escolha == 4:\n",
    "        print('Informe os números novamente: ')\n",
    "        p1 = int(input('Primeiro valor: '))\n",
    "        p2 = int(input('Segundo valor: '))\n",
    "        print('=-'*15)\n",
    "        escolha = int(input('[1] Somar\\n[2] multiplicar\\n[3] maior\\n[4] Novos números\\n[5] Sair do programa\\nQual é a sua opção '))\n",
    "    elif escolha == 5:\n",
    "        break\n",
    "    else:\n",
    "        print('Opção inválida. Tente Novamente')\n",
    "        print('=-'*15)\n",
    "        escolha = int(input('[1] Somar\\n[2] multiplicar\\n[3] maior\\n[4] Novos números\\n[5] Sair do programa\\nQual é a sua opção '))\n",
    "    sleep(.5)\n",
    "print(\"Fim do programa! Volte sempre!\")"
   ]
  },
  {
   "cell_type": "code",
   "execution_count": 50,
   "id": "2ebef02f",
   "metadata": {},
   "outputs": [
    {
     "name": "stdout",
     "output_type": "stream",
     "text": [
      "Digite um número para\n",
      "Calcular o seu Fatorial: 5\n",
      "5 x 4 x 3 x 2 x 1 = 120\n",
      "Digite um número para\n",
      "Calcular o seu Fatorial: 5\n",
      "5 x 4 x 3 x 2 x 1 = 120\n",
      "Digite um número para calcular seu fatorial: 5\n",
      "Calculando 5! 5 x 4 x 3 x 2 x 1 = 120\n"
     ]
    }
   ],
   "source": [
    "#Exercício Python #060 - Cálculo do Fatorial\n",
    "# Usando Whilte\n",
    "num = int(input(\"Digite um número para\\nCalcular o seu Fatorial: \"))\n",
    "fat = 1\n",
    "while num != 1:\n",
    "    fat *= num\n",
    "    print(num, end = ' x ')\n",
    "    num -= 1\n",
    "print(f'1 = {fat}')\n",
    "\n",
    "#Usando FOR\n",
    "num2 = int(input(\"Digite um número para\\nCalcular o seu Fatorial: \"))\n",
    "fat1 = 1\n",
    "for c in range(1,num2):\n",
    "    fat1 *= num2\n",
    "    print(num2, end = ' x ')\n",
    "    num2 -= 1\n",
    "print(f'1 = {fat1}')\n",
    "\n",
    "#Guanabara\n",
    "n = int(input('Digite um número para calcular seu fatorial: '))\n",
    "c = n\n",
    "f = 1\n",
    "print(f'Calculando {n}! ', end = '')\n",
    "while c > 0:\n",
    "    print(f'{c}', end ='')\n",
    "    print(' x ' if c > 1 else ' = ', end='')\n",
    "    f *= c   \n",
    "    c-= 1\n",
    "print(f'{f}')"
   ]
  },
  {
   "cell_type": "code",
   "execution_count": 21,
   "id": "83707092",
   "metadata": {},
   "outputs": [
    {
     "name": "stdout",
     "output_type": "stream",
     "text": [
      "Gerador de uma PA\n",
      "-=-=-=-=-=-=-=-=-=-=-=-=-=-=-=-=-=-=-=-=\n",
      "Primeiro termo: 1\n",
      "Razão: 10\n",
      "1 -> 11 -> 21 -> 31 -> 41 -> 51 -> 61 -> 71 -> 81 -> 91 -> FIM\n",
      "Primeiro termo: 1\n",
      "Razão: 10\n",
      "Você quer mostrar quantas progressoões: 10\n",
      "1 11 21 31 41 51 61 71 81 A soma das PA é 91\n"
     ]
    }
   ],
   "source": [
    "#Exercício Python #061 - Progressão Aritmética v2.0\n",
    "print('Gerador de uma PA')\n",
    "print('-='*20)\n",
    "primeiro = int(input(\"Primeiro termo: \"))\n",
    "razão = int(input(\"Razão: \"))\n",
    "termo = primeiro\n",
    "cont = 1\n",
    "while cont <= 10:\n",
    "    print(f'{termo} -> ', end = '')\n",
    "    termo += razão\n",
    "    cont += 1\n",
    "print('FIM')\n",
    "    \n",
    "#FOR\n",
    "p1 = int(input(\"Primeiro termo: \"))\n",
    "r = int(input(\"Razão: \"))\n",
    "progressao = int(input(\"Você quer mostrar quantas progressoões: \"))\n",
    "pa = p1+((progressao-1)*r)\n",
    "an = 0\n",
    "for p in range(p1,pa,r):\n",
    "    print(p,end = ' ')\n",
    "    an = p+r\n",
    "print(f\"A soma das PA é {an}\")"
   ]
  },
  {
   "cell_type": "code",
   "execution_count": 12,
   "id": "0eb6b48a",
   "metadata": {},
   "outputs": [
    {
     "name": "stdout",
     "output_type": "stream",
     "text": [
      "Gerador de PA\n",
      "-=-=-=-=-=-=-=-=-=-=-=-=-=-=-=-=-=-=-=-=\n",
      "Primeiro termo: 2\n",
      "Razão da PA: 5\n",
      "2 -> 7 -> 12 -> 17 -> 22 -> 27 -> 32 -> 37 -> 42 -> 47 -> FIM\n",
      "Quantos termos você quer mostrar a mais? 6\n",
      "52 -> 57 -> 62 -> 67 -> 72 -> 77 -> FIM\n",
      "Quantos termos você quer mostrar a mais? 5\n",
      "82 -> 87 -> 92 -> 97 -> 102 -> FIM\n",
      "Quantos termos você quer mostrar a mais? 6\n",
      "107 -> 112 -> 117 -> 122 -> 127 -> 132 -> FIM\n",
      "Quantos termos você quer mostrar a mais? 2\n",
      "137 -> 142 -> FIM\n",
      "Quantos termos você quer mostrar a mais? 0\n",
      "Progressão finalizada com 29 termos mostrados.\n"
     ]
    }
   ],
   "source": [
    "#Exercício Python #062 - Super Progressão Aritmética v3.0\n",
    "print('Gerador de PA')\n",
    "print('-='*20)\n",
    "primeiro = int(input('Primeiro termo: '))\n",
    "termo = primeiro\n",
    "razão = int(input(\"Razão da PA: \"))\n",
    "'''c = 1\n",
    "t = 10\n",
    "while t !=0:\n",
    "    for i in range(0,t):\n",
    "        termo += razão\n",
    "        print(f'{termo} -> ',end ='')\n",
    "        c+=1\n",
    "    print('PAUSE')\n",
    "    t = int(input('Quantos termos você quer mostrar a mais?'))\n",
    "print(f'Progressão fnalizada com {c} temos mostrados')'''\n",
    "\n",
    "cont = 1\n",
    "total = 0\n",
    "mais = 10\n",
    "while mais != 0:\n",
    "    total += mais\n",
    "    while cont <= total:\n",
    "        print(f'{termo} -> ', end = '')\n",
    "        termo += razão\n",
    "        cont += 1\n",
    "    print('FIM')\n",
    "    mais = int(input('Quantos termos você quer mostrar a mais? '))\n",
    "print(f'Progressão finalizada com {total} termos mostrados.')\n",
    "\n"
   ]
  },
  {
   "cell_type": "code",
   "execution_count": 22,
   "id": "ccf35752",
   "metadata": {},
   "outputs": [
    {
     "name": "stdout",
     "output_type": "stream",
     "text": [
      "-------------------------\n",
      "Sequência de fibonacci\n",
      "-------------------------\n",
      "Quantos termos você quer mostrar? 5\n",
      "0 -> 1 -> 1 -> 2 -> 3FIM\n"
     ]
    }
   ],
   "source": [
    "#Exercício Python #063 - Sequência de Fibonacci v1.0\n",
    "print('-'*25)\n",
    "print('Sequência de fibonacci')\n",
    "print('-'*25)\n",
    "n = int(input('Quantos termos você quer mostrar? '))\n",
    "t1 = 0\n",
    "t2 = 1\n",
    "print(f'{t1} -> {t2}', end = '')\n",
    "cont = 3\n",
    "while cont <= n:\n",
    "    t3 = t1 + t2\n",
    "    print(f' -> {t3}', end = '')\n",
    "    cont += 1\n",
    "    t1 = t2\n",
    "    t2 = t3\n",
    "print('FIM')"
   ]
  },
  {
   "cell_type": "code",
   "execution_count": 30,
   "id": "a65fa089",
   "metadata": {},
   "outputs": [
    {
     "name": "stdout",
     "output_type": "stream",
     "text": [
      "Digite um número [999 para parar]: 5\n",
      "Digite um número [999 para parar]: 5\n",
      "Digite um número [999 para parar]: 5\n",
      "Digite um número [999 para parar]: 999\n",
      "Você digitou 3 números e a soma entre eles foi 15\n"
     ]
    }
   ],
   "source": [
    "#Exercício Python #064 - Tratando vários valores v1.0\n",
    "soma = cont = 0\n",
    "num = int(input('Digite um número [999 para parar]: '))\n",
    "while num != 999:\n",
    "    soma += num\n",
    "    cont += 1\n",
    "    num = int(input('Digite um número [999 para parar]: '))\n",
    "print(f'Você digitou {cont} números e a soma entre eles foi {soma}')\n",
    "\n",
    "\n"
   ]
  },
  {
   "cell_type": "code",
   "execution_count": 9,
   "id": "a7507aee",
   "metadata": {},
   "outputs": [
    {
     "name": "stdout",
     "output_type": "stream",
     "text": [
      "Digite um número: 5\n",
      "Você quer continuar? [S/N] s\n",
      "Digite um número: 10\n",
      "Você quer continuar? [S/N] s\n",
      "Digite um número: 3\n",
      "Você quer continuar? [S/N] n\n",
      "Você digitou 3 números e a média foi 6.0\n",
      "O maior valor foi 10 e o menor foi 3\n"
     ]
    }
   ],
   "source": [
    "#Exercício Python #065 - Maior e Menor valores\n",
    "resp = 'S'\n",
    "c = soma = maior = menor = 0\n",
    "while resp in 'Ss' :\n",
    "    num = int(input('Digite um número: '))\n",
    "    soma += num\n",
    "    c += 1\n",
    "    if c == 1:\n",
    "        maior = menor = num\n",
    "    else:\n",
    "        if num > maior:\n",
    "            maior = num\n",
    "        if num < menor:\n",
    "            menor = num\n",
    "    resp = str(input('Você quer continuar? [S/N] ')).strip().upper()\n",
    "print(f'Você digitou {c} números e a média foi {soma/c}')\n",
    "print(f'O maior valor foi {maior} e o menor foi {menor}')"
   ]
  },
  {
   "cell_type": "code",
   "execution_count": 13,
   "id": "02f4308f",
   "metadata": {},
   "outputs": [
    {
     "name": "stdout",
     "output_type": "stream",
     "text": [
      "Digite um número: 8\n",
      "Digite um número: 6\n",
      "Digite um número: 2\n",
      "Digite um número: 6\n",
      "Digite um número: 4\n",
      "Digite um número: 5\n",
      "Digite um número: 999\n",
      "A soma vale 31\n"
     ]
    }
   ],
   "source": [
    "#Curso Python #15 - Interrompendo repetições while\n",
    "'''cont = 1\n",
    "while True:\n",
    "    print(cont, '->', end = ' ')\n",
    "    cont += 1\n",
    "print('Acabou')'''\n",
    "\n",
    "'''n = cont = 0\n",
    "while cont < 5:\n",
    "    n = int(input('Digite um número: '))\n",
    "    cont += 1'''\n",
    "\n",
    "n = s = 0\n",
    "while True:\n",
    "    n = int(input('Digite um número: '))\n",
    "    if n == 999:\n",
    "        break\n",
    "    s+= n\n",
    "print(f'A soma vale {s}')"
   ]
  },
  {
   "cell_type": "code",
   "execution_count": 4,
   "id": "e1010906",
   "metadata": {},
   "outputs": [
    {
     "name": "stdout",
     "output_type": "stream",
     "text": [
      "Digite um valor: (999 para parar): 5\n",
      "Digite um valor: (999 para parar): 8\n",
      "Digite um valor: (999 para parar): 2\n",
      "Digite um valor: (999 para parar): 7\n",
      "Digite um valor: (999 para parar): 8\n",
      "Digite um valor: (999 para parar): 999\n",
      "A soma dos 5 valores foi 30\n"
     ]
    }
   ],
   "source": [
    "#Exercício Python #066 - Vários números com flag\n",
    "c = soma = 0\n",
    "while True:\n",
    "    núm = int(input('Digite um valor: (999 para parar): '))\n",
    "    if núm == 999:\n",
    "        break\n",
    "    else:\n",
    "        soma += núm\n",
    "        c +=1\n",
    "print(f'A soma dos {c} valores foi {soma}')"
   ]
  },
  {
   "cell_type": "code",
   "execution_count": 15,
   "id": "bc7e9d19",
   "metadata": {},
   "outputs": [
    {
     "name": "stdout",
     "output_type": "stream",
     "text": [
      "-----------------------------------\n",
      "Quer ver a tabuada de qual valor? 5\n",
      "-----------------------------------\n",
      "5 x 1 = 5\n",
      "5 x 2 = 10\n",
      "5 x 3 = 15\n",
      "5 x 4 = 20\n",
      "5 x 5 = 25\n",
      "5 x 6 = 30\n",
      "5 x 7 = 35\n",
      "5 x 8 = 40\n",
      "5 x 9 = 45\n",
      "5 x 10 = 50\n",
      "-----------------------------------\n",
      "Quer ver a tabuada de qual valor? 1\n",
      "-----------------------------------\n",
      "1 x 1 = 1\n",
      "1 x 2 = 2\n",
      "1 x 3 = 3\n",
      "1 x 4 = 4\n",
      "1 x 5 = 5\n",
      "1 x 6 = 6\n",
      "1 x 7 = 7\n",
      "1 x 8 = 8\n",
      "1 x 9 = 9\n",
      "1 x 10 = 10\n",
      "-----------------------------------\n",
      "Quer ver a tabuada de qual valor? -9\n",
      "-----------------------------------\n",
      "PROGRAMA TABUADA ENCERRADO. Volte sempre!\n"
     ]
    }
   ],
   "source": [
    "#Exercício Python #067 - Tabuada v3.0\n",
    "print('-'*35)\n",
    "núm = int(input('Quer ver a tabuada de qual valor? '))\n",
    "print('-'*35)\n",
    "cont = 0\n",
    "while True:\n",
    "    for cont in range(1,11):\n",
    "        print(f'{núm} x {cont} = {núm*cont}')\n",
    "    print('-'*35)\n",
    "    núm = int(input('Quer ver a tabuada de qual valor? '))\n",
    "    print('-'*35) \n",
    "    if núm < 0:\n",
    "        break\n",
    "print(f'PROGRAMA TABUADA ENCERRADO. Volte sempre!')\n",
    "\n",
    "#Guanabara\n"
   ]
  },
  {
   "cell_type": "code",
   "execution_count": 11,
   "id": "c9c2f250",
   "metadata": {},
   "outputs": [
    {
     "name": "stdout",
     "output_type": "stream",
     "text": [
      "Diga um valor: 9\n",
      "Par ou Ímpar? [P/I] p\n",
      "Você jogou 9 e o computador 9. Total de 18\n",
      "Você VENCEU!\n",
      "Vamos jogar novamente...\n",
      "Diga um valor: 6\n",
      "Par ou Ímpar? [P/I] p\n",
      "Você jogou 6 e o computador 1. Total de 7\n",
      "Você PERDEU\n",
      "GAME OVER! Você venceu 1 vezes\n"
     ]
    }
   ],
   "source": [
    "#Exercício Python #068 - Jogo do Par ou Ímpar\n",
    "'''from random import randint\n",
    "soma = c = 0\n",
    "while True:\n",
    "    print('-='*20)\n",
    "    print('VAMOS JOGAR PAR OU ÍMPAR')\n",
    "    print('-='*20)\n",
    "    jogador = int(input('Digite um valor: '))\n",
    "    opção = str(input('Par ou Ímpar? [P/I] ')).strip().upper()\n",
    "    computador = randint(0,11)\n",
    "    soma = jogador + computador\n",
    "    if soma % 2 == 0 and opção == 'Pp':\n",
    "        c += 1\n",
    "        print(f'Você jogou {jogador} e o {computador}. O total de {soma} DEU PAR')\n",
    "    elif soma % 2 != 0 and opção == 'Ii':\n",
    "        c += 1\n",
    "        print(f'Você jogou {jogador} e o {computador}. O total de {soma} DEU ÍMPAR')\n",
    "    else:\n",
    "        print(f'Você jogou {jogador} e o computador jogou {computador}. O total de {soma}')\n",
    "        print('VOCÊ PERDEU!')\n",
    "        print('-='*20)\n",
    "        print(f'GAME OVER! Você venceu {c} vezes.')\n",
    "        break'''\n",
    "#Guanabara\n",
    "from random import randint\n",
    "v = 0\n",
    "while True:\n",
    "    jogador = int(input('Diga um valor: '))\n",
    "    computador = randint(0,11)\n",
    "    total = jogador + computador\n",
    "    tipo = ' '\n",
    "    while tipo not in 'PI':\n",
    "        tipo = str(input('Par ou Ímpar? [P/I] ')).strip().upper()[0]\n",
    "    print(f'Você jogou {jogador} e o computador {computador}. Total de {total}')\n",
    "    if tipo == 'P':\n",
    "        if total % 2 == 0:\n",
    "            print('Você VENCEU!')\n",
    "            v += 1\n",
    "        else:\n",
    "            print('Você PERDEU')\n",
    "            break\n",
    "    elif tipo == 'I':\n",
    "        if total % 2 == 1:\n",
    "            print('Você VENCEU')\n",
    "            v += 1\n",
    "        else:\n",
    "            print('Você PERDEU')\n",
    "            break\n",
    "    print('Vamos jogar novamente...')  \n",
    "print(f'GAME OVER! Você venceu {v} vezes')"
   ]
  },
  {
   "cell_type": "code",
   "execution_count": 24,
   "id": "7ac4ace5",
   "metadata": {},
   "outputs": [
    {
     "name": "stdout",
     "output_type": "stream",
     "text": [
      "-------------------------\n",
      "CADASTRE UMA PESSOA\n",
      "-------------------------\n",
      "Idade: 25\n",
      "Sexo: [M/F] h\n",
      "Sexo: [M/F] s\n",
      "Sexo: [M/F] 16\n",
      "Sexo: [M/F] m\n",
      "-------------------------\n",
      "Quer continuar? [S/N]35\n",
      "-------------------------\n",
      "-------------------------\n",
      "Quer continuar? [S/N]h\n",
      "-------------------------\n",
      "-------------------------\n",
      "Quer continuar? [S/N]n\n",
      "-------------------------\n",
      "-------------------------\n",
      "CADASTRE UMA PESSOA\n",
      "-------------------------\n"
     ]
    },
    {
     "ename": "KeyboardInterrupt",
     "evalue": "Interrupted by user",
     "output_type": "error",
     "traceback": [
      "\u001b[1;31m---------------------------------------------------------------------------\u001b[0m",
      "\u001b[1;31mKeyboardInterrupt\u001b[0m                         Traceback (most recent call last)",
      "\u001b[1;32m~\\AppData\\Local\\Temp/ipykernel_14196/4106344161.py\u001b[0m in \u001b[0;36m<module>\u001b[1;34m\u001b[0m\n\u001b[0;32m      7\u001b[0m     \u001b[0mprint\u001b[0m\u001b[1;33m(\u001b[0m\u001b[1;34m'CADASTRE UMA PESSOA'\u001b[0m\u001b[1;33m)\u001b[0m\u001b[1;33m\u001b[0m\u001b[1;33m\u001b[0m\u001b[0m\n\u001b[0;32m      8\u001b[0m     \u001b[0mprint\u001b[0m\u001b[1;33m(\u001b[0m\u001b[1;34m'-'\u001b[0m\u001b[1;33m*\u001b[0m\u001b[1;36m25\u001b[0m\u001b[1;33m)\u001b[0m\u001b[1;33m\u001b[0m\u001b[1;33m\u001b[0m\u001b[0m\n\u001b[1;32m----> 9\u001b[1;33m     \u001b[0midade\u001b[0m \u001b[1;33m=\u001b[0m \u001b[0mint\u001b[0m\u001b[1;33m(\u001b[0m\u001b[0minput\u001b[0m\u001b[1;33m(\u001b[0m\u001b[1;34m'Idade: '\u001b[0m\u001b[1;33m)\u001b[0m\u001b[1;33m)\u001b[0m\u001b[1;33m\u001b[0m\u001b[1;33m\u001b[0m\u001b[0m\n\u001b[0m\u001b[0;32m     10\u001b[0m     \u001b[0msexo\u001b[0m \u001b[1;33m=\u001b[0m \u001b[1;34m' '\u001b[0m\u001b[1;33m\u001b[0m\u001b[1;33m\u001b[0m\u001b[0m\n\u001b[0;32m     11\u001b[0m     \u001b[1;32mwhile\u001b[0m \u001b[0msexo\u001b[0m \u001b[1;32mnot\u001b[0m \u001b[1;32min\u001b[0m \u001b[1;34m'MF'\u001b[0m\u001b[1;33m:\u001b[0m\u001b[1;33m\u001b[0m\u001b[1;33m\u001b[0m\u001b[0m\n",
      "\u001b[1;32m~\\anaconda3\\lib\\site-packages\\ipykernel\\kernelbase.py\u001b[0m in \u001b[0;36mraw_input\u001b[1;34m(self, prompt)\u001b[0m\n\u001b[0;32m   1004\u001b[0m                 \u001b[1;34m\"raw_input was called, but this frontend does not support input requests.\"\u001b[0m\u001b[1;33m\u001b[0m\u001b[1;33m\u001b[0m\u001b[0m\n\u001b[0;32m   1005\u001b[0m             )\n\u001b[1;32m-> 1006\u001b[1;33m         return self._input_request(\n\u001b[0m\u001b[0;32m   1007\u001b[0m             \u001b[0mstr\u001b[0m\u001b[1;33m(\u001b[0m\u001b[0mprompt\u001b[0m\u001b[1;33m)\u001b[0m\u001b[1;33m,\u001b[0m\u001b[1;33m\u001b[0m\u001b[1;33m\u001b[0m\u001b[0m\n\u001b[0;32m   1008\u001b[0m             \u001b[0mself\u001b[0m\u001b[1;33m.\u001b[0m\u001b[0m_parent_ident\u001b[0m\u001b[1;33m[\u001b[0m\u001b[1;34m\"shell\"\u001b[0m\u001b[1;33m]\u001b[0m\u001b[1;33m,\u001b[0m\u001b[1;33m\u001b[0m\u001b[1;33m\u001b[0m\u001b[0m\n",
      "\u001b[1;32m~\\anaconda3\\lib\\site-packages\\ipykernel\\kernelbase.py\u001b[0m in \u001b[0;36m_input_request\u001b[1;34m(self, prompt, ident, parent, password)\u001b[0m\n\u001b[0;32m   1049\u001b[0m             \u001b[1;32mexcept\u001b[0m \u001b[0mKeyboardInterrupt\u001b[0m\u001b[1;33m:\u001b[0m\u001b[1;33m\u001b[0m\u001b[1;33m\u001b[0m\u001b[0m\n\u001b[0;32m   1050\u001b[0m                 \u001b[1;31m# re-raise KeyboardInterrupt, to truncate traceback\u001b[0m\u001b[1;33m\u001b[0m\u001b[1;33m\u001b[0m\u001b[0m\n\u001b[1;32m-> 1051\u001b[1;33m                 \u001b[1;32mraise\u001b[0m \u001b[0mKeyboardInterrupt\u001b[0m\u001b[1;33m(\u001b[0m\u001b[1;34m\"Interrupted by user\"\u001b[0m\u001b[1;33m)\u001b[0m \u001b[1;32mfrom\u001b[0m \u001b[1;32mNone\u001b[0m\u001b[1;33m\u001b[0m\u001b[1;33m\u001b[0m\u001b[0m\n\u001b[0m\u001b[0;32m   1052\u001b[0m             \u001b[1;32mexcept\u001b[0m \u001b[0mException\u001b[0m\u001b[1;33m:\u001b[0m\u001b[1;33m\u001b[0m\u001b[1;33m\u001b[0m\u001b[0m\n\u001b[0;32m   1053\u001b[0m                 \u001b[0mself\u001b[0m\u001b[1;33m.\u001b[0m\u001b[0mlog\u001b[0m\u001b[1;33m.\u001b[0m\u001b[0mwarning\u001b[0m\u001b[1;33m(\u001b[0m\u001b[1;34m\"Invalid Message:\"\u001b[0m\u001b[1;33m,\u001b[0m \u001b[0mexc_info\u001b[0m\u001b[1;33m=\u001b[0m\u001b[1;32mTrue\u001b[0m\u001b[1;33m)\u001b[0m\u001b[1;33m\u001b[0m\u001b[1;33m\u001b[0m\u001b[0m\n",
      "\u001b[1;31mKeyboardInterrupt\u001b[0m: Interrupted by user"
     ]
    }
   ],
   "source": [
    "#Exercício Python #069 - Análise de dados do grupo\n",
    "cidade = chomem = cmulher = 0\n",
    "continua = ' '\n",
    "resp = ' '\n",
    "while True:\n",
    "    print('-'*25)\n",
    "    print('CADASTRE UMA PESSOA')\n",
    "    print('-'*25)\n",
    "    idade = int(input('Idade: '))\n",
    "    sexo = ' '\n",
    "    while sexo not in 'MF':\n",
    "        sexo = str(input('Sexo: [M/F] ')).strip().upper()[0]\n",
    "        if idade >= 18:\n",
    "            cidade += 1\n",
    "        if sexo == 'M':                    \n",
    "            chomem += 1\n",
    "        elif idade < 20 and sexo == 'F':\n",
    "            cmulher += 1\n",
    "    while resp not in 'SN':\n",
    "        print('-'*25)\n",
    "        resp = str(input('Quer continuar? [S/N]')).strip().upper()[0]\n",
    "        print('-'*25)\n",
    "        if resp == 'N':\n",
    "            break\n",
    "print(f'Total de pessoas com mais de 18 anos: {cidade}')\n",
    "print(f'Ao todo temos {chomem} homens cadastrados')\n",
    "print(f'E temos {cmulher} mulheres com menos de 20 anos')"
   ]
  },
  {
   "cell_type": "code",
   "execution_count": 10,
   "id": "2dc695ad",
   "metadata": {},
   "outputs": [
    {
     "name": "stdout",
     "output_type": "stream",
     "text": [
      "Nome do produto: Caderno\n",
      "Preço: R$35\n",
      "Quer continuar? [S/N] s\n",
      "Nome do produto: Lapis\n",
      "Preço: R$1.5\n",
      "Quer continuar? [S/N] s\n",
      "Nome do produto: Borracha\n",
      "Preço: R$0.5\n",
      "Quer continuar? [S/N] S\n",
      "Nome do produto: Notebook\n",
      "Preço: R$2500\n",
      "Quer continuar? [S/N] n\n",
      "------------FIM DO PROGRAMA-------------\n",
      "O total da compra foi 2537.00\n",
      "Temos 1 produtos custando mais de R$ 1.000,00\n",
      "O produto mais barato foi Borracha e custa R$ 0.50\n"
     ]
    }
   ],
   "source": [
    "#Exercício Python #070 - Estatísticas em produtos\n",
    "'''print('-'*25)\n",
    "print('LOJA SUPER BARATO')\n",
    "print('-'*25)\n",
    "produtos_comprados = produtos_mais_1000 = total = 0\n",
    "while True:\n",
    "    produto = str(input('Nome do produto: '))\n",
    "    preço = float(input('Preço: R$ '))\n",
    "    produtos_comprados += 1\n",
    "    total += preço\n",
    "    if preço > 1000:\n",
    "        produtos_mais_1000 +=1\n",
    "    elif produtos_comprados == 1:\n",
    "        produto_mais_barato = preço\n",
    "        nome_mais_barato = produto\n",
    "    else:\n",
    "        if produto_mais_barato > preço:\n",
    "            produto_mais_barato = preço\n",
    "            nome_mais_barato = produto\n",
    "    while True:\n",
    "        opção = str(input('Quer continuar? [S/N] ')).upper().strip()[0]\n",
    "        if opção != 'S' and opção != 'N':\n",
    "            print('Tente de novo opção invalida')\n",
    "        else:\n",
    "            break\n",
    "    if opção == 'N':\n",
    "        break \n",
    "print('--------FIM-------')\n",
    "print(f'O total da compra foi R$ {total}')\n",
    "print(f'Temos {produtos_mais_1000} produtos custando mais de R$ 1.000,00')\n",
    "print(f'O produto mais barato foi {nome_mais_barato} que custa R$ {produto_mais_barato}')'''\n",
    "total = totmil = menor = cont = 0\n",
    "barato = ' '\n",
    "while True:\n",
    "    produto = str(input('Nome do produto: '))\n",
    "    preço = float(input('Preço: R$'))\n",
    "    cont += 1\n",
    "    total += preço\n",
    "    if preço > 1000:\n",
    "        totmil += 1\n",
    "    if cont == 1 or preço < menor:\n",
    "        menor = preço\n",
    "        barato = produto\n",
    "    resp = ' '\n",
    "    while resp not in 'SN':\n",
    "        resp = str(input('Quer continuar? [S/N] ')).strip().upper()[0]\n",
    "    if resp == 'N':\n",
    "        break\n",
    "print('{:-^40}'.format('FIM DO PROGRAMA'))\n",
    "print(f'O total da compra foi {total:.2f}')\n",
    "print(f'Temos {totmil} produtos custando mais de R$ 1.000,00')\n",
    "print(f'O produto mais barato foi {barato} e custa R$ {menor:.2f}')"
   ]
  },
  {
   "cell_type": "code",
   "execution_count": 17,
   "id": "7b875b3a",
   "metadata": {},
   "outputs": [
    {
     "name": "stdout",
     "output_type": "stream",
     "text": [
      "========================================\n",
      "                BANCO CV                \n",
      "========================================\n",
      "Que valor você quer sacar? R$ 173\n",
      "Total de 3 cédulas de R$50\n",
      "Total de 4 cédulas de R$20\n",
      "Total de 4 cédulas de R$10\n",
      "Total de 7 cédulas de R$1\n"
     ]
    }
   ],
   "source": [
    " #Exercício Python #071 - Simulador de Caixa Eletrônico\n",
    "print(f'{\"\":=^40}')\n",
    "print(f'{\"BANCO CV\":^40}')\n",
    "print(f'{\"\":=^40}')\n",
    "saque = int(input('Que valor você quer sacar? R$ '))\n",
    "total = saque\n",
    "céd = 50\n",
    "totcéd = 0\n",
    "while True:\n",
    "    if total >= céd:\n",
    "        total-=céd\n",
    "        totcéd +=1\n",
    "    else:\n",
    "        if totcéd > 0:\n",
    "            print(f'Total de {totcéd} cédulas de R${céd}')\n",
    "        if céd == 50:\n",
    "            céd = 20\n",
    "        elif céd == 20:\n",
    "            céd = 10\n",
    "        elif céd == 10:\n",
    "            céd = 1\n",
    "        if total == 0:\n",
    "            break\n",
    "\n"
   ]
  },
  {
   "cell_type": "code",
   "execution_count": 13,
   "id": "f5023e87",
   "metadata": {},
   "outputs": [
    {
     "name": "stdout",
     "output_type": "stream",
     "text": [
      "7\n",
      "2\n",
      "1\n",
      "('Gustavo', 39, 'M', 99.88)\n"
     ]
    }
   ],
   "source": [
    "#TUPLAS\n",
    "lanche = ('Hambúrque','Suco','Pizza','Pudim','Batata Frita')\n",
    "'''print(lanche[1])\n",
    "print(lanche[3])\n",
    "print(lanche[-2])\n",
    "print(lanche[1:3])\n",
    "print(lanche[2:])\n",
    "print(lanche[:2]) #Sepre ignora o último elemento\n",
    "print(lanche[-3:])'''\n",
    "#Tuplas são imutáveis\n",
    "#lanche[1] = 'Refrigerante'\n",
    "'''for comida in lanche:\n",
    "    print(f'Eu vou comer {comida}')\n",
    "print('Comi pra caramba!')'''\n",
    "\n",
    "'''print(len(lanche))\n",
    "\n",
    "for cont in range(0,len(lanche)):\n",
    "    print(f'Comi pra caramba {lanche[cont]}')\n",
    "print('Comi pra caramba')\n",
    "\n",
    "for pos, comida in enumerate(lanche):\n",
    "    print(f'Eu vou comer {comida} na posição {pos}')'''\n",
    "\n",
    "'''print(sorted(lanche))\n",
    "print(lanche)'''\n",
    "\n",
    "a = (2,5,4)\n",
    "b = (5,8,1,2)\n",
    "c = a + b\n",
    "\n",
    "\n",
    "print(len(c))\n",
    "print(c.count(5)) \n",
    "print(c.index(5))\n",
    "pessoa = ('Gustavo',39,'M', 99.88)\n",
    "print(pessoa)\n",
    "del(pessoa)\n"
   ]
  },
  {
   "cell_type": "code",
   "execution_count": 9,
   "id": "5ae07ba2",
   "metadata": {},
   "outputs": [
    {
     "name": "stdout",
     "output_type": "stream",
     "text": [
      "Digite um núero entre 0 e 20: 1\n",
      "Você digitou o núnero um!\n",
      "Você digitou o número um!\n"
     ]
    }
   ],
   "source": [
    "#Exercício Python #072 - Número por Extenso\n",
    "'''núm = ('zero','um', 'dois','três','quatro','cinco','seis','sete','oito','nove','dez','onze','doze','treze','catorze','quinze',\n",
    "       'dezesseis','dezessete','dezoito','dezenove','vinte')\n",
    "while True:\n",
    "    valor = int(input('Digite um número entre 0 e 20: '))\n",
    "    if valor <0 or valor >20:\n",
    "        valor = int(input('Digite um número entre 0 e 20: '))\n",
    "        print(f'Você digitou o número {núm[valor]}!')\n",
    "        break\n",
    "    else:\n",
    "        print(f'Você digitou o número {núm[valor]}!')\n",
    "        break\n",
    "\n",
    "#Solução curta        \n",
    "while valor not in range(0,21):\n",
    "    valor = int(input('Digite um número entre 0 e 20: '))\n",
    "print(f'Você digitou o número {núm[valor]}!')\n",
    "\n",
    "#Não entendi\n",
    "while n not in list(map(str, range(0, 21))):\n",
    "    n = input(\"Numero invalido,Digite um numero entre 0 e 20: \").strip()\n",
    "n=int(n)\n",
    "\n",
    "#Guanabará\n",
    "while True:\n",
    "    número = int(input('Digite um número entre 0 e 20: '))\n",
    "    if 0 <= número <= 20:\n",
    "        break\n",
    "    print('Tente novamente.', end='')\n",
    "print(f'Você digitou o número {núm[número]}')\n",
    "'''\n",
    "\n",
    "#voltado a praticar\n",
    "núm = ('zero','um', 'dois','três','quatro','cinco','seis','sete','oito','nove','dez','onze','doze','treze','catorze','quinze',\n",
    "       'dezesseis','dezessete','dezoito','dezenove','vinte')\n",
    "while True:\n",
    "    extenso = int(input(f'Digite um núero entre 0 e 20: '))\n",
    "    if extenso <0 or extenso >20:\n",
    "        extenso = int(input('Digite um número entre 0 e 20: '))\n",
    "        print(f'Você digitou o número {núm[extenso]}!')\n",
    "        break\n",
    "    else:\n",
    "        print(f'Você digitou o núnero {núm[extenso]}!')\n",
    "        break\n",
    "        \n",
    "#Solução curta        \n",
    "\n",
    "while extenso not in range(0,21):\n",
    "    extenso = int(input('Digite um número entre 0 e 20: '))\n",
    "print(f'Você digitou o número {núm[extenso]}!')"
   ]
  },
  {
   "cell_type": "code",
   "execution_count": 22,
   "id": "8c18a687",
   "metadata": {},
   "outputs": [
    {
     "name": "stdout",
     "output_type": "stream",
     "text": [
      "-=-=-=-=-=-=-=-=-=-=-=-=-=-=-=-=-=-=-=-=\n",
      "Lista de time do Brasileirão: ('Palmeira', 'Santos', 'Vasco da Gama', 'Grêmio', 'Flamengo', 'Corinthians', 'Internacional', 'Cruzeiro', 'São Paulo', 'Atlético Mineiro', 'Botafogo', 'Fluminense', 'Coritiba', 'Bahia', 'Goiás', 'Guarani', 'Sport', 'Portuguesa', 'Atlético Paranaense', 'Vitória')\n",
      "-=-=-=-=-=-=-=-=-=-=-=-=-=-=-=-=-=-=-=-=\n",
      "Os 5 primeiros são: ('Palmeira', 'Santos', 'Vasco da Gama', 'Grêmio', 'Flamengo')\n",
      "-=-=-=-=-=-=-=-=-=-=-=-=-=-=-=-=-=-=-=-=\n",
      "Os 4 últimos são: ('Sport', 'Portuguesa', 'Atlético Paranaense', 'Vitória')\n",
      "-=-=-=-=-=-=-=-=-=-=-=-=-=-=-=-=-=-=-=-=\n",
      "O time na ordem alfabética: ['Atlético Mineiro', 'Atlético Paranaense', 'Bahia', 'Botafogo', 'Corinthians', 'Coritiba', 'Cruzeiro', 'Flamengo', 'Fluminense', 'Goiás', 'Grêmio', 'Guarani', 'Internacional', 'Palmeira', 'Portuguesa', 'Santos', 'Sport', 'São Paulo', 'Vasco da Gama', 'Vitória']\n",
      "-=-=-=-=-=-=-=-=-=-=-=-=-=-=-=-=-=-=-=-=\n",
      "O Internacional está na 7° posição\n"
     ]
    }
   ],
   "source": [
    "#Exercício Python #073 - Tuplas com Times de Futebol\n",
    "t = ('Palmeira', 'Santos', 'Vasco da Gama', 'Grêmio', 'Flamengo', 'Corinthians', 'Internacional', \n",
    "     'Cruzeiro', 'São Paulo', 'Atlético Mineiro', 'Botafogo', 'Fluminense', 'Coritiba', 'Bahia',\n",
    "     'Goiás', 'Guarani', 'Sport', 'Portuguesa', 'Atlético Paranaense', 'Vitória')\n",
    "print('-='*20)\n",
    "print(f'Lista de time do Brasileirão: {t}')\n",
    "print('-='*20)\n",
    "print(f'Os 5 primeiros são: {t[0:5]}')\n",
    "'''for c in range(0,5):\n",
    "    print(f'{t[c]},',end = ' ')'''\n",
    "print('-='*20)\n",
    "print(f'Os 4 últimos são: {t[-4:]}')\n",
    "print('-='*20)\n",
    "print(f'O time na ordem alfabética: {sorted(t)}')\n",
    "print('-='*20)\n",
    "print(f'O Internacional está na {t.index(\"Internacional\")+1}° posição')\n"
   ]
  },
  {
   "cell_type": "code",
   "execution_count": 18,
   "id": "924f8f77",
   "metadata": {},
   "outputs": [
    {
     "name": "stdout",
     "output_type": "stream",
     "text": [
      "Os valores sorteados foram (3, 8, 2, 1, 5)\n",
      "3 8 2 1 5 \n",
      "O menor valor sorteado foi 1\n",
      "\n",
      "O maior valor sorteado foi 8\n"
     ]
    }
   ],
   "source": [
    "#Exercício Python #074 - Maior e menor valores em Tupla\n",
    "'''from random import randint\n",
    "número = (randint(0,10),randint(0,10),randint(0,10),randint(0,10),randint(0,10))\n",
    "print(f'Os valores sorteados foram {número}')\n",
    "for n in número:\n",
    "    print(f'{n}',end=' ')\n",
    "print(f'\\nO menor valor sorteado foi {min(número)}')\n",
    "print(f'O maior valor sorteado foi {max(número)}')\n",
    "\n",
    "from random import sample\n",
    "a = tuple(sample(range(0,10),5)) #interessante\n",
    "print(a)'''\n",
    "\n",
    "#a = tuple(randint(1, 10) for i in range(5))\n",
    "\n",
    "#voltando a práticar\n",
    "from random import randint\n",
    "número = (randint(0,10),randint(0,10),randint(0,10),randint(0,10),randint(0,10))\n",
    "print(f'Os valores sorteados foram {número}')\n",
    "for n in número:\n",
    "    print(f'{n}', end=' ')\n",
    "print(f'\\nO menor valor sorteado foi {min(número)}')\n",
    "print(f'\\nO maior valor sorteado foi {max(número)}')"
   ]
  },
  {
   "cell_type": "code",
   "execution_count": 40,
   "id": "a76ee07a",
   "metadata": {},
   "outputs": [
    {
     "name": "stdout",
     "output_type": "stream",
     "text": [
      "Digite o 1° valor5\n",
      "Digite o 2° valor6\n",
      "Digite o 3° valor7\n",
      "Digite o 4° valor9\n",
      "Você digitou os valores (5, 6, 7, 9)\n",
      "O valor 9 apareceu 1 vezes\n",
      "O valor 3 não foi digitado em nenhuma posição\n",
      "Os valores pares digitados foram:  6 "
     ]
    }
   ],
   "source": [
    "#Exercício Python #075 - Análise de dados em uma Tupla\n",
    "#a = tuple(input('Digite um número: ') for i in range(4)) #Interessante isso aqui, não conhecia.\n",
    "'''a = tuple(int(input(f'Digite o {c}° valor')) for c in range(1,5)) #Achei ainda mais interessante\n",
    "print(f'Você digitou os números {a}')\n",
    "print(f'O número 9 apareceu {a.count(9)} vezes') #count quantas vezes aparece\n",
    "print(f'O número 3 apareceu na {a.index(0)+1}° posição' if 3 in a else'Não foi digitado o número 3') \n",
    "#print({n for n in a if n%2==0},end='')\n",
    "\n",
    "valores = tuple(int(input('Digite valores ')) for c in range(1, 5))\n",
    "print(f'O numero nove aparece {valores.count(9)} vezes')\n",
    "print(f'Valor 3 foi digitado pela primeira vez na {valores.index(3)+1}º posição' if 3 in valores else 'Não foi digitado valor 3')\n",
    "print('Valores pares digitados foram', end=' ')\n",
    "\n",
    "print({n for n in valores if n % 2 == 0}, end=' ') \n",
    "\n",
    "#Guanabara\n",
    "núm = (int(input('Digite um número: ')),\n",
    "      int(input('Digite outro número: ')),\n",
    "      int(input('Digite mais um número: ')),\n",
    "      int(input('Digite o último número: ')))\n",
    "print(f'Você digitou os valores {núm}')\n",
    "print(f'O valor 9 apareceu {núm.count(9)} vezes')\n",
    "if 3 in núm:\n",
    "    print(f'O valor 3 apareceu na {núm.index(3)+1}° posição')\n",
    "else:\n",
    "    print('O valor 3 não foi digitado em nenhuma posição')\n",
    "print(f'Os valores pares digitados foram ', end=' ')\n",
    "for n in núm:\n",
    "    if n % 2 == 0:\n",
    "        print(f'{n}',end=' ')\n",
    "'''\n",
    "#Revisando a minha solução\n",
    "\n",
    "#a = tuple(input('Digite um número: ') for i in range(4)) \n",
    "a = tuple(int(input(f'Digite o {c}° valor')) for c in range(1,5))\n",
    "print(f'Você digitou os valores {a}')\n",
    "print(f'O valor 9 apareceu {a.count(9)} vezes')\n",
    "if 3 in a:\n",
    "    print(f'O valor 3 apareceu na {a.index(3)+1}° posição')\n",
    "else:\n",
    "    print('O valor 3 não foi digitado em nenhuma posição')\n",
    "print(f'Os valores pares digitados foram: ', end=' ')\n",
    "for n in a:\n",
    "    if n % 2 == 0:\n",
    "        print(f'{n}',end=' ')\n",
    "    \n"
   ]
  },
  {
   "cell_type": "code",
   "execution_count": 13,
   "id": "7041d180",
   "metadata": {},
   "outputs": [
    {
     "name": "stdout",
     "output_type": "stream",
     "text": [
      "----------------------------------------\n",
      "           LISTAGEM DE PREÇO            \n",
      "----------------------------------------\n",
      "Lápis.........................R$   1.75\n",
      "Borracha......................R$   2.00\n",
      "Caderno.......................R$  15.90\n",
      "Estojo........................R$  25.00\n",
      "Transferidor..................R$   4.20\n",
      "Compasso......................R$   9.99\n",
      "Mochila.......................R$ 120.32\n",
      "Canetas.......................R$  22.30\n",
      "Livro.........................R$  34.90\n",
      "Lápis.........................R$  1.75\n",
      "Borracha......................R$  2.00\n",
      "Caderno.......................R$ 15.90\n",
      "Estojo........................R$ 25.00\n",
      "Transferidor..................R$  4.20\n",
      "Compasso......................R$  9.99\n",
      "Mochila.......................R$ 120.32\n",
      "Canetas.......................R$ 22.30\n",
      "Livro.........................R$ 34.90\n",
      "----------------------------------------\n"
     ]
    },
    {
     "data": {
      "text/plain": [
       "\"for i in listagem:\\n    if type(i) is str:\\n        print(f'{i:.<32}', end='')\\n    else:\\n        print(f'R$ {i:>5.2f}')\\nprint('--'*20)\""
      ]
     },
     "execution_count": 13,
     "metadata": {},
     "output_type": "execute_result"
    }
   ],
   "source": [
    "#Exercício Python #076 - Lista de Preços com Tupla\n",
    "listagem = ('Lápis', 1.75, 'Borracha', 2, 'Caderno', 15.9, 'Estojo', 25, 'Transferidor', 4.2, 'Compasso', 9.99, 'Mochila',\n",
    "          120.32, 'Canetas', 22.30, 'Livro', 34.90)\n",
    "print('-'*40)\n",
    "print(f'{\"LISTAGEM DE PREÇO\":^40}') #\"^\" centraliza \n",
    "print('-'*40)\n",
    "for pos in range(0,len(listagem)):\n",
    "    if pos % 2 == 0:\n",
    "        print(f'{listagem[pos]:.<30}', end = '')\n",
    "    else: \n",
    "        print(f'R${listagem[pos]:>7.2f}')\n",
    "\n",
    "#Outra forma de resolver / menos linha ainda\n",
    "for i in listagem:\n",
    "    if type(i) is str:\n",
    "        print(f'{i:.<30}',end='')\n",
    "    else:\n",
    "        print(f'R$ {i:>5.2f}')\n",
    "print('--'*20)"
   ]
  },
  {
   "cell_type": "code",
   "execution_count": 56,
   "id": "05ffa8c6",
   "metadata": {},
   "outputs": [
    {
     "name": "stdout",
     "output_type": "stream",
     "text": [
      "Em qual palavra vocÊ quer saber a quantidade de vogais?Vaca\n",
      "Na palavra VACA temos A A \n",
      "Quer verificar a quantidade de vogais em outras palavras? [S/N] S\n",
      "Em qual palavra vocÊ quer saber a quantidade de vogais?Boi\n",
      "Na palavra BOI temos O I \n",
      "Quer verificar a quantidade de vogais em outras palavras? [S/N] n\n",
      "Vogais da palavra (Viajar):\u001b[1;33mi\u001b[m \u001b[1;33ma\u001b[m \u001b[1;33ma\u001b[m \n",
      "Vogais da palavra (Elegante):\u001b[1;33me\u001b[m \u001b[1;33me\u001b[m \u001b[1;33ma\u001b[m \u001b[1;33me\u001b[m \n",
      "Vogais da palavra (Animal):\u001b[1;33ma\u001b[m \u001b[1;33mi\u001b[m \u001b[1;33ma\u001b[m \n",
      "Vogais da palavra (Carro):\u001b[1;33ma\u001b[m \u001b[1;33mo\u001b[m \n",
      "Vogais da palavra (Brasileiro):\u001b[1;33ma\u001b[m \u001b[1;33mi\u001b[m \u001b[1;33me\u001b[m \u001b[1;33mi\u001b[m \u001b[1;33mo\u001b[m \n",
      "Vogais da palavra (Abacate):\u001b[1;33ma\u001b[m \u001b[1;33ma\u001b[m \u001b[1;33ma\u001b[m \u001b[1;33me\u001b[m \n",
      "\n",
      "Na palavra Garrafa temos a a a \n",
      "Na palavra Planta temos a a \n",
      "Na palavra Mouse temos o u e \n",
      "Na palavra Caneta temos a e a \n",
      "Na palavra Python temos o \n",
      "Na palavra Mesa temos e a \n",
      "Na palavra Copo temos o o \n",
      "Na palavra Impressora temos I e o a \n",
      "Na palavra Computador temos o u a o "
     ]
    }
   ],
   "source": [
    "#Exercício Python #077 - Contando vogais em Tupla\n",
    "#Crie um programa que tenha uma tupla com várias palavras (não usar acentos).\n",
    "#Depois disso, você deve mostrar, para cada palavra, quais são as suas vogais.\n",
    "palavra = str(input('Em qual palavra vocÊ quer saber a quantidade de vogais?')).strip().upper()\n",
    "print(f\"Na palavra {palavra} temos \", end='')\n",
    "while True:\n",
    "    for p in palavra:\n",
    "        if p in 'AEIOU':\n",
    "            print(f'{p}',end=' ')\n",
    "    cont = str(input('\\nQuer verificar a quantidade de vogais em outras palavras? [S/N] ')).strip().upper()[0]\n",
    "    if cont == 'S':\n",
    "        palavra = str(input('Em qual palavra vocÊ quer saber a quantidade de vogais?')).strip().upper()\n",
    "        print(f\"Na palavra {palavra} temos \", end='')\n",
    "    else:\n",
    "        break\n",
    "        \n",
    "vogais = ('a','e','i','o','u')\n",
    "palavras = ('Viajar', 'Elegante', 'Animal', 'Carro', 'Brasileiro', 'Abacate')\n",
    "\n",
    "for palavra in palavras:\n",
    "    print(f'Vogais da palavra ({palavra}):', end='')\n",
    "    for letra in palavra:\n",
    "        if letra.lower() in vogais:\n",
    "            print(f'\\033[1;33m{letra.lower()}\\033[m', end=' ')\n",
    "    print()\n",
    "\n",
    "'''vogais = ('a', 'e', 'i', 'o', 'u')\n",
    "palavras = ('Garrafa', 'Planta', 'Mouse', 'Caneta', 'Python', 'Mesa', 'Copo', 'Impressora', 'Computador')\n",
    "\n",
    "for pos in range(0, len(palavras)):\n",
    "    print(f'Em {palavras[pos]} temos as vogais: ', end='')\n",
    "    for c in vogais:\n",
    "        contagem = palavras[pos].count(c)\n",
    "        if contagem > 0:\n",
    "            print(c, end=' ')\n",
    "\n",
    "    print('\\r')'''\n",
    "\n",
    "#Gustavo\n",
    "palavras = ('Garrafa', 'Planta', 'Mouse', 'Caneta', 'Python', 'Mesa', 'Copo', 'Impressora', 'Computador')\n",
    "for p in palavras:\n",
    "    print(f'\\nNa palavra {p} temos ', end='')\n",
    "    for letra in p:\n",
    "        if letra.lower() in 'aeiou':\n",
    "            print(letra, end=' ')"
   ]
  },
  {
   "cell_type": "code",
   "execution_count": 82,
   "id": "376e6f65",
   "metadata": {},
   "outputs": [
    {
     "name": "stdout",
     "output_type": "stream",
     "text": [
      "[7, 5, 3, 2, 1]\n",
      "Essa lista tem 5 elementos\n",
      "[7, 5, 0, 3, 2, 1]\n",
      "[7, 5, 0, 3, 2]\n",
      "[7, 5, 3, 2]\n",
      "[7, 5, 3]\n",
      "[7, 3]\n",
      "Digite um valor: 1\n",
      "Digite um valor: 2\n",
      "Digite um valor: 3\n",
      "Digite um valor: 4\n",
      "Digite um valor: 5\n",
      "1...\n",
      "2...\n",
      "3...\n",
      "4...\n",
      "5...\n",
      "Na posição 0 encontrei o valor 1!\n",
      "Na posição 1 encontrei o valor 2!\n",
      "Na posição 2 encontrei o valor 3!\n",
      "Na posição 3 encontrei o valor 4!\n",
      "Na posição 4 encontrei o valor 5!\n",
      "Cheguei ao final da lista\n",
      "Lista A:[2, 3, 4, 7]\n",
      "Lista B:[2, 3, 8, 7]\n"
     ]
    }
   ],
   "source": [
    "#Curso Python #17 - Listas (Parte 1)\n",
    "num = [2,5,9,1]\n",
    "num[2] = 3 #Na posição 2 substitui por 3\n",
    "# num[4] = 7 como não existe nada na posição 2 da erro\n",
    "num.append(7) #Modo adequado de inserir um novo elemento na lista\n",
    "num.sort() #Coloca na ordem\n",
    "num.sort(reverse=True)\n",
    "print(num)\n",
    "print(f\"Essa lista tem {len(num)} elementos\")\n",
    "\n",
    "num.insert(2,0) #outro modo de inserir elemento\n",
    "print(num)\n",
    "num.pop() #Elimina o último elemento\n",
    "print(num)\n",
    "num.pop(2) #Elimina os dois últimos elementos\n",
    "print(num)\n",
    "\n",
    "num.remove(2) #elimina a primeira ocorrência do valor que quer eliminar\n",
    "print(num)\n",
    "\n",
    "if 5 in num: #usando a condição 'if'\n",
    "    num.remove(5)\n",
    "else:\n",
    "    print('Não achei o número 5')\n",
    "print(num)\n",
    "\n",
    "valores = [] #lista começando com conteúdo vazio\n",
    "for cont in range(0,5):\n",
    "    valores.append(int(input('Digite um valor: ')))\n",
    "    \n",
    "'''valores.append(5)\n",
    "valores.append(9)\n",
    "valores.append(4)\n",
    "valores.append(7)\n",
    "'''\n",
    "for v in valores:\n",
    "    print(f'{v}...')\n",
    "    \n",
    "for c, v in enumerate(valores): #além do valor o índice / pega quanto o valor como a chave\n",
    "    print(f'Na posição {c} encontrei o valor {v}!')    \n",
    "print('Cheguei ao final da lista')\n",
    "\n",
    "a = [2,3,4,7]\n",
    "b = a [:] #b recebe uma copia de todos os itens de 'a'\n",
    "b[2] = 8 #mexe em ambas as listas / cria uma relação\n",
    "print(f'Lista A:{a}')\n",
    "print(f'Lista B:{b}')"
   ]
  },
  {
   "cell_type": "code",
   "execution_count": 14,
   "id": "a5c4996e",
   "metadata": {},
   "outputs": [
    {
     "name": "stdout",
     "output_type": "stream",
     "text": [
      "Digite um valor para a posião 0 6\n",
      "Digite um valor para a posião 1 12\n",
      "Digite um valor para a posião 2 6\n",
      "Digite um valor para a posião 3 8\n",
      "Digite um valor para a posião 4 9\n",
      "=-=-=-=-=-=-=-=-=-=-=-=-=-=-=-=-=-=-=-=-=-=-=-=-=-=-=-=-=-=-\n",
      "VocÊ digitou os valores [6, 12, 6, 8, 9]\n",
      "O menor valor digitado foi 12 1...\n",
      "O maior valor digitado foi 6 0...2..."
     ]
    }
   ],
   "source": [
    "#078 - Maior e Menor valores na Lista\n",
    "\n",
    "#raw_input que é uma função padrão do Python que requisita do usuario uma string\n",
    "\n",
    "'''valores = []\n",
    "for cont in range(0,5):\n",
    "    valores.append(int(input(f'Digite um valor na posição {cont}°:')))\n",
    "print('-='*15)\n",
    "print(f'Você digitou os valores {valores}')\n",
    "\n",
    "valores_min = min(valores)\n",
    "valores_max = max(valores)\n",
    "min_pos= valores.index(valores_min)\n",
    "max_pos= valores.index(valores_max)\n",
    "print(f'O maior valor digitado foi {min(valores)} nas posições ', end='')                                          \n",
    "for c, v in enumerate(valores):\n",
    "    if v == valores_min:\n",
    "        print(f'{c}...', end='')  \n",
    "print(f'\\nO maior valor digitado foi {max(valores)} nas posições ', end='')\n",
    "for c, v in enumerate(valores):\n",
    "    if v == valores_max:\n",
    "        print(f'{c}...', end='')  '''\n",
    "        \n",
    "#RESPOSTA GUANABARA\n",
    "listanum = []\n",
    "mai = 0\n",
    "men = 0\n",
    "for c in range(0,5):\n",
    "    listanum.append(int(input(f'Digite um valor para a posião {c} ')))\n",
    "    if c == 0:\n",
    "        mai = men = listanum[c]\n",
    "    else:\n",
    "        if listanum[c] > mai:\n",
    "            mai = listanum[c]\n",
    "        if listanum[c] < men:\n",
    "            men = listanum[c]\n",
    "print('=-'*30)\n",
    "print(f'VocÊ digitou os valores {listanum}' )\n",
    "print(f'O menor valor digitado foi {mai} ', end = '')\n",
    "for i, v in enumerate(listanum):\n",
    "    if v == mai:\n",
    "        print(f'{i}...', end = '')\n",
    "print(f'\\nO maior valor digitado foi {men} ', end='')\n",
    "for i, v in enumerate(listanum):\n",
    "    if v == men:\n",
    "        print(f'{i}...', end = '')\n"
   ]
  },
  {
   "cell_type": "code",
   "execution_count": 4,
   "id": "85d9e0cb",
   "metadata": {},
   "outputs": [
    {
     "name": "stdout",
     "output_type": "stream",
     "text": [
      "Digite um valor: 9\n",
      "Valor adicionado com sucesso...\n",
      "Quer continuar? [S/N] s\n",
      "Digite um valor: 5\n",
      "Valor adicionado com sucesso...\n",
      "Quer continuar? [S/N] s\n",
      "Digite um valor: 6\n",
      "Valor adicionado com sucesso...\n",
      "Quer continuar? [S/N] n\n",
      "[9, 5, 6]\n",
      "Digite um valor: 9\n",
      "Valor adicionado com SUCESSO...\n",
      "Quer continuar? [S/N]s\n",
      "Digite um valor: 6\n",
      "Valor adicionado com SUCESSO...\n",
      "Quer continuar? [S/N]s\n",
      "Digite um valor: 6\n",
      "Valor duplicado! Não vou adicionar...\n",
      "Quer continuar? [S/N]s\n",
      "Digite um valor: 2\n",
      "Valor adicionado com SUCESSO...\n",
      "Quer continuar? [S/N]n\n",
      "-=-=-=-=-=-=-=-=-=-=-=-=-=-=-=-=-=-=-=-=-=-=-=-=-=-=-=-=-=-=\n",
      "Você digitou os valores {números}\n"
     ]
    }
   ],
   "source": [
    "#079 - Valores únicos em uma Lista\n",
    "lista79 = []\n",
    "lista79.append(int(input('Digite um valor: ')))        \n",
    "print('Valor adicionado com sucesso...')\n",
    "while True:\n",
    "    cont = str(input('Quer continuar? [S/N] ')).strip().upper()\n",
    "    if cont == 'S':\n",
    "        valor = int(input('Digite um valor: '))\n",
    "        if valor in lista79:\n",
    "            print(f'Valor duplicado! Não vou adicionar...')\n",
    "        else:\n",
    "            lista79.append(valor)        \n",
    "            print('Valor adicionado com sucesso...')\n",
    "    else:\n",
    "        break\n",
    "print(lista79)\n",
    "    \n",
    "#GUANABARA\n",
    "\n",
    "números = list()\n",
    "while True:\n",
    "    n = int(input('Digite um valor: '))\n",
    "    if n not in números:\n",
    "        números.append(n)\n",
    "        print('Valor adicionado com SUCESSO...')\n",
    "    else:\n",
    "        print('Valor duplicado! Não vou adicionar...')\n",
    "    r = str(input('Quer continuar? [S/N]'))\n",
    "    if r in 'Nn':\n",
    "        break\n",
    "print('-='*30)\n",
    "números.sort()\n",
    "print(f'Você digitou os valores {números}')\n"
   ]
  },
  {
   "cell_type": "code",
   "execution_count": 5,
   "id": "27d4bcc7",
   "metadata": {},
   "outputs": [
    {
     "name": "stdout",
     "output_type": "stream",
     "text": [
      "Digite um valor: 5\n",
      "Digite um valor: 6\n",
      "Digite um valor: 9\n",
      "Digite um valor: 8\n",
      "Digite um valor: 9\n",
      "=-=-=-=-=-=-=-=-=-=-=-=-=-=-=-=-=-=-=-=-=-=-=-=-=-=-=-=-=-=-\n",
      "Os valores digitados em ordem foram [5, 6, 8, 9, 9]\n"
     ]
    }
   ],
   "source": [
    "#080 - Lista ordenada sem repetições\n",
    "\n",
    "'''mai =  0\n",
    "lista80 = []\n",
    "\n",
    "#for c, l in enumerate(range(0,5)):\n",
    "for l in range(0,5):\n",
    "    n = int(input('Digite um valor: '))\n",
    "    lista80.append(n)\n",
    "    lista80.sort()\n",
    "    if l == 0:\n",
    "        mai = lista80[l]\n",
    "        print('Adicionado ao final da lista')\n",
    "    else:\n",
    "        if lista80[l] > mai:\n",
    "            mai = lista80[l]\n",
    "            print('Adicionado ao final da lista')\n",
    "    for c, v in enumerate (lista80):\n",
    "        if v == n:\n",
    "            print(f'adicionado na posição {c} da lista!')    \n",
    "print('-='*25)\n",
    "print(f'os valores adicionados foram {lista80}')\n",
    "\n",
    "#comentários\n",
    "import bisect\n",
    "numbers = []\n",
    "for i in range(5):\n",
    "    n = int(input('Type a number: '))\n",
    "    bisect.insort(numbers,n)\n",
    "    print(f'Number {n} included in position {numbers.index(n)}')\n",
    "print(f'Numbers typed: numbers')\n",
    "'''\n",
    "#Guanabará\n",
    "lista = []\n",
    "for c in range(0,5):\n",
    "    n = int(input('Digite um valor: '))\n",
    "    if c == 0 or n > lista[-1]:\n",
    "        lista.append(n)\n",
    "        print(f'Adicionado ao final da lista...')\n",
    "    else:\n",
    "        pos = 0\n",
    "        while pos < len(lista):\n",
    "            if n <= lista[pos]:\n",
    "                lista.insert(pos, n)\n",
    "                break\n",
    "            pos += 1\n",
    "print('=-'*30)\n",
    "print(f'Os valores digitados em ordem foram {lista}')"
   ]
  },
  {
   "cell_type": "code",
   "execution_count": 7,
   "id": "1bee13dc",
   "metadata": {},
   "outputs": [
    {
     "name": "stdout",
     "output_type": "stream",
     "text": [
      "Digite um valor: 5\n",
      "Quer continuar? [S/N]s\n",
      "Digite um valor: 12\n",
      "Quer continuar? [S/N]s\n",
      "Digite um valor: 3\n",
      "Quer continuar? [S/N]s\n",
      "Digite um valor: 15\n",
      "Quer continuar? [S/N]n\n",
      "Você digitou 4 elementos.\n",
      "Os valores em ordem descrescente são [15, 12, 5, 3]\n",
      "O valor 5 está na lista\n"
     ]
    }
   ],
   "source": [
    " #081 - Extraindo dados de uma Lista\n",
    "lista = []\n",
    "while True:\n",
    "    n = int(input('Digite um valor: '))\n",
    "    resp = str(input('Quer continuar? [S/N]')).strip().upper()\n",
    "    lista.append(n)\n",
    "    if resp in 'Nn':\n",
    "        break\n",
    "lista.sort(reverse=True)\n",
    "print(f'Você digitou {len(lista)} elementos.')\n",
    "print(f'Os valores em ordem descrescente são {lista}')\n",
    "if 5 in lista:\n",
    "    print('O valor 5 está na lista')\n",
    "else:\n",
    "    print('O valor 5 não está na Lista !')"
   ]
  },
  {
   "cell_type": "code",
   "execution_count": 12,
   "id": "754f58b0",
   "metadata": {},
   "outputs": [
    {
     "name": "stdout",
     "output_type": "stream",
     "text": [
      "Digite um número: 8\n",
      "Quer continuar? [S/N] s\n",
      "Digite um número: 10\n",
      "Quer continuar? [S/N] s\n",
      "Digite um número: 11\n",
      "Quer continuar? [S/N] s\n",
      "Digite um número: 6\n",
      "Quer continuar? [S/N] s\n",
      "Digite um número: 7\n",
      "Quer continuar? [S/N] n\n",
      "A lista completa é [8, 10, 11, 6, 7]\n",
      "A lista de pares é [8, 10, 6]\n",
      "A lista de impares é [11, 7]\n"
     ]
    }
   ],
   "source": [
    "#082 - Dividindo valores em várias listas\n",
    "lista = []\n",
    "listapar = []\n",
    "listaimpar = []\n",
    "while True:\n",
    "    lista.append(int(input('Digite um número: ')))\n",
    "    resp = str(input('Quer continuar? [S/N] ')).strip().upper()\n",
    "    if resp in 'Nn':\n",
    "        break\n",
    "for c, v in enumerate (lista):\n",
    "    if v % 2 == 0:\n",
    "        listapar.append(v) \n",
    "    else:\n",
    "        listaimpar.append(v) \n",
    "        \n",
    "#pares = list(valor for valor in valores if valor % 2 == 0)\n",
    "#impares = list(valor for valor in valores if valor % 2 == 1)\n",
    "\n",
    "print(f'A lista completa é {lista}')\n",
    "print(f\"A lista de pares é {listapar}\")\n",
    "print(f\"A lista de impares é {listaimpar}\")"
   ]
  },
  {
   "cell_type": "code",
   "execution_count": 8,
   "id": "6178bfd4",
   "metadata": {},
   "outputs": [
    {
     "name": "stdout",
     "output_type": "stream",
     "text": [
      "Digite a expressão: (2x+3))\n",
      "Sua expressão está errada\n"
     ]
    }
   ],
   "source": [
    "#083 - Validando expressões matemáticas\n",
    "\n",
    "expr = str(input('Digite a expressão: '))\n",
    "pilha = []\n",
    "for símb in expr:\n",
    "    if símb == '(':\n",
    "        pilha.append('(')\n",
    "    elif símb == ')':\n",
    "        if len(pilha) > 0:\n",
    "            pilha.pop() #remover o último elemento\n",
    "        else:\n",
    "            pilha.append(')')\n",
    "            break\n",
    "if len(pilha) == 0:\n",
    "    print('Sua expressão  está valida!')\n",
    "else:\n",
    "    print('Sua expressão está errada')\n",
    "\n",
    "percorre a lista (expr) com for ( for simb in expr )\n",
    " - se achar parêntese abrindo ( if simb == '(' ), armazena na pilha ( pilha.append('(') );\n",
    " - se achar parêntese fechando ( if simb == ')' ), remove da pilha ( pilha.pop() ). *\n",
    "ao final, se pilha vazia ( len(pilha) ==0 ), expressão validada; caso contrário, expressão inválida."
   ]
  },
  {
   "cell_type": "code",
   "execution_count": 3,
   "id": "7d2cb81c",
   "metadata": {},
   "outputs": [
    {
     "name": "stdout",
     "output_type": "stream",
     "text": [
      "Nome: Wémenson\n",
      "Idade: 25\n",
      "Nome: Davi\n",
      "Idade: 24\n",
      "Nome: Clarice\n",
      "Idade: 20\n",
      "Wémenson é maior de idade.\n",
      "Davi é maior de idade.\n",
      "Clarice é menor de idade\n",
      "Temos 2 maiores e 1 menores idade\n"
     ]
    }
   ],
   "source": [
    "#17 - Listas (Parte 2)\n",
    "\n",
    "'''teste = list()\n",
    "teste.append('Gustavo')\n",
    "teste.append(48)\n",
    "galera = list()\n",
    "galera.append(teste[:])\n",
    "teste[0] = \"Maria\"\n",
    "teste[1] = 22\n",
    "galera.append(teste[:])\n",
    "print(galera)'''\n",
    "\n",
    "'''galera = [['João',19],['Ana',33],['Joaquim',13],[\"Marcia\",45]]\n",
    "print(galera[2][1])\n",
    "'''\n",
    "\n",
    "galera  = list()\n",
    "dado = list()\n",
    "totmai = totmen = 0\n",
    "for c in range(0,3):\n",
    "    dado.append(str(input('Nome: ')))\n",
    "    dado.append(int(input('Idade: ')))\n",
    "    galera.append(dado[:])\n",
    "    dado.clear() #Para limpar os dados\n",
    "    \n",
    "for p in galera:\n",
    "    if p[1] >= 21:\n",
    "        print(f'{p[0]} é maior de idade.')\n",
    "        totmai += 1\n",
    "    else:\n",
    "        print(f'{p[0]} é menor de idade')\n",
    "        totmen += 1\n",
    "print(f'Temos {totmai} maiores e {totmen} menores idade')"
   ]
  },
  {
   "cell_type": "code",
   "execution_count": 18,
   "id": "7a8561b9",
   "metadata": {},
   "outputs": [
    {
     "name": "stdout",
     "output_type": "stream",
     "text": [
      "Nome: Wémenson\n",
      "Peso: 100\n",
      "Quer continuar? [S/N] s\n",
      "Nome: Raimundo\n",
      "Peso: 100\n",
      "Quer continuar? [S/N] s\n",
      "Nome: Daiv\n",
      "Peso: 75\n",
      "Quer continuar? [S/N] s\n",
      "Nome: Clarice\n",
      "Peso: 25\n",
      "Quer continuar? [S/N] n\n",
      "-=-=-=-=-=-=-=-=-=-=-=-=-=-=-=-=-=-=-=-=-=-=-=-=-=-=-=-=-=-=\n",
      "Os dados foram [['Wémenson', 100], ['Raimundo', 100], ['Daiv', 75], ['Clarice', 25]]\n",
      "Ao todo, Você cadastrou 4 pessoas.\n",
      "O maior peso foi de 100 kg. O peso de  Wémenson Raimundo \n",
      "O menor peso foi de 25 kg. Peso de  Clarice  "
     ]
    }
   ],
   "source": [
    "#084 - Lista composta e análise de dados\n",
    "'''lista = list()\n",
    "completa = list()\n",
    "while True:\n",
    "    lista.append(str(input('Nome: ')))\n",
    "    lista.append(float(input('Peso: ')))\n",
    "    completa.append(lista[:])\n",
    "    lista.clear() #Para limpar os dados\n",
    "    tot += 1\n",
    "    resp = str(input('Quer continuar? [S/N]')).upper().strip()\n",
    "    if resp in 'Nn':\n",
    "        break\n",
    "print('-=-'*25)\n",
    "print(f'Ao todo, você cadastrou {tot} pessoas.')\n",
    "\n",
    "maior = completa [0][1] #Assume o primeiro peso como maior\n",
    "menor = completa [0][1] #Assume o primeiro peso como menor\n",
    "\n",
    "for pessoa in completa:\n",
    "    peso = pessoa [1]\n",
    "    if peso > maior:\n",
    "        maior = peso\n",
    "    if peso < menor:\n",
    "        menor = peso'''\n",
    "    \n",
    "'''listaNomes = []\n",
    "listaPesos = []\n",
    "\n",
    "while True:\n",
    "    nome = str(input('Nome: '))\n",
    "    listaNomes.append(nome)\n",
    "    peso = float(input('Peso (kg): '))\n",
    "    listaPesos.append(peso)\n",
    "    resp = str(input('Quer continuar? [S/N] ')).upper().strip()[0]\n",
    "    if resp in 'Nn':\n",
    "        break\n",
    "print('_' * 40)\n",
    "print(f'Ao todo, você cadastrou {len(listaNomes)} pessoas')\n",
    "print(f'O(s) maior(es) peso(s) foi de {max(listaPesos)} kg de ', end='')\n",
    "for c, v in enumerate(listaPesos):\n",
    "    if v == max(listaPesos):\n",
    "        print(f'{listaNomes[c]}, ', end='')\n",
    "print(f'\\nO(s) menor(es) peso(s) foi de {min(listaPesos)} kg de ', end='')\n",
    "for c, v in enumerate(listaPesos):\n",
    "    if v == min(listaPesos):\n",
    "        print(f'{listaNomes[c]}, ', end='')\n",
    "print()'''\n",
    "\n",
    "#Resposta Guanabara / curso em vídeo\n",
    "\n",
    "temp = []\n",
    "princ = []\n",
    "mai = men = 0\n",
    "while True:\n",
    "    temp.append(str(input('Nome: ')))\n",
    "    temp.append(int(input('Peso: ')))\n",
    "    if len(princ) == 0:\n",
    "        mai = men = temp[1]\n",
    "    else:\n",
    "        if temp[1] > mai:\n",
    "            mai = temp[1]\n",
    "        if temp[1] < men:\n",
    "            men = temp[1]\n",
    "    princ.append(temp[:])\n",
    "    temp.clear()\n",
    "    resp = str(input('Quer continuar? [S/N] '))\n",
    "    if resp in \"Nn\":\n",
    "        break\n",
    "print('-='*30)    \n",
    "print(f'Os dados foram {princ}')\n",
    "print(f'Ao todo, Você cadastrou {len(princ)} pessoas.')\n",
    "print(f'O maior peso foi de {mai} kg. O peso de ', end = ' ')\n",
    "for p in princ:\n",
    "    if p[1] == mai:\n",
    "        print(f'{p[0]}', end = ' ')\n",
    "print(f'\\nO menor peso foi de {men} kg. Peso de ', end = ' ')\n",
    "for p in princ:\n",
    "    if p[1] == men:\n",
    "        print(f'{p[0]} ', end = ' ')"
   ]
  },
  {
   "cell_type": "code",
   "execution_count": 10,
   "id": "425a05b3",
   "metadata": {},
   "outputs": [
    {
     "name": "stdout",
     "output_type": "stream",
     "text": [
      "Digite o 1° valor: 12\n",
      "Digite o 2° valor: 21\n",
      "Digite o 3° valor: 7\n",
      "Digite o 4° valor: 4\n",
      "Digite o 5° valor: 10\n",
      "Digite o 6° valor: 6\n",
      "Digite o 7° valor: 8\n",
      "-=-=-=-=-=-=-=-=-=-=-=-=-=-=-=-=-=-=-=-=-=-=-=-=-=\n",
      "Os valores pares digitados foram [4, 6, 8, 10, 12]\n",
      "Os valores impares digitados foram [7, 21]\n"
     ]
    }
   ],
   "source": [
    "#085 - Listas com pares e ímpares\n",
    "\n",
    "lista = [[], []]\n",
    "\n",
    "for t in range(7):\n",
    "    num = int(input(f'Digite o {t+1}° valor: '))\n",
    "    if num % 2 == 0:\n",
    "        lista[0].append(num)\n",
    "    if num % 2  == 1:\n",
    "        lista[1].append(num)\n",
    "print('-='*25)\n",
    "lista[0].sort()\n",
    "lista[1].sort()\n",
    "print(f'Os valores pares digitados foram {lista[0]}')\n",
    "print(f'Os valores impares digitados foram {lista[1]}')"
   ]
  },
  {
   "cell_type": "code",
   "execution_count": 17,
   "id": "c16b84cd",
   "metadata": {},
   "outputs": [
    {
     "name": "stdout",
     "output_type": "stream",
     "text": [
      "Digite um valor para a posição (0, 0): 1\n",
      "Digite um valor para a posição (0, 1): 2\n",
      "Digite um valor para a posição (0, 2): 3\n",
      "Digite um valor para a posição (1, 0): 4\n",
      "Digite um valor para a posição (1, 1): 5\n",
      "Digite um valor para a posição (1, 2): 6\n",
      "Digite um valor para a posição (2, 0): 7\n",
      "Digite um valor para a posição (2, 1): 8\n",
      "Digite um valor para a posição (2, 2): 9\n",
      "[1, 2, 3]\n",
      "[4, 5, 6]\n",
      "[7, 8, 9]\n",
      "Digite um valor: 1\n"
     ]
    },
    {
     "ename": "IndexError",
     "evalue": "list assignment index out of range",
     "output_type": "error",
     "traceback": [
      "\u001b[1;31m---------------------------------------------------------------------------\u001b[0m",
      "\u001b[1;31mIndexError\u001b[0m                                Traceback (most recent call last)",
      "\u001b[1;32m~\\AppData\\Local\\Temp/ipykernel_11160/3937541005.py\u001b[0m in \u001b[0;36m<module>\u001b[1;34m\u001b[0m\n\u001b[0;32m     11\u001b[0m \u001b[1;32mfor\u001b[0m \u001b[0ma\u001b[0m \u001b[1;32min\u001b[0m \u001b[0mrange\u001b[0m\u001b[1;33m(\u001b[0m\u001b[1;36m0\u001b[0m\u001b[1;33m,\u001b[0m\u001b[1;36m3\u001b[0m\u001b[1;33m)\u001b[0m\u001b[1;33m:\u001b[0m\u001b[1;33m\u001b[0m\u001b[1;33m\u001b[0m\u001b[0m\n\u001b[0;32m     12\u001b[0m     \u001b[1;32mfor\u001b[0m \u001b[0mb\u001b[0m \u001b[1;32min\u001b[0m \u001b[0mrange\u001b[0m\u001b[1;33m(\u001b[0m\u001b[1;36m0\u001b[0m\u001b[1;33m,\u001b[0m\u001b[1;36m3\u001b[0m\u001b[1;33m)\u001b[0m\u001b[1;33m:\u001b[0m\u001b[1;33m\u001b[0m\u001b[1;33m\u001b[0m\u001b[0m\n\u001b[1;32m---> 13\u001b[1;33m         \u001b[0mmatriz\u001b[0m\u001b[1;33m[\u001b[0m\u001b[0ma\u001b[0m\u001b[1;33m]\u001b[0m\u001b[1;33m[\u001b[0m\u001b[0mb\u001b[0m\u001b[1;33m]\u001b[0m \u001b[1;33m=\u001b[0m \u001b[0mint\u001b[0m\u001b[1;33m(\u001b[0m\u001b[0minput\u001b[0m\u001b[1;33m(\u001b[0m\u001b[1;34mf\"Digite um valor: \"\u001b[0m\u001b[1;33m)\u001b[0m\u001b[1;33m)\u001b[0m\u001b[1;33m\u001b[0m\u001b[1;33m\u001b[0m\u001b[0m\n\u001b[0m\u001b[0;32m     14\u001b[0m \u001b[0mprint\u001b[0m\u001b[1;33m(\u001b[0m\u001b[0mmatriz\u001b[0m\u001b[1;33m)\u001b[0m\u001b[1;33m\u001b[0m\u001b[1;33m\u001b[0m\u001b[0m\n",
      "\u001b[1;31mIndexError\u001b[0m: list assignment index out of range"
     ]
    }
   ],
   "source": [
    "#086 - Matriz em Python\n",
    "lista = [[],[],[]]\n",
    "\n",
    "for c in range(0,3):\n",
    "    for l in range(0,3):\n",
    "        valor = int(input(f\"Digite um valor para a posição {c,l}: \"))\n",
    "        lista[c].append(valor)\n",
    "print(f'{lista[0]}\\n{lista[1]}\\n{lista[2]}')\n",
    "\n",
    "matriz = [[],[],[]]\n",
    "for a in range(0,3):\n",
    "    for b in range(0,3):\n",
    "        matriz[a][b] = int(input(f\"Digite um valor: \"))\n",
    "print(matriz)"
   ]
  },
  {
   "cell_type": "code",
   "execution_count": 5,
   "id": "ed66383b",
   "metadata": {},
   "outputs": [
    {
     "name": "stdout",
     "output_type": "stream",
     "text": [
      "Digite um valor [0,0]: 1\n",
      "Digite um valor [0,1]: 2\n",
      "Digite um valor [0,2]: 3\n",
      "Digite um valor [1,0]: 4\n",
      "Digite um valor [1,1]: 5\n",
      "Digite um valor [1,2]: 6\n",
      "Digite um valor [2,0]: 7\n",
      "Digite um valor [2,1]: 8\n",
      "Digite um valor [2,2]: 9\n",
      "-=-=-=-=-=-=-=-=-=-=-=-=-=-=-=-=-=-=-=-=-=-=-=-=-=-=-=-=-=-=\n",
      "[  1  ][  2  ][  3  ]\n",
      "[  4  ][  5  ][  6  ]\n",
      "[  7  ][  8  ][  9  ]\n",
      "-=-=-=-=-=-=-=-=-=-=-=-=-=-=-=-=-=-=-=-=-=-=-=-=-=-=-=-=-=-=\n",
      "A soma dos valores pares 20\n",
      "A soma dos valores da terceira coluna é 18\n",
      "O maior valor da segunda linha é 6\n"
     ]
    }
   ],
   "source": [
    "#087 - Mais sobre Matriz em Python\n",
    "'''matriz = [[],[],[]]\n",
    "soma = 0\n",
    "soma1 = 0\n",
    "for a in range(0,3):\n",
    "    for b in range(0,3):\n",
    "        núm = int(input(f'Digite um valor para {c,t} '))\n",
    "        matriz[a].append(núm)\n",
    "print('=-'*30)\n",
    "print(f'{matriz[0]}\\n{matriz[1]}\\n{matriz[2]}')\n",
    "print('=-'*30)\n",
    "for sublist in matriz:\n",
    "    num1 = sublist[2]  # Acessa o terceiro elemento (índice 2) de cada sublista\n",
    "    soma1 += num1\n",
    "    for num in sublist:\n",
    "        if b % 2 == 0:\n",
    "            soma+= num\n",
    "print(f'A soma dos valores pares é {soma}')\n",
    "print(f'A soma dos valores da terceira coluna é {soma1}')\n",
    "print(f'O maior valor da segunda linha é ')'''\n",
    "\n",
    "#Curso em vídeo\n",
    "matriz = [[0,0,0],[0,0,0],[0,0,0]]\n",
    "spar = mai = scol = 0\n",
    "for l in range(0,3):\n",
    "    for c in range(0,3):\n",
    "        matriz[l][c] = int(input(f'Digite um valor [{l},{c}]: '))\n",
    "print('-='*30)\n",
    "for l in range(0,3):\n",
    "    for c in range(0,3):\n",
    "        print(f'[{matriz[l][c]:^5}]', end = '')\n",
    "        if matriz[l][c] % 2 == 0:\n",
    "            spar += matriz[l][c]\n",
    "    print()\n",
    "print('-='*30)\n",
    "print(f\"A soma dos valores pares {spar}\")\n",
    "for l in range(0,3):\n",
    "    scol += matriz[l][2]\n",
    "print(f\"A soma dos valores da terceira coluna é {scol}\")\n",
    "for l in range(0,3):\n",
    "    if c == 0:\n",
    "        mai = matriz[1][c]\n",
    "    elif matriz [1][c] > mai:\n",
    "        mai = matriz[1][c]\n",
    "print(f'O maior valor da segunda linha é {mai}')"
   ]
  },
  {
   "cell_type": "code",
   "execution_count": 18,
   "id": "63a898d7",
   "metadata": {},
   "outputs": [
    {
     "name": "stdout",
     "output_type": "stream",
     "text": [
      "-------------------------\n",
      "    JOGA NA MEGA SENA    \n",
      "-------------------------\n",
      "Quantos jogos você quer que eu sorteie? 5\n",
      "SORTEANDO 5 Jogos \n",
      "[4, 8, 37, 41, 50, 52]\n",
      "[3, 12, 28, 29, 33, 41]\n",
      "[1, 18, 42, 44, 47, 59]\n",
      "[3, 5, 7, 27, 30, 50]\n",
      "[13, 20, 42, 46, 50, 52]\n",
      "BOA SORTE\n"
     ]
    }
   ],
   "source": [
    "#088 - Palpites para a Mega Sena\n",
    "import random\n",
    "from time import sleep\n",
    "mega = []\n",
    "jogos = []\n",
    "print('-'*25)\n",
    "print('JOGA NA MEGA SENA'.center(25))\n",
    "print('-'*25)\n",
    "jogo = int(input('Quantos jogos você quer que eu sorteie? '))\n",
    "print(f'SORTEANDO {jogo} Jogos ')\n",
    "for j in range(0,jogo):\n",
    "    for q in range(0,6):\n",
    "        mega.append(random.randint(1,60))\n",
    "    jogos.append(mega[:])\n",
    "    mega.clear()\n",
    "    jogos[j].sort()# Ordena os números do jogo em ordem crescente\n",
    "    print(jogos[j])\n",
    "    sleep(1)\n",
    "print(\"BOA SORTE\")\n",
    "\n"
   ]
  },
  {
   "cell_type": "code",
   "execution_count": 15,
   "id": "4388881d",
   "metadata": {},
   "outputs": [
    {
     "name": "stdout",
     "output_type": "stream",
     "text": [
      "Nome: Wémenson\n",
      "Nota 1: 8\n",
      "Nota 2: 9\n",
      "Quer continuar? [S/N] s\n",
      "Nome: Davi\n",
      "Nota 1: 9\n",
      "Nota 2: 10\n",
      "Quer continuar? [S/N] n\n",
      "-=-=-=-=-=-=-=-=-=-=-=-=-=-=-=-=-=-=-=-=-=-=-=-=-=-=-=-=-=-=\n",
      "No. Nome         Média\n",
      "-=-=-=-=-=-=-=-=-=-=-=-=-=-=-=-=-=-=-=-=-=-=-=-=-=-=\n",
      "0   Wémenson       8.5\n",
      "1   Davi           9.5\n",
      "------------------------------\n",
      "Mostrar notas de qual aluno? (999 interrompe): 1\n",
      "Notas de Davi são [9, 10]\n",
      "------------------------------\n",
      "Mostrar notas de qual aluno? (999 interrompe): 999\n",
      "FINALIZANDO...\n",
      "<<< VOLTE SEMPRE >>>\n"
     ]
    }
   ],
   "source": [
    "#089 - Boletim com listas compostas\n",
    "ficha = list()\n",
    "while True:\n",
    "    nome = (str(input('Nome: ')))\n",
    "    nota1 = (int(input('Nota 1: ')))\n",
    "    nota2 = (int(input('Nota 2: ')))\n",
    "    média = (nota1+nota2)/2\n",
    "    ficha.append([nome,[nota1, nota2],média])\n",
    "    resp = str(input('Quer continuar? [S/N] ')).upper().strip()\n",
    "    if resp in 'Nn':\n",
    "        break\n",
    "print('-='*30)\n",
    "print(f'{\"No.\":<4}{\"Nome\":<10}{\"Média\":>8}')\n",
    "print('-='*26)\n",
    "for i, a in enumerate(ficha):\n",
    "    print(f'{i:<4}{a[0]:<10}{a[2]:>8.1f}')\n",
    "while True:\n",
    "    print('-'*30)\n",
    "    opc = int(input('Mostrar notas de qual aluno? (999 interrompe): '))\n",
    "    if opc == 999:\n",
    "        print('FINALIZANDO...')\n",
    "        break\n",
    "    if opc <= len(ficha) - 1:\n",
    "        print(f'Notas de {ficha[opc][0]} são {ficha[opc][1]}')\n",
    "print(\"<<< VOLTE SEMPRE >>>\")"
   ]
  },
  {
   "cell_type": "code",
   "execution_count": 5,
   "id": "c049106e",
   "metadata": {},
   "outputs": [
    {
     "name": "stdout",
     "output_type": "stream",
     "text": [
      "o Gustavo tem 22 anos.\n",
      "dict_keys(['nome', 'sexo', 'idade'])\n",
      "dict_items([('nome', 'Gustavo'), ('sexo', 'M'), ('idade', 22)])\n",
      "nome = Leandro\n",
      "idade = 22\n",
      "peso = 98.5\n",
      "{'uf': 'Rio de Janeiro', 'sigla': 'RJ'}\n",
      "{'uf': 'São Paulo', 'sigla': 'SP'}\n",
      "São Paulo\n",
      "Unidade Federativa: Ceará\n",
      "Sigla do Estado: CE\n",
      "Unidade Federativa: Pará\n",
      "Sigla do Estado: PA\n",
      "Unidade Federativa: Rio de Janeiro\n",
      "Sigla do Estado: RJ\n",
      "O campo ufc tem o valor de Ceará.\n",
      "O campo saida tem o valor de CE.\n",
      "Ceará\n",
      "CE\n",
      "O campo ufc tem o valor de Pará.\n",
      "O campo saida tem o valor de PA.\n",
      "Pará\n",
      "PA\n",
      "O campo ufc tem o valor de Rio de Janeiro.\n",
      "O campo saida tem o valor de RJ.\n",
      "Rio de Janeiro\n",
      "RJ\n"
     ]
    }
   ],
   "source": [
    "#19 - Dicionários\n",
    "pessoas = {'nome':'Gustavo','sexo':'M','idade':22}\n",
    "print(f'o {pessoas[\"nome\"]} tem {pessoas[\"idade\"]} anos.')\n",
    "print(pessoas.keys())\n",
    "print(pessoas.items())\n",
    "del pessoas['sexo']\n",
    "pessoas['nome'] = 'Leandro'\n",
    "pessoas['peso'] = 98.5\n",
    "for k,v in pessoas.items():\n",
    "    print(f'{k} = {v}')\n",
    "\n",
    "brasil = []\n",
    "estado1 = {'uf': 'Rio de Janeiro', 'sigla': 'RJ'}\n",
    "estado2 = {'uf': 'São Paulo', 'sigla': 'SP'}\n",
    "\n",
    "brasil.append(estado1)\n",
    "brasil.append(estado2)\n",
    "\n",
    "print(estado1)\n",
    "print(estado2)\n",
    "print(brasil[1]['uf'])\n",
    "\n",
    "estado = dict()\n",
    "brasil = list()\n",
    "for c in range(0,3):\n",
    "    estado['ufc'] = str(input('Unidade Federativa: '))\n",
    "    estado['saida'] = str(input('Sigla do Estado: '))\n",
    "    brasil.append(estado.copy())\n",
    "for e in brasil:\n",
    "    for k, v in e.items():\n",
    "        print(f'O campo {k} tem o valor de {v}.')\n",
    "    for v in e.values():\n",
    "        print(v)\n",
    "        \n"
   ]
  },
  {
   "cell_type": "code",
   "execution_count": null,
   "id": "1c359037",
   "metadata": {},
   "outputs": [],
   "source": [
    "#090 - Dicionário em Python\n",
    "aluno = dict()\n",
    "\n",
    "aluno['nome'] = str(input('Nome: '))\n",
    "aluno['média'] = float(input('Média do {aluno[\"nome\"]}: '))\n",
    "aluno['situação'] = 'APROVADO' if aluno['média'] >= 7 else ('RECUPERAÇÃO' if 5 <= aluno['média'] < 7 else 'REPROVADO')\n",
    "print('-='*25)\n",
    "print(f' - Nome é igual a {aluno[\"nome\"]}')\n",
    "print(f' - média é igual a {aluno[\"média\"]}')\n",
    "print(f' - {aluno[\"nome\"]} está {aluno[\"situação\"]}')\n",
    "\n",
    "for k, v in aluno.items():\n",
    "    print(f' - {k} é igual a {v}')\n",
    "\n",
    "\n",
    "'''if aluno['média'] >=7.0:\n",
    "    print(f' - {aluno[\"nome\"]} está APROVADO')\n",
    "else: \n",
    "    print(f' - {aluno[\"nome\"]} está REPROVADO')'''\n",
    "\n"
   ]
  },
  {
   "cell_type": "code",
   "execution_count": null,
   "id": "5dfa1c8e",
   "metadata": {},
   "outputs": [],
   "source": [
    "'''estado = dict()\n",
    "brasil = list()\n",
    "for c in range(0,3):\n",
    "    estado['ufc'] = str(input('Unidade Federativa: '))\n",
    "    estado['saida'] = str(input('Sigla do Estado: '))\n",
    "    brasil.append(estado.copy())'''"
   ]
  },
  {
   "cell_type": "code",
   "execution_count": 8,
   "id": "a62cd557",
   "metadata": {},
   "outputs": [
    {
     "name": "stdout",
     "output_type": "stream",
     "text": [
      "Valores sorteads:\n",
      "jogador1 tirou 5 no dado\n",
      "jogador2 tirou 6 no dado\n",
      "jogador3 tirou 2 no dado\n",
      "jogador4 tirou 3 no dado\n",
      "-=-=-=-=-=-=-=-=-=-=-=-=-=-=-=-=-=-=-=-=\n",
      " == RANKING DOS JOGADORES ==  \n",
      "1° lugar: jogador2 com 6\n",
      "2° lugar: jogador1 com 5\n",
      "3° lugar: jogador4 com 3\n",
      "4° lugar: jogador3 com 2\n",
      "\n",
      "\n",
      "Versão Curso em vídeo\n",
      "Valores sorteados: \n",
      "jogador1 tirou 6 no dado\n",
      "jogador2 tirou 6 no dado\n",
      "jogador3 tirou 4 no dado\n",
      "jogador4 tirou 5 no dado\n",
      "-=-=-=-=-=-=-=-=-=-=-=-=-=-=-=-=-=-=-=-=-=-=-=-=-=-=-=-=-=-=\n",
      " == RANKING DOS JOGADORES == \n",
      "1 lugar: jogador1 com 6\n",
      "2 lugar: jogador2 com 6\n",
      "3 lugar: jogador4 com 5\n",
      "4 lugar: jogador3 com 4\n"
     ]
    }
   ],
   "source": [
    "#091 - Jogo de Dados em Python\n",
    "#Lista []\n",
    "#tuple ()\n",
    "#Dicionário {}\n",
    "from random import randint\n",
    "from time import sleep\n",
    "jogos1 = {}\n",
    "c = 1\n",
    "\n",
    "for cont in range(1,5):\n",
    "    jogada = randint(1,6)\n",
    "    jogos1[\"jogador\" + str(cont)] = jogada\n",
    "print(f\"Valores sorteads:\")\n",
    "for k, v in jogos1.items():\n",
    "    print(f'{k} tirou {v} no dado')\n",
    "    sleep(1)\n",
    "print('-='*20)\n",
    "print(f'{\"== RANKING DOS JOGADORES ==\":^30}')\n",
    "jogos2 = dict(sorted(jogos1.items(),key=lambda item: item[1], reverse=True))\n",
    "for k, v in jogos2.items():\n",
    "    print(f'{c}° lugar: {k} com {v}')\n",
    "    c+=1\n",
    "    sleep(1)\n",
    "print('\\n')\n",
    "print(\"Versão Curso em vídeo\")\n",
    "from random import randint\n",
    "from operator import itemgetter\n",
    "jogo = {'jogador1': randint(1,6), 'jogador2': randint(1,6),'jogador3': randint(1,6), 'jogador4': randint(1,6)}\n",
    "ranking = list()\n",
    "print(f'Valores sorteados: ')\n",
    "for k, v in jogo.items():\n",
    "    print(f'{k} tirou {v} no dado')\n",
    "    sleep(1)\n",
    "ranking = sorted(jogo.items(), key=itemgetter(1), reverse = True)\n",
    "print('-='*30)\n",
    "print(' == RANKING DOS JOGADORES == ')\n",
    "for i, v in enumerate(ranking):\n",
    "    print(f'{i+1} lugar: {v[0]} com {v[1]}')\n"
   ]
  },
  {
   "cell_type": "code",
   "execution_count": 18,
   "id": "207cde41",
   "metadata": {},
   "outputs": [
    {
     "name": "stdout",
     "output_type": "stream",
     "text": [
      "Nome: Wémenson\n",
      "Ano de nascimento: 1996\n",
      "Carteira de Trabalho (0 não tem): 123\n",
      "Ano da contratação: 2021\n",
      "Salário: R$1710\n",
      "-=-=-=-=-=-=-=-=-=-=-=-=-=-=-=-=-=-=-=-=-=-=-=-=-=\n",
      "- nome tem o valor de Wémenson\n",
      "- ano tem o valor de 1996\n",
      "- ctps tem o valor de 123\n",
      "- contratação tem o valor de 2021\n",
      "- salario tem o valor de 1710.0\n",
      "- aposentadoria tem o valor de 60\n"
     ]
    }
   ],
   "source": [
    "#092 - Cadastro de Trabalhador em Python\n",
    "import datetime\n",
    "cadastro = dict()\n",
    "cadastro['nome'] = str(input(\"Nome: \"))\n",
    "cadastro['ano'] = int(input(\"Ano de nascimento: \"))\n",
    "cadastro['ctps'] = int(input(\"Carteira de Trabalho (0 não tem): \"))\n",
    "if cadastro['ctps'] != 0:\n",
    "    cadastro['contratação'] = int(input(\"Ano da contratação: \"))\n",
    "    cadastro['salario'] = float(input(\"Salário: R$\"))\n",
    "    current_year = datetime.datetime.now().year\n",
    "    cadastro['aposentadoria'] = (cadastro['contratação'] + 35) - (cadastro['ano'])\n",
    "else:\n",
    "    cadastro['aposentadoria'] = 'Ainda não tem CTPS'    \n",
    "print('-='*25)\n",
    "for k, v in cadastro.items():\n",
    "     print(f'- {k} tem o valor de {v}')"
   ]
  },
  {
   "cell_type": "code",
   "execution_count": 10,
   "id": "61089829",
   "metadata": {},
   "outputs": [
    {
     "name": "stdout",
     "output_type": "stream",
     "text": [
      "Nome do Jogador: João\n",
      "Quantas partidas João joogu? 3\n",
      "    Quantos gols na partida 0? 2\n",
      "    Quantos gols na partida 1? 3\n",
      "    Quantos gols na partida 2? 1\n",
      "-=-=-=-=-=-=-=-=-=-=-=-=-=-=-=-=-=-=-=-=-=-=-=-=-=-=-=-=-=-=\n",
      "O campo nome tem o valor João\n",
      "O campo gols tem o valor [2, 3, 1]\n",
      "O campo total tem o valor 6\n",
      "-=-=-=-=-=-=-=-=-=-=-=-=-=-=-=-=-=-=-=-=-=-=-=-=-=-=-=-=-=-=\n"
     ]
    }
   ],
   "source": [
    "#093 - Cadastro de Jogador de Futebol\n",
    "\"\"\"jogo = dict()\n",
    "# Lista para armazenar os gols de cada partida\n",
    "gol = list()\n",
    "jogo['nome'] = str(input('Nome: '))\n",
    "# Pergunta quantas partidas o jogador jogou\n",
    "partida = int(input(f'Quantas partidas {jogo[\"nome\"]} jogou? '))\n",
    "# Loop para obter a quantidade de gols em cada partida\n",
    "for p in range(partida):\n",
    "    num_gol = int(input(f\"Quantos gols na {p+1}° partida ? \"))\n",
    "    gol.append(num_gol)\n",
    "# Soma a quantidade total de gols do jogador\n",
    "quant_total_gols = sum(gol)\n",
    "# Adiciona o dicionário jogador_gols dentro do dicionário jogo\n",
    "jogo['gols'] = gol[:]\n",
    "\n",
    "print(\"-=\"*20)\n",
    "for k, v in jogo.items():\n",
    "    print(f'O campo {k} tem o valor  {v}')\n",
    "print(\"-=\"*20)\n",
    "\n",
    "print(f\"O jogador {jogo['nome']} jogou {partida} partidas.\")\n",
    "for b, c in enumerate(jogo['gols']):\n",
    "    print(f\"=> Na partida {b+1}, fez {c} gols.\")\n",
    "print(f'Foi um total de {quant_total_gols} gols.')\"\"\"\n",
    "#093 - Cadastro de Jogador de Futebol / solução Guanabara\n",
    "\n",
    "jogador = dict()\n",
    "partidas = list()\n",
    "jogador['nome'] = str(input('Nome do Jogador: '))\n",
    "tot = int(input(f'Quantas partidas {jogador[\"nome\"]} joogu? '))\n",
    "for c in range(0,tot):\n",
    "    partidas.append(int(input(f'    Quantos gols na partida {c}? ')))\n",
    "jogador['gols'] = partidas[:]\n",
    "jogador['total'] = sum(partidas)\n",
    "print('-='*30)\n",
    "for k, v in jogador.items():\n",
    "    print(f'O campo {k} tem o valor {v}')\n",
    "print('-='*30)\n",
    "print(f'O jogador {jogador[\"nome\"]} jogou {len(jogador)} partidas')\n",
    "for i, v in enumerate(jogador['gols']):\n",
    "    print(f'      => Na partida {i}, fez {v} ')\n",
    "\n"
   ]
  },
  {
   "cell_type": "code",
   "execution_count": 9,
   "id": "1d3320c1",
   "metadata": {},
   "outputs": [
    {
     "name": "stdout",
     "output_type": "stream",
     "text": [
      "Nome: Wémenson\n",
      "Sexo: [M/F]m\n",
      "Idade: 27\n",
      "Quer continuar? [S/N]s\n",
      "Nome: Davi\n",
      "Sexo: [M/F]m\n",
      "Idade: 26\n",
      "Quer continuar? [S/N]s\n",
      "Nome: clarice\n",
      "Sexo: [M/F]f\n",
      "Idade: 22\n",
      "Quer continuar? [S/N]s\n",
      "Nome: Claudia\n",
      "Sexo: [M/F]f\n",
      "Idade: 48\n",
      "Quer continuar? [S/N]s\n",
      "Nome: Oliver\n",
      "Sexo: [M/F]m\n",
      "Idade: 15\n",
      "Quer continuar? [S/N]n\n",
      "-=-=-=-=-=-=-=-=-=-=-=-=-=-=-=-=-=-=-=-=-=-=-=-=-=-=-=-=-=-=\n",
      "Ao todo temos 5 pessoas cadastrada\n",
      "A média de idade é de 27.60 anos\n",
      "As mulheres cadastradas foram clarice Claudia\n",
      "Lista das pessoas que estão acima da média:         \n",
      "nome = Claudia;sexo = F;idade = 48;ENCERRADO\n"
     ]
    }
   ],
   "source": [
    "#094 - Unindo dicionários e listas\n",
    "pessoas = []  #Lista vazia para armazenar as informações das pessoas\n",
    "cont = 0 \n",
    "\n",
    "'''while True:\n",
    "    pessoa = {} #Dicionário para armazenar os dados da pessoa atual\n",
    "    pessoa['nome'] = str(input('Nome: '))\n",
    "    sexo = str(input('Sexo: [M/F] ')).upper(). strip()\n",
    "    while sexo not in 'MF':\n",
    "        print('ERRO! Por favor, digite apenas M ou F.')\n",
    "        sexo= str(input('Sexo: [M/F] ')).upper(). strip()\n",
    "    pessoa['sexo'] = sexo\n",
    "    pessoa['idade'] = int(input('Idade: '))\n",
    "    pessoas.append(pessoa) #Adiciona o dicionário da pessoa à lista de pessoas\n",
    "    cont += 1\n",
    "    continuar = str(input(\"Quer continuar? [S/N] \")).upper(). strip()\n",
    "    while continuar not in 'SN':\n",
    "        print('ERRO! Responda apenas S ou N.')\n",
    "        continuar = str(input(\"Quer continuar? [S/N] \")).upper(). strip()\n",
    "    if continuar == 'N':\n",
    "        break\n",
    "print(pessoas)\n",
    "print('=-'*20)\n",
    "print(f'A) Ao todo temos {cont} pessoas cadastradas.')\n",
    "idades = [] #lista para armazenar apenas as idades das pessoas\n",
    "for pessoa in pessoas:\n",
    "    idades.append(pessoa['idade'])\n",
    "media_idades = sum(idades) / len(idades)\n",
    "print(f'B) A média de idade é de {media_idades} anos.')\n",
    "#print(f'C) As mulheres cadastradas foram ')'''\n",
    "\n",
    "\n",
    "#094 - SOLUÇÃO GUANABARA\n",
    "galera = list()\n",
    "pessoa = dict()\n",
    "soma = média = 0\n",
    "while True:\n",
    "    pessoa.clear()\n",
    "    pessoa['nome'] = str(input('Nome: '))\n",
    "    while True:\n",
    "        pessoa['sexo'] = str(input('Sexo: [M/F]')).upper()[0]\n",
    "        if pessoa['sexo'] in 'MF':\n",
    "            break\n",
    "        print('ERRO! Por favor, digite apenas M ou F.')\n",
    "    pessoa['idade'] = int(input('Idade: '))\n",
    "    soma += pessoa['idade']\n",
    "    galera.append(pessoa.copy())\n",
    "    while True:\n",
    "        resp = str(input('Quer continuar? [S/N]')).upper()[0]\n",
    "        if resp in \"SN\":\n",
    "            break\n",
    "        print('ERRO! Responsa apenas S ou N.')\n",
    "    if resp == 'N':\n",
    "        break\n",
    "print('-='*30)\n",
    "print(f\"Ao todo temos {len(galera)} pessoas cadastrada\")\n",
    "média = soma / len(galera)\n",
    "print(f'A média de idade é de {média:5.2f} anos')\n",
    "print(f'As mulheres cadastradas foram', end ='')\n",
    "for p in galera:\n",
    "    if p['sexo'] in 'Ff':\n",
    "        print(f' {p[\"nome\"]}', end='')\n",
    "print()\n",
    "print(f'Lista das pessoas que estão acima da média: ', end='')\n",
    "for p in galera:\n",
    "    if p['idade'] >= média:\n",
    "        print('        ')\n",
    "        for k, v in p.items():\n",
    "            print(f'{k} = {v};', end='')\n",
    "print()\n",
    "print('ENCERRADO')"
   ]
  },
  {
   "cell_type": "code",
   "execution_count": 7,
   "id": "a1faf729",
   "metadata": {},
   "outputs": [
    {
     "name": "stdout",
     "output_type": "stream",
     "text": [
      "Nome do jogador: Neymar\n",
      "Quantas partidas Neymar jogou? 3\n",
      "Quantos gols na 1° partida: 3\n",
      "Quantos gols na 2° partida: 2\n",
      "Quantos gols na 3° partida: 1\n",
      "Quer continuar (S/N): Messi\n",
      "Responta errada. Vamos novamente!\n",
      "Quer continuar (S/N): 2\n",
      "Responta errada. Vamos novamente!\n",
      "Quer continuar (S/N): 5\n",
      "Responta errada. Vamos novamente!\n",
      "Quer continuar (S/N): 4\n",
      "Responta errada. Vamos novamente!\n",
      "Quer continuar (S/N): n\n",
      "-=-=-=-=-=-=-=-=-=-=-=-=-=-=-=-=-=-=-=-=-=-=-=-=-=-=-=-=-=-=\n",
      "O campo Neymar tem o valor {'nome': 'Neymar', 'gols': [3, 2, 1], 'total': 6}\n",
      "-=-=-=-=-=-=-=-=-=-=-=-=-=-=-=-=-=-=-=-=-=-=-=-=-=-=-=-=-=-=\n",
      "{'Neymar': {'nome': 'Neymar', 'gols': [3, 2, 1], 'total': 6}}\n"
     ]
    }
   ],
   "source": [
    "#095 - Aprimorando os Dicionários\n",
    "jogo = dict() #geral\n",
    "jogador = dict() #interno\n",
    "partidas = list()\n",
    "\n",
    "while True:\n",
    "    nome = str(input('Nome do jogador: '))\n",
    "    jogador['nome'] = nome\n",
    "    \n",
    "    tot = int((input(f\"Quantas partidas {jogador['nome']} jogou? \")))\n",
    "    \n",
    "    partidas = []\n",
    "    \n",
    "    for c in range(tot):\n",
    "        partidas.append(int(input(f'Quantos gols na {c+1}° partida: ')))\n",
    "    jogador['gols'] = partidas.copy()     #para copiar da maneira adaquada\n",
    "    jogador['total'] = sum(partidas)\n",
    "    resp = str(input('Quer continuar (S/N): ')).upper()[0]\n",
    "    \n",
    "    jogo[nome] = jogador.copy()\n",
    "    \n",
    "    while resp not in \"SN\":\n",
    "        print('Responta errada. Vamos novamente!')\n",
    "        resp = str(input('Quer continuar (S/N): ')).upper()[0]\n",
    "        if resp in'SN':\n",
    "            break\n",
    "    if resp == \"N\":\n",
    "        break\n",
    "print('-='*30)\n",
    "for k, v in jogo.items():\n",
    "    print(f'O campo {k} tem o valor {v}')\n",
    "print('-='*30)\n",
    "\n",
    "print(jogo)\n"
   ]
  },
  {
   "cell_type": "code",
   "execution_count": 16,
   "id": "87d19284",
   "metadata": {},
   "outputs": [
    {
     "name": "stdout",
     "output_type": "stream",
     "text": [
      "------------------------------\n",
      "     Curso em vídeo\n",
      "------------------------------\n",
      "     Aprenda python\n",
      "------------------------------\n",
      "     Gustavo Guanabara\n",
      "------------------------------\n",
      "----------------------------\n",
      "SISTEMA DE ALUNOS\n",
      "----------------------------\n",
      "------------------------------\n",
      "     Curso em vídeo\n",
      "------------------------------\n",
      "------------------------------\n",
      "     Aprenda python\n",
      "------------------------------\n",
      "------------------------------\n",
      "     Gustavo Guanabara\n",
      "------------------------------\n",
      "A = 4 e B = 5\n",
      "A soma A + B = 9\n",
      "PARTE PRÁTICA 01\n",
      "2 1 7 \n",
      "FIM!\n",
      "8 0 \n",
      "FIM!\n",
      "4 4 7 6 2 \n",
      "FIM!\n",
      "PARTE PRÁTICA 02\n",
      "Recebi os valores de (2, 1, 7) e são ao todo 3 números\n",
      "Recebi os valores de (8, 0) e são ao todo 2 números\n",
      "Recebi os valores de (4, 4, 7, 6, 2) e são ao todo 5 números\n",
      "PARTE PRÁTICA 03\n",
      "[12, 6, 18, 2, 0, 4]\n"
     ]
    }
   ],
   "source": [
    "#20 - Funções (Parte 1)\n",
    "def lin():\n",
    "    print('-'*30)\n",
    "\n",
    "#programa principal\n",
    "lin()\n",
    "print('     Curso em vídeo')\n",
    "lin()\n",
    "print('     Aprenda python')\n",
    "lin()\n",
    "print('     Gustavo Guanabara')\n",
    "lin()\n",
    "\n",
    "\n",
    "def mensagem(msg):\n",
    "    print('----------------------------')\n",
    "    print(msg)\n",
    "    print('----------------------------')\n",
    "\n",
    "    \n",
    "mensagem('SISTEMA DE ALUNOS')  \n",
    "\n",
    "\n",
    "def título(txt):\n",
    "    print('-'*30)\n",
    "    print(txt)\n",
    "    print('-'*30)\n",
    "título('     Curso em vídeo')\n",
    "título('     Aprenda python')\n",
    "título('     Gustavo Guanabara')\n",
    "\n",
    "'''a = 4\n",
    "b = 5\n",
    "s = a + b\n",
    "print(s)\n",
    "a = 8\n",
    "b = 9\n",
    "s = a + b\n",
    "print(s)\n",
    "a = 2\n",
    "b = 1\n",
    "s = a + b\n",
    "print(s)'''\n",
    "\n",
    "def soma(a,b):\n",
    "    print(f'A = {a} e B = {b}')\n",
    "    s = a + b\n",
    "    print(f'A soma A + B = {s}')\n",
    "\n",
    "#Programa principal\n",
    "soma(4,5)\n",
    "\n",
    "print(\"PARTE PRÁTICA 01\")\n",
    "\n",
    "def contador(*num):\n",
    "    for valor in num:\n",
    "        print(f'{valor}', end=' ')\n",
    "    print('\\nFIM!')\n",
    "\n",
    "contador(2,1,7)\n",
    "contador(8,0)\n",
    "contador(4,4,7,6,2)\n",
    "\n",
    "print(\"PARTE PRÁTICA 02\")\n",
    "def quant(*núm):\n",
    "    tam = len(núm)\n",
    "    print(f'Recebi os valores de {núm} e são ao todo {tam} números')\n",
    "\n",
    "quant(2,1,7)\n",
    "quant(8,0)\n",
    "quant(4,4,7,6,2)\n",
    "\n",
    "print(\"PARTE PRÁTICA 03\")\n",
    "\n",
    "def dobra(lst):\n",
    "    pos = 0\n",
    "    while pos < len(lst):\n",
    "        lst[pos]*=2\n",
    "        pos+= 1\n",
    "        \n",
    "        \n",
    "valores = [6,3,9,1,0,2]\n",
    "dobra(valores)\n",
    "print(valores)\n",
    "\n",
    "\n",
    "                    "
   ]
  },
  {
   "cell_type": "code",
   "execution_count": 1,
   "id": "2272559a",
   "metadata": {},
   "outputs": [
    {
     "name": "stdout",
     "output_type": "stream",
     "text": [
      "Controle de terrenos\n",
      "--------------------\n",
      "LARGURA (m): 5\n",
      "COMPRIMENTO (m: )6\n",
      "A área de um terreno 5.00mx6.00m é de 30.0m2\n"
     ]
    }
   ],
   "source": [
    "#096 - Função que calcula área\n",
    "def medidas(l,c):\n",
    "    a = l*c\n",
    "    print(f'A área de um terreno {l:.2f}mx{c:.2f}m é de {a}m2')\n",
    "    \n",
    "#Programa principal\n",
    "print('Controle de terrenos')\n",
    "print('-'*20)\n",
    "l = float(input('LARGURA (m): '))\n",
    "c = float(input('COMPRIMENTO (m: )'))\n",
    "medidas(l,c)"
   ]
  },
  {
   "cell_type": "code",
   "execution_count": 9,
   "id": "d6aafdd6",
   "metadata": {},
   "outputs": [
    {
     "name": "stdout",
     "output_type": "stream",
     "text": [
      "~~~~~~~~~~~~~~~~~~~~~\n",
      "  Gustavo Guanabara\n",
      "~~~~~~~~~~~~~~~~~~~~~\n"
     ]
    }
   ],
   "source": [
    "#097 - Um print especial\n",
    "\n",
    "def escreva(msg):\n",
    "    tam = len(msg)+4\n",
    "    print('~'*tam)\n",
    "    print(f\"  {msg}\")\n",
    "    print('~'*tam)\n",
    "    \n",
    "#Programa principal\n",
    "escreva('Gustavo Guanabara')"
   ]
  },
  {
   "cell_type": "code",
   "execution_count": 28,
   "id": "cc6dfb18",
   "metadata": {},
   "outputs": [
    {
     "name": "stdout",
     "output_type": "stream",
     "text": [
      "-=-=-=-=-=-=-=-=-=-=-=-=-=-=-=-=-=-=-=-=-=-=-=-=-=\n",
      "Contagem de 1 até 10 de 1 em 1\n",
      "1 2 3 4 5 6 7 8 9 10 FIM\n",
      "-=-=-=-=-=-=-=-=-=-=-=-=-=-=-=-=-=-=-=-=-=-=-=-=-=\n",
      "Contagem de 0 até 10 de 2 em 2\n",
      "0 2 4 6 8 10 FIM\n",
      "Agora é a sua vez de personalizar a contagem!\n",
      "Início: 0\n",
      "Fim: 10\n",
      "Passo: 2\n",
      "Intervalo de tempo (em segundo)0.5\n",
      "-=-=-=-=-=-=-=-=-=-=-=-=-=-=-=-=-=-=-=-=-=-=-=-=-=\n",
      "Contagem de 0 até 10 de 2 em 2\n",
      "0 2 4 6 8 10 FIM\n"
     ]
    }
   ],
   "source": [
    "#098 - Função de Contador\n",
    "import time #importe o módulo time\n",
    "\n",
    "def contador (inicio, final, passo):\n",
    "    print('-='*25)\n",
    "    print(f'Contagem de {inicio} até {final} de {passo} em {passo}')\n",
    "    \n",
    "    if passo == 0:\n",
    "        print(\"O passo não pode ser zaro. Utilizando passo 1.\")\n",
    "        passo = 1\n",
    "        \n",
    "    if inicio <= final:\n",
    "        for c in range(inicio,final+1,passo):\n",
    "            print(f'{c}',end=' ', flush = True)\n",
    "            time.sleep(intervalo)\n",
    "        print('FIM!')\n",
    "    else: \n",
    "        for c in range(inicio,final-1,passo):\n",
    "            print(f'{c}', end=' ', flush = True)\n",
    "            time.sleep(intervalo)\n",
    "        print('FIM')\n",
    "\n",
    "contador(1, 10, 1)\n",
    "contador(0, 10, 2)\n",
    "\n",
    "#Programa principal\n",
    "print('Agora é a sua vez de personalizar a contagem!')\n",
    "i = int(input('Início: '))\n",
    "f = int(input('Fim: '))\n",
    "p = int(input('Passo: '))\n",
    "intervalo = float(input('Intervalo de tempo (em segundo)'))\n",
    "\n",
    "contador(i, f, p)\n",
    "\n",
    "\n",
    "#Gustavo Guanabará\n",
    "\n",
    "\n"
   ]
  },
  {
   "cell_type": "code",
   "execution_count": 9,
   "id": "f19882ad",
   "metadata": {},
   "outputs": [
    {
     "name": "stdout",
     "output_type": "stream",
     "text": [
      "-=-=-=-=-=-=-=-=-=-=-=-=-=-=-=-=-=-=-=-=-=-=-=-=-=\n",
      "Analisando os valores passados...\n",
      "(2, 1, 7) foram informados 3 valores ao todo.\n",
      "O maior valor informado foi 7\n",
      "-=-=-=-=-=-=-=-=-=-=-=-=-=-=-=-=-=-=-=-=-=-=-=-=-=\n",
      "Analisando os valores passados...\n",
      "(8, 0) foram informados 2 valores ao todo.\n",
      "O maior valor informado foi 8\n",
      "-=-=-=-=-=-=-=-=-=-=-=-=-=-=-=-=-=-=-=-=-=-=-=-=-=\n",
      "Analisando os valores passados...\n",
      "(4, 4, 7, 6, 2) foram informados 5 valores ao todo.\n",
      "O maior valor informado foi 7\n",
      "Analisando os valores passados...\n",
      "2 9 2 7 1 Analisando os valores passados...\n",
      "4 7 0 "
     ]
    }
   ],
   "source": [
    "#099 - Função que descobre o maior\n",
    "\n",
    "'''def num(*num):\n",
    "    print(\"-=\"*25)\n",
    "    print(\"Analisando os valores passados...\")\n",
    "    print(f\"{num} foram informados {len(num)} valores ao todo.\")\n",
    "    print(f\"O maior valor informado foi {max(num)}\")\n",
    "\n",
    "num(2,1,7)\n",
    "num(8,0)\n",
    "num(4,4,7,6,2)'''\n",
    "\n",
    "from time import sleep\n",
    "\n",
    "\n",
    "def maior (*núm):\n",
    "    cont = maior = 0\n",
    "    print('Analisando os valores passados...')\n",
    "    for valor in núm:\n",
    "        print(f'{valor}',end = \" \", flush = True)\n",
    "        sleep(0.3)\n",
    "        if cont == 0:\n",
    "            maior = valor\n",
    "        else:\n",
    "            if valor > maior:\n",
    "                maior = valor\n",
    "            cont +=1\n",
    "    print(f\"Foram informados {cont} valores ao todo..\")\n",
    "    print(f'O')\n",
    "\n",
    "#Programa principal\n",
    "maior(2,9,2,7,1)\n",
    "maior(4,7,0)\n",
    "#maior(1,2)\n",
    "#maior(6)"
   ]
  },
  {
   "cell_type": "code",
   "execution_count": 13,
   "id": "39a7f5e0",
   "metadata": {},
   "outputs": [
    {
     "name": "stdout",
     "output_type": "stream",
     "text": [
      "Sorteando 5 valores da lista: [7, 10, 5, 4, 7] PRONTO!\n",
      "Somandos os valores pares de [7, 10, 5, 4, 7] tem-se 19\n"
     ]
    }
   ],
   "source": [
    "#100 - Funções para sortear e somar\n",
    "\n",
    "'''import random\n",
    "lista = [random.randint(1, 10) for _ in range(5)]\n",
    "print(f\"Sorteando {len(lista)} valores da lista {lista} PRONTO!\")'''\n",
    "\n",
    "from random import randint\n",
    "from time import sleep\n",
    "\n",
    "listasorteio = []\n",
    "soma_pares = 0\n",
    "\n",
    "for c in range(5):\n",
    "    numero_aleatorio = random.randint(1,10)\n",
    "    listasorteio.append(numero_aleatorio)\n",
    "    sleep(0.3)\n",
    "    \n",
    "print(f\"Sorteando {len(listasorteio)} valores da lista: {listasorteio} PRONTO!\")\n",
    "for valor in listasorteio:\n",
    "    if valor % 2:\n",
    "        soma_pares += valor\n",
    "print(f\"Somandos os valores pares de {listasorteio} tem-se {soma_pares }\")        "
   ]
  },
  {
   "cell_type": "code",
   "execution_count": 2,
   "id": "6d0b8419",
   "metadata": {},
   "outputs": [
    {
     "ename": "IndentationError",
     "evalue": "unindent does not match any outer indentation level (<tokenize>, line 18)",
     "output_type": "error",
     "traceback": [
      "\u001b[1;36m  File \u001b[1;32m\"<tokenize>\"\u001b[1;36m, line \u001b[1;32m18\u001b[0m\n\u001b[1;33m    c = 1\u001b[0m\n\u001b[1;37m    ^\u001b[0m\n\u001b[1;31mIndentationError\u001b[0m\u001b[1;31m:\u001b[0m unindent does not match any outer indentation level\n"
     ]
    }
   ],
   "source": [
    "#21 - Funções \n",
    "\n",
    "# help(print) len / print / e outros são funções que chamamos para resolver determinada situação\n",
    "\n",
    "# print(input.__doc__) não funcionou\n",
    "\n",
    "# docstrings é uma string de documentação / help mostra a docstring ou seja, o manual da função\n",
    "\n",
    "def contador (i,f,p):\n",
    "     '''\n",
    "    -> Faz uma contagem e mostra na tela\n",
    "    :Param i: incício da contagem;\n",
    "    :Param f: fim da contagem;\n",
    "    :Param p: passo a contagem;\n",
    "    :return: sem retorno.\n",
    "    Função criada por Gustavo Guanabara do canal CursoemVídeo.\n",
    "    '''\n",
    "    c = 1\n",
    "    while c <= f:\n",
    "        print(f'{c}', end = '..')\n",
    "        c += p\n",
    "    print(\"FIM\")\n",
    "    \n",
    "contador(0,100,10)\n",
    "help(contador)\n",
    "\n",
    "#PARÂMETROS OPCIONAIS\n",
    "\n",
    "def somar(a=0,b=0,c=0):\n",
    "    s = a + b + c\n",
    "    print(f'A soma vale {s}')\n",
    "\n",
    "somar(3,2,5)\n",
    "somar(8,4)\n",
    "somar()\n",
    "\n",
    "\n",
    "#Escopo de variáveis\n",
    "def teste():\n",
    "    #Escopo local / variável local\n",
    "    x = 8\n",
    "    print(f\"Na função teste, n vale {n}\")\n",
    "    print(f\"Na função teste, x vale {x}\")\n",
    "\n",
    "#Escopo global / variável global\n",
    "n = 2\n",
    "print(f\"No programa principal, n vale {n}\")\n",
    "teste()\n",
    "#print(f\"No programa principal, x vale {x}\")\n",
    "\n",
    "def testa(b):\n",
    "    \n",
    "    global a\n",
    "    a = 8\n",
    "    b += 4\n",
    "    c = 2\n",
    "    print(f\"A dentro vale {a}\")\n",
    "    print(f\"B dentro vale {b}\")\n",
    "    print(f\"C dentro vale {c}\")\n",
    "    \n",
    "a = 5\n",
    "testa(a)\n",
    "print(f'A Fora vale {a}')\n",
    "\n",
    "\n",
    "#Retornando valores\n",
    "\n",
    "def somar(a=0,b=0,c=0):\n",
    "    s = a + b + c\n",
    "    print(f'A soma vale {s}')\n",
    "    return s\n",
    "\n",
    "somar(3,2,5)\n",
    "somar(8,4)\n",
    "somar()\n",
    "\n",
    "#Exercicio na prática\n",
    "\n",
    "\n",
    "\n",
    "\n"
   ]
  },
  {
   "cell_type": "code",
   "execution_count": 6,
   "id": "0f3c12f0",
   "metadata": {},
   "outputs": [
    {
     "name": "stdout",
     "output_type": "stream",
     "text": [
      "Meus cálculos deram 10, 8 e 4\n"
     ]
    }
   ],
   "source": [
    "#Retornando valores\n",
    "def somar(a=0,b=0,c=0):\n",
    "    s = a + b + c\n",
    "    return s\n",
    "\n",
    "r1 = somar(3,2,5)\n",
    "r2 = somar(1,7)\n",
    "r3 = somar(4)\n",
    "print(f\"Meus cálculos deram {r1}, {r2} e {r3}\")\n"
   ]
  },
  {
   "cell_type": "code",
   "execution_count": 17,
   "id": "6ff16bab",
   "metadata": {},
   "outputs": [
    {
     "name": "stdout",
     "output_type": "stream",
     "text": [
      "Digite um número: 5\n",
      "O fatorial de 5 é igual a 120\n",
      "Os resultados são None, None e None\n"
     ]
    }
   ],
   "source": [
    "#Parte prática da aula 21 - parte 2\n",
    "\n",
    "#Exemplo 1\n",
    "def fatorial (num = 1):\n",
    "    f = 1 #variável local\n",
    "    for c in range(num,0,-1):\n",
    "        f *= c\n",
    "    return f\n",
    "\n",
    "n = int(input(\"Digite um número: \"))\n",
    "print(f\"O fatorial de {n} é igual a {fatorial(n)}\")\n",
    "\n",
    "'''f = 1 #variável local\n",
    "for c in range(5,0,-1):\n",
    "    print(f)\n",
    "    f *= c\n",
    "    print(f\"{f} *= {c} = {f}\")'''"
   ]
  },
  {
   "cell_type": "code",
   "execution_count": 19,
   "id": "2a6cb30f",
   "metadata": {},
   "outputs": [
    {
     "name": "stdout",
     "output_type": "stream",
     "text": [
      "Os resultados são 120, 24 e 1\n"
     ]
    }
   ],
   "source": [
    "#Exemplo 2\n",
    "def fatorial(num=1):\n",
    "    f = 1\n",
    "    for c in range (num,0,-1):\n",
    "        f*= c\n",
    "    return f #Não entendi\n",
    "\n",
    "f1 = fatorial (5)  # não será mostrado o resultado, mas sim será salvo o valor do parâmetro na variavel \n",
    "f2 = fatorial (4)\n",
    "f3 = fatorial ()\n",
    "print(f'Os resultados são {f1}, {f2} e {f3}')\n",
    "\n"
   ]
  },
  {
   "cell_type": "code",
   "execution_count": 20,
   "id": "30b5bcce",
   "metadata": {},
   "outputs": [
    {
     "name": "stdout",
     "output_type": "stream",
     "text": [
      "Digite um número: 2\n",
      "É par!\n"
     ]
    }
   ],
   "source": [
    "#exemplo 3\n",
    "def par (n=0):\n",
    "    if n % 2 == 0:\n",
    "        return True\n",
    "    else:\n",
    "        return False\n",
    "num = int(input(\"Digite um número: \"))\n",
    "if par(num):\n",
    "    print('É par!')\n",
    "else:\n",
    "    print('Não é par!')\n",
    "\n",
    "\n"
   ]
  },
  {
   "cell_type": "code",
   "execution_count": 9,
   "id": "6505bfd6",
   "metadata": {},
   "outputs": [
    {
     "name": "stdout",
     "output_type": "stream",
     "text": [
      "Em que ano você nasceu? 1996\n",
      "Com 27 anos: VOTO OBRIGATÓRIO\n"
     ]
    }
   ],
   "source": [
    "#101 - Funções para votação\n",
    "\"\"\"Crie um programa que tenha uma função chamada voto() que vai receber como \n",
    "parâmetro o ano de nascimento de uma pessoa, retornando um valor literal indicando se \n",
    "uma pessoa tem voto NEGADO, OPCIONAL e OBRIGATÓRIO nas eleições\"\"\"\n",
    "\n",
    "'''from datetime import date\n",
    "\n",
    "def voto(Ano_Nasc):\n",
    "    Ano_Atual = date.today().year\n",
    "    idade = Ano_Atual - Ano_Nasc\n",
    "    if idade <16:\n",
    "        return \"VOTO NEGADO\"\n",
    "    elif idade >= 16 and idade <18 or idade >=70:\n",
    "        return \"VOTO É OPCIONAL\"\n",
    "    else:\n",
    "        return \"VOTO É OBRIGATÓRIO\"\n",
    "\n",
    "print('_______________________________')\n",
    "Ano_Nasc = int(input(\"Em que ano você nasceu? \"))\n",
    "AnoAtual = date.today().year\n",
    "resultado = voto(Ano_Nasc)\n",
    "print(f\"Quem nasceu no ano de {Ano_Nasc} tem {AnoAtual-Ano_Nasc} e o {resultado}\")\n",
    "'''\n",
    "\n",
    "#PRÁTICA DO GUSTAVO GUANABARA\n",
    "\n",
    "def voto (ano):\n",
    "    from datetime import date\n",
    "    atual = date.today().year\n",
    "    idade = atual - ano\n",
    "    if idade < 16:\n",
    "        return f\"Com {idade} anos: NÃO VOTA\"\n",
    "    elif 16 <= idade < 18 or idade > 65:\n",
    "        return f\"Com {idade} anos: VOTO OBRIGATÓRIO\"\n",
    "    else:\n",
    "        return f\"Com {idade} anos: VOTO OBRIGATÓRIO\"\n",
    "nasc = int(input(\"Em que ano você nasceu? \"))\n",
    "print(voto(nasc))\n"
   ]
  },
  {
   "cell_type": "code",
   "execution_count": 19,
   "id": "fc2ab44f",
   "metadata": {},
   "outputs": [
    {
     "name": "stdout",
     "output_type": "stream",
     "text": [
      "5 x 4 x 3 x 2 x 1  = 120\n",
      "Help on function fatorial in module __main__:\n",
      "\n",
      "fatorial(n, show=False)\n",
      "    -> Calcula o fatorial de um  número\n",
      "    ;param n: O número a ser calculado.\n",
      "    ;param show: (opcional mostrar ou não um número n)\n",
      "    ;return: O valor do Fatorial de um número n.\n",
      "\n"
     ]
    }
   ],
   "source": [
    "#102 - Função para Fatorial\n",
    "\"\"\"Exercício Python 102: Crie um programa que tenha uma função fatorial() que receba dois parâmetros:\n",
    "o primeiro que indique o número a calcular e outro chamado show, que será um valor lógico (opcional) \n",
    "indicando se será mostrado ou não na tela o processo de cálculo do fatorial.\"\"\"\n",
    "\n",
    "def fatorial(n,show=False):\n",
    "    '''\n",
    "    -> Calcula o fatorial de um  número\n",
    "    ;param n: O número a ser calculado.\n",
    "    ;param show: (opcional mostrar ou não um número n)\n",
    "    ;return: O valor do Fatorial de um número n.\n",
    "    '''\n",
    "    \n",
    "    f = 1\n",
    "    for c in range(n,0,-1):\n",
    "        if show:\n",
    "            print(c, end=' ')\n",
    "            if c>1:\n",
    "                print(f'x ', end = '')\n",
    "            else:\n",
    "                print(' = ', end = '')\n",
    "        f*=c\n",
    "    return f\n",
    "#Programa principal\n",
    "print(fatorial(5, show = True))\n",
    "help(fatorial)"
   ]
  },
  {
   "cell_type": "code",
   "execution_count": null,
   "id": "afda7f1e",
   "metadata": {},
   "outputs": [],
   "source": []
  },
  {
   "cell_type": "code",
   "execution_count": null,
   "id": "4148d87a",
   "metadata": {},
   "outputs": [],
   "source": []
  },
  {
   "cell_type": "code",
   "execution_count": null,
   "id": "ebd1618a",
   "metadata": {},
   "outputs": [],
   "source": []
  },
  {
   "cell_type": "code",
   "execution_count": null,
   "id": "fe22bb98",
   "metadata": {},
   "outputs": [],
   "source": []
  },
  {
   "cell_type": "code",
   "execution_count": null,
   "id": "b422f768",
   "metadata": {},
   "outputs": [],
   "source": []
  }
 ],
 "metadata": {
  "celltoolbar": "Raw Cell Format",
  "kernelspec": {
   "display_name": "Python 3 (ipykernel)",
   "language": "python",
   "name": "python3"
  },
  "language_info": {
   "codemirror_mode": {
    "name": "ipython",
    "version": 3
   },
   "file_extension": ".py",
   "mimetype": "text/x-python",
   "name": "python",
   "nbconvert_exporter": "python",
   "pygments_lexer": "ipython3",
   "version": "3.9.7"
  }
 },
 "nbformat": 4,
 "nbformat_minor": 5
}
